{
 "cells": [
  {
   "cell_type": "markdown",
   "id": "22fa4219",
   "metadata": {},
   "source": [
    "# Продажи недвижимости в России (поиск выбросов)\n",
    "**Источник:** <br>https://www.kaggle.com/\n",
    "<br>\n",
    "<br>\n",
    "**Цели:** <br>● провести предобработку данных, для последующего их удобного анализа\n",
    "<br>\n",
    "● проанализировать данные в соответсвии с имеющимися задачами\n",
    "<br>\n",
    "<br>\n",
    "**Задачи:** <br>● получить предсказания модели на валидационной выборке\n",
    "<br>● сравнить с предсказаниями модели, выдающей среднюю цену\n",
    "<br>\n",
    "<br>\n",
    "**Входные данные:** <br>входные данные представляют собой 2 файла csv, содержащие в себе информацию о недвижимости 2х регионов\n",
    "<br>\n",
    "<br>\n",
    "**Используемые библиотеки:** <br>pandas\n",
    "<br>numpy\n",
    "<br>sklearn\n",
    "<br>matplotlib.pyplot\n",
    "<br>seaborn\n",
    "<br>sklearn.model_selection\n",
    "<br>sklearn.linear_model\n",
    "<br>sklearn.metrics\n",
    "<br>sklearn.dummy\n",
    "<br>\n",
    "<br>\n",
    "Для начала импортируем библиотеки"
   ]
  },
  {
   "cell_type": "code",
   "execution_count": 1,
   "id": "7a09455c",
   "metadata": {},
   "outputs": [],
   "source": [
    "import pandas as pd\n",
    "import numpy as np\n",
    "from sklearn import datasets\n",
    "from sklearn.model_selection import train_test_split\n",
    "from sklearn.linear_model import LinearRegression\n",
    "from sklearn.metrics import mean_squared_error\n",
    "from sklearn.dummy import DummyRegressor\n",
    "import math"
   ]
  },
  {
   "cell_type": "markdown",
   "id": "659f48e4",
   "metadata": {},
   "source": [
    "Считаем файл, содержащий в себе информацию о недвижимости в Челябинской области, запишем его в переменную df"
   ]
  },
  {
   "cell_type": "code",
   "execution_count": 2,
   "id": "20bd20a0",
   "metadata": {},
   "outputs": [],
   "source": [
    "df = pd.read_csv(\"out2.csv\")"
   ]
  },
  {
   "cell_type": "markdown",
   "id": "94c38dcd",
   "metadata": {},
   "source": [
    "Промерим, что файл считался корректно"
   ]
  },
  {
   "cell_type": "code",
   "execution_count": 3,
   "id": "775213a5",
   "metadata": {
    "scrolled": true
   },
   "outputs": [
    {
     "data": {
      "text/html": [
       "<div>\n",
       "<style scoped>\n",
       "    .dataframe tbody tr th:only-of-type {\n",
       "        vertical-align: middle;\n",
       "    }\n",
       "\n",
       "    .dataframe tbody tr th {\n",
       "        vertical-align: top;\n",
       "    }\n",
       "\n",
       "    .dataframe thead th {\n",
       "        text-align: right;\n",
       "    }\n",
       "</style>\n",
       "<table border=\"1\" class=\"dataframe\">\n",
       "  <thead>\n",
       "    <tr style=\"text-align: right;\">\n",
       "      <th></th>\n",
       "      <th>Unnamed: 0</th>\n",
       "      <th>price</th>\n",
       "      <th>region</th>\n",
       "      <th>building_type</th>\n",
       "      <th>rooms</th>\n",
       "      <th>area</th>\n",
       "      <th>object_type</th>\n",
       "      <th>prise_meter</th>\n",
       "      <th>month</th>\n",
       "      <th>year</th>\n",
       "      <th>flat</th>\n",
       "    </tr>\n",
       "  </thead>\n",
       "  <tbody>\n",
       "    <tr>\n",
       "      <th>0</th>\n",
       "      <td>508</td>\n",
       "      <td>1800000</td>\n",
       "      <td>5282</td>\n",
       "      <td>3</td>\n",
       "      <td>2</td>\n",
       "      <td>53.0</td>\n",
       "      <td>1</td>\n",
       "      <td>33962.264151</td>\n",
       "      <td>9</td>\n",
       "      <td>2018</td>\n",
       "      <td>0</td>\n",
       "    </tr>\n",
       "    <tr>\n",
       "      <th>1</th>\n",
       "      <td>537</td>\n",
       "      <td>2600000</td>\n",
       "      <td>5282</td>\n",
       "      <td>1</td>\n",
       "      <td>3</td>\n",
       "      <td>65.6</td>\n",
       "      <td>11</td>\n",
       "      <td>39634.146341</td>\n",
       "      <td>9</td>\n",
       "      <td>2018</td>\n",
       "      <td>2</td>\n",
       "    </tr>\n",
       "    <tr>\n",
       "      <th>2</th>\n",
       "      <td>559</td>\n",
       "      <td>1600000</td>\n",
       "      <td>5282</td>\n",
       "      <td>3</td>\n",
       "      <td>3</td>\n",
       "      <td>62.0</td>\n",
       "      <td>1</td>\n",
       "      <td>25806.451613</td>\n",
       "      <td>9</td>\n",
       "      <td>2018</td>\n",
       "      <td>2</td>\n",
       "    </tr>\n",
       "    <tr>\n",
       "      <th>3</th>\n",
       "      <td>565</td>\n",
       "      <td>1400000</td>\n",
       "      <td>5282</td>\n",
       "      <td>3</td>\n",
       "      <td>1</td>\n",
       "      <td>41.0</td>\n",
       "      <td>1</td>\n",
       "      <td>34146.341463</td>\n",
       "      <td>9</td>\n",
       "      <td>2018</td>\n",
       "      <td>2</td>\n",
       "    </tr>\n",
       "    <tr>\n",
       "      <th>4</th>\n",
       "      <td>570</td>\n",
       "      <td>1650000</td>\n",
       "      <td>5282</td>\n",
       "      <td>3</td>\n",
       "      <td>2</td>\n",
       "      <td>43.0</td>\n",
       "      <td>1</td>\n",
       "      <td>38372.093023</td>\n",
       "      <td>9</td>\n",
       "      <td>2018</td>\n",
       "      <td>2</td>\n",
       "    </tr>\n",
       "  </tbody>\n",
       "</table>\n",
       "</div>"
      ],
      "text/plain": [
       "   Unnamed: 0    price  region  building_type  rooms  area  object_type  \\\n",
       "0         508  1800000    5282              3      2  53.0            1   \n",
       "1         537  2600000    5282              1      3  65.6           11   \n",
       "2         559  1600000    5282              3      3  62.0            1   \n",
       "3         565  1400000    5282              3      1  41.0            1   \n",
       "4         570  1650000    5282              3      2  43.0            1   \n",
       "\n",
       "    prise_meter  month  year  flat  \n",
       "0  33962.264151      9  2018     0  \n",
       "1  39634.146341      9  2018     2  \n",
       "2  25806.451613      9  2018     2  \n",
       "3  34146.341463      9  2018     2  \n",
       "4  38372.093023      9  2018     2  "
      ]
     },
     "execution_count": 3,
     "metadata": {},
     "output_type": "execute_result"
    }
   ],
   "source": [
    "df.head()"
   ]
  },
  {
   "cell_type": "markdown",
   "id": "e15773fe",
   "metadata": {},
   "source": [
    "Удалим лишний столбец \"Unnamed: 0\""
   ]
  },
  {
   "cell_type": "code",
   "execution_count": 4,
   "id": "2c8950e4",
   "metadata": {},
   "outputs": [],
   "source": [
    "df = df.drop([\"Unnamed: 0\"], axis=1)"
   ]
  },
  {
   "cell_type": "markdown",
   "id": "5aa1ed22",
   "metadata": {},
   "source": [
    "Выделим признаки и целевой признак.\n",
    "Целевой признак сохраним в переменную target, а остальные — в features"
   ]
  },
  {
   "cell_type": "code",
   "execution_count": 5,
   "id": "34b6e0f4",
   "metadata": {},
   "outputs": [],
   "source": [
    "target = df[\"price\"]\n",
    "features = df.drop([\"price\"], axis=1)"
   ]
  },
  {
   "cell_type": "markdown",
   "id": "88f77a98",
   "metadata": {},
   "source": [
    "Выберем рандомно 25 процентов от всех данных"
   ]
  },
  {
   "cell_type": "code",
   "execution_count": 6,
   "id": "b122ea1a",
   "metadata": {
    "scrolled": true
   },
   "outputs": [],
   "source": [
    "np.random.seed(31415)\n",
    "features_train, features_valid, target_train, target_valid = train_test_split(features, target, test_size=0.25)"
   ]
  },
  {
   "cell_type": "markdown",
   "id": "4dde30ef",
   "metadata": {},
   "source": [
    "Инициализируем модель линейной регрессии"
   ]
  },
  {
   "cell_type": "code",
   "execution_count": 7,
   "id": "6009a0fd",
   "metadata": {},
   "outputs": [],
   "source": [
    "model = LinearRegression()"
   ]
  },
  {
   "cell_type": "markdown",
   "id": "8c0be200",
   "metadata": {},
   "source": [
    "Обучим модель на обучающей выборке"
   ]
  },
  {
   "cell_type": "code",
   "execution_count": 8,
   "id": "5aa059fc",
   "metadata": {},
   "outputs": [
    {
     "data": {
      "text/plain": [
       "LinearRegression()"
      ]
     },
     "execution_count": 8,
     "metadata": {},
     "output_type": "execute_result"
    }
   ],
   "source": [
    "model.fit(features_train, target_train)"
   ]
  },
  {
   "cell_type": "markdown",
   "id": "421a9a4c",
   "metadata": {},
   "source": [
    " Получим предсказания модели на валидационной выборке"
   ]
  },
  {
   "cell_type": "code",
   "execution_count": 9,
   "id": "c650da22",
   "metadata": {},
   "outputs": [],
   "source": [
    "predictions_valid = model.predict(features_valid)"
   ]
  },
  {
   "cell_type": "markdown",
   "id": "515a2dca",
   "metadata": {},
   "source": [
    "Посчитаем метрику RMSE на валидационной выборке"
   ]
  },
  {
   "cell_type": "code",
   "execution_count": 10,
   "id": "8acc8692",
   "metadata": {
    "scrolled": true
   },
   "outputs": [
    {
     "name": "stdout",
     "output_type": "stream",
     "text": [
      "101845.80689902995\n"
     ]
    }
   ],
   "source": [
    "x = mean_squared_error(target_valid, predictions_valid)\n",
    "print(math.sqrt(x))"
   ]
  },
  {
   "cell_type": "markdown",
   "id": "d8959cc6",
   "metadata": {},
   "source": [
    "Проверим модель на адекватность, инициализировав и обучив модель DummyRegressor"
   ]
  },
  {
   "cell_type": "code",
   "execution_count": 11,
   "id": "c7516661",
   "metadata": {},
   "outputs": [],
   "source": [
    "dummy_regr = DummyRegressor(strategy=\"mean\")\n",
    "dummy_regr.fit(features_train, target_train)\n",
    "predictions_valid = dummy_regr.predict(features_valid)\n"
   ]
  },
  {
   "cell_type": "markdown",
   "id": "0021a506",
   "metadata": {},
   "source": [
    "Посчитаем метрику RMSE на валидационной выборке для второй модели"
   ]
  },
  {
   "cell_type": "code",
   "execution_count": 12,
   "id": "bf3c77ea",
   "metadata": {},
   "outputs": [
    {
     "name": "stdout",
     "output_type": "stream",
     "text": [
      "581252.1394452903\n"
     ]
    }
   ],
   "source": [
    "x = mean_squared_error(target_valid, predictions_valid)\n",
    "print(math.sqrt(x))"
   ]
  },
  {
   "cell_type": "markdown",
   "id": "bb7954ae",
   "metadata": {},
   "source": [
    "101844.86922769148 - резальтат ошибки для нашей модели линейной регрессии. Это конечно не идеально, но все таки, если говорить про цену квартир, которая колеблиться в пределах нескольких миллионов рублей, 100 тысяч - это не так плохо. Для сравнения простая модель DummyRegressor выдала возможное отклонение в размере 581252.1394452903, т.е. почти 600 тысяч, что уже является достаточно значительной суммой. \n",
    "<br>\n",
    "Повторим то же самое для данных по Адыгее:"
   ]
  },
  {
   "cell_type": "code",
   "execution_count": 13,
   "id": "f92ff7bc",
   "metadata": {},
   "outputs": [
    {
     "name": "stdout",
     "output_type": "stream",
     "text": [
      "267953.2703447829\n"
     ]
    }
   ],
   "source": [
    "df1 = pd.read_csv(\"out3.csv\")\n",
    "df1 = df1.drop([\"Unnamed: 0\"], axis=1)\n",
    "target = df1[\"price\"]\n",
    "features = df1.drop([\"price\"], axis=1)\n",
    "np.random.seed(31415)\n",
    "features_train, features_valid, target_train, target_valid = train_test_split(features, target, test_size=0.25)\n",
    "model = LinearRegression()\n",
    "model.fit(features_train, target_train)\n",
    "predictions_valid = model.predict(features_valid)\n",
    "x = mean_squared_error(target_valid, predictions_valid)\n",
    "print(math.sqrt(x))"
   ]
  },
  {
   "cell_type": "raw",
   "id": "7d22a7b0",
   "metadata": {},
   "source": [
    "Без удаления столбца \"rooms\" результат точнее. А теперь для модели DummyRegressor:"
   ]
  },
  {
   "cell_type": "code",
   "execution_count": 14,
   "id": "ad3e5b9b",
   "metadata": {},
   "outputs": [
    {
     "name": "stdout",
     "output_type": "stream",
     "text": [
      "1032119.7090667846\n"
     ]
    }
   ],
   "source": [
    "dummy_regr = DummyRegressor(strategy=\"mean\")\n",
    "dummy_regr.fit(features_train, target_train)\n",
    "predictions_valid = dummy_regr.predict(features_valid)\n",
    "x = mean_squared_error(target_valid, predictions_valid)\n",
    "print(math.sqrt(x))\n"
   ]
  },
  {
   "cell_type": "markdown",
   "id": "252c727c",
   "metadata": {},
   "source": [
    "267953.2703447829 - это уже хуже, чем в Челябинской области, причем в 2.5 раза. Более того, DummyRegressor справился лучше, и там погрешность всего 1032119.7090667846. То есть наша модель может ошибиться на 270 тысяч, а DummyRegressor всего на 100 тысяч. Тем не менее, это все равно не атк критично, если мы говорим про цены на квартиры "
   ]
  },
  {
   "cell_type": "code",
   "execution_count": 15,
   "id": "dcf4e77e",
   "metadata": {},
   "outputs": [
    {
     "name": "stdout",
     "output_type": "stream",
     "text": [
      "247139.06902227987\n"
     ]
    },
    {
     "name": "stderr",
     "output_type": "stream",
     "text": [
      "/var/folders/rt/mvnmln8j70d9fmnh5b6pl1qr0000gn/T/ipykernel_95166/2758342032.py:1: FutureWarning: The frame.append method is deprecated and will be removed from pandas in a future version. Use pandas.concat instead.\n",
      "  df2 = df1.append(df, ignore_index=True)\n"
     ]
    }
   ],
   "source": [
    "df2 = df1.append(df, ignore_index=True) \n",
    "target = df2[\"price\"]\n",
    "features = df2.drop([\"price\"], axis=1)\n",
    "np.random.seed(31415)\n",
    "features_train, features_valid, target_train, target_valid = train_test_split(features, target, test_size=0.25)\n",
    "model = LinearRegression()\n",
    "model.fit(features_train, target_train)\n",
    "predictions_valid = model.predict(features_valid)\n",
    "x = mean_squared_error(target_valid, predictions_valid)\n",
    "print(math.sqrt(x))"
   ]
  },
  {
   "cell_type": "markdown",
   "id": "28aa08d0",
   "metadata": {},
   "source": [
    "## Вывод\n",
    "Я познакомилась с машинным обучением, попробовала реализовать простейшую модель, предсказывающую цену за квартиру по существующим параметрам. Я столкнулась с тем, что не всегда эта модель дейтсвительно может отработать хорошо. При данных о недвижимости в Адыгее, размер ошибки был достаточно большим. Тем не менее, я приобрела новые знания и навыки."
   ]
  },
  {
   "cell_type": "markdown",
   "id": "e6138fed",
   "metadata": {},
   "source": [
    "\n",
    "\n"
   ]
  }
 ],
 "metadata": {
  "kernelspec": {
   "display_name": "Python 3 (ipykernel)",
   "language": "python",
   "name": "python3"
  },
  "language_info": {
   "codemirror_mode": {
    "name": "ipython",
    "version": 3
   },
   "file_extension": ".py",
   "mimetype": "text/x-python",
   "name": "python",
   "nbconvert_exporter": "python",
   "pygments_lexer": "ipython3",
   "version": "3.12.7"
  }
 },
 "nbformat": 4,
 "nbformat_minor": 5
}
