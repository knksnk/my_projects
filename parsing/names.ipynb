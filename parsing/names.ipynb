{
 "cells": [
  {
   "cell_type": "markdown",
   "id": "44f428ea",
   "metadata": {},
   "source": [
    "# Популярные имена\n",
    "**Цели:** <br>● провести предобработку данных, для последующего их удобного анализа\n",
    "<br>\n",
    "● проанализировать данные в соответсвии с имеющимися задачами\n",
    "<br>\n",
    "<br>\n",
    "**Цели:** <br>● посчитать сколько детей в 2022 году получили такое же имя как у меня (\"Анастасия\").\n",
    "<br>\n",
    "● проверить истинность утверждения «Самыми популярными детскими именами на протяжении последних трех лет являются Александр и София (Софья)».\n",
    "<br>\n",
    "● вычислить на сколько процентов изменилась популярность женского имени Есения и мужского имени Сергей с начала 2022 года по сравнению с аналогичным периодом 2021 года?\n",
    "<br>\n",
    "<br>\n",
    "**Входные данные:** <br>входные данные представляют собой файл csv, содержащий в себе информацию о различных спортсменах и их участии в олимпиадах.\n",
    "<br>\n",
    "<br>\n",
    "**Используемые библиотеки:** <br>pandas\n",
    "<br>\n",
    "<br>\n",
    "Для начала импортируем библиотеки"
   ]
  },
  {
   "cell_type": "code",
   "execution_count": 1,
   "id": "81d3d84c",
   "metadata": {},
   "outputs": [],
   "source": [
    "import pandas as pd\n",
    "import numpy as np\n"
   ]
  },
  {
   "cell_type": "markdown",
   "id": "81c87889",
   "metadata": {},
   "source": [
    "Для предобработки и анализа мы имеем 2 файла. Один содержит статистику по женским именам, а другой по мужским. Разобъем наш проект на 2 глобальных части: в первой поработаем с данными по женским именам, а во второй со статистикой мужских имен.\n",
    "<br>\n",
    "<br>\n",
    "## Статистика по женским именам\n",
    "Считаем файл с данными, который мы предварительно сохранили. Заметим, что его кодировка отличается от привычной нам. ТАкже вместо запятых, характерных для файлов \"csv\", там используются \";\". Учтем это при считывании. Запишем его в переменную df1:"
   ]
  },
  {
   "cell_type": "code",
   "execution_count": 2,
   "id": "fccda923",
   "metadata": {},
   "outputs": [],
   "source": [
    "df1 = pd.read_csv(\"/Users/anastasiakula/Desktop/инфа школьная/data-6269-2022-08-26.csv\", encoding='Windows-1251', sep = \";\")\n"
   ]
  },
  {
   "cell_type": "markdown",
   "id": "2fe02462",
   "metadata": {},
   "source": [
    "Выведем основную информацию о данных:"
   ]
  },
  {
   "cell_type": "code",
   "execution_count": 3,
   "id": "c81e2c41",
   "metadata": {
    "scrolled": true
   },
   "outputs": [
    {
     "name": "stdout",
     "output_type": "stream",
     "text": [
      "<class 'pandas.core.frame.DataFrame'>\n",
      "RangeIndex: 9101 entries, 0 to 9100\n",
      "Data columns (total 12 columns):\n",
      " #   Column              Non-Null Count  Dtype  \n",
      "---  ------              --------------  -----  \n",
      " 0   ID                  9101 non-null   object \n",
      " 1   Name                9101 non-null   object \n",
      " 2   NumberOfPersons     9101 non-null   object \n",
      " 3   global_id           9101 non-null   object \n",
      " 4   Year                9101 non-null   object \n",
      " 5   Month               9101 non-null   object \n",
      " 6   ID_en               1 non-null      object \n",
      " 7   Name_en             1 non-null      object \n",
      " 8   NumberOfPersons_en  1 non-null      object \n",
      " 9   Year_en             1 non-null      object \n",
      " 10  Month_en            1 non-null      object \n",
      " 11  Unnamed: 11         0 non-null      float64\n",
      "dtypes: float64(1), object(11)\n",
      "memory usage: 853.3+ KB\n"
     ]
    }
   ],
   "source": [
    "df1.info()"
   ]
  },
  {
   "cell_type": "markdown",
   "id": "a5e212f1",
   "metadata": {},
   "source": [
    "Описание данных:\n",
    "● id - идентификатор<br>\n",
    "● name - имя<br>\n",
    "● NumberOfPersons - количество человек<br>\n",
    "● global_id - глобальный идентификатор<br>\n",
    "● Year - год<br>\n",
    "● Month - месяц<br>\n",
    "● ID_en - идентификатор (английский)<br>\n",
    "● Name_en - имя (английский)<br>\n",
    "● NumberOfPersons_en - количество человек (английский)<br>\n",
    "● Year_en - год (английский)<br>\n",
    "● Month_en - месяц (английский)<br>\n",
    "● Unnamed: 11 - ?<br>\n",
    "<br>\n",
    "Можно заметить, что данные состоят из 9100 строчек и 12 столбиков. Также присутствуют пропуски в некоторых ячейках, есть также полностью пустые столбики. Заметим также, что типы данных у всех столбцов кроме \"Unnamed: 11\" - \"object\". Запомним это и вернемся к этому вопросу чуть позже.\n"
   ]
  },
  {
   "cell_type": "markdown",
   "id": "16744aab",
   "metadata": {},
   "source": [
    "Посмотрим какой вид имеют наши данные. Для этого выведем первые 10 строк:"
   ]
  },
  {
   "cell_type": "code",
   "execution_count": 4,
   "id": "1c063d67",
   "metadata": {},
   "outputs": [
    {
     "data": {
      "text/html": [
       "<div>\n",
       "<style scoped>\n",
       "    .dataframe tbody tr th:only-of-type {\n",
       "        vertical-align: middle;\n",
       "    }\n",
       "\n",
       "    .dataframe tbody tr th {\n",
       "        vertical-align: top;\n",
       "    }\n",
       "\n",
       "    .dataframe thead th {\n",
       "        text-align: right;\n",
       "    }\n",
       "</style>\n",
       "<table border=\"1\" class=\"dataframe\">\n",
       "  <thead>\n",
       "    <tr style=\"text-align: right;\">\n",
       "      <th></th>\n",
       "      <th>ID</th>\n",
       "      <th>Name</th>\n",
       "      <th>NumberOfPersons</th>\n",
       "      <th>global_id</th>\n",
       "      <th>Year</th>\n",
       "      <th>Month</th>\n",
       "      <th>ID_en</th>\n",
       "      <th>Name_en</th>\n",
       "      <th>NumberOfPersons_en</th>\n",
       "      <th>Year_en</th>\n",
       "      <th>Month_en</th>\n",
       "      <th>Unnamed: 11</th>\n",
       "    </tr>\n",
       "  </thead>\n",
       "  <tbody>\n",
       "    <tr>\n",
       "      <th>0</th>\n",
       "      <td>Код</td>\n",
       "      <td>Имя</td>\n",
       "      <td>Количество человек</td>\n",
       "      <td>global_id</td>\n",
       "      <td>Год</td>\n",
       "      <td>Месяц</td>\n",
       "      <td>ID_en</td>\n",
       "      <td>Name_en</td>\n",
       "      <td>NumberOfPersons_en</td>\n",
       "      <td>Year_en</td>\n",
       "      <td>Month_en</td>\n",
       "      <td>NaN</td>\n",
       "    </tr>\n",
       "    <tr>\n",
       "      <th>1</th>\n",
       "      <td>1</td>\n",
       "      <td>Мария</td>\n",
       "      <td>252</td>\n",
       "      <td>37750254</td>\n",
       "      <td>2015</td>\n",
       "      <td>январь</td>\n",
       "      <td>NaN</td>\n",
       "      <td>NaN</td>\n",
       "      <td>NaN</td>\n",
       "      <td>NaN</td>\n",
       "      <td>NaN</td>\n",
       "      <td>NaN</td>\n",
       "    </tr>\n",
       "    <tr>\n",
       "      <th>2</th>\n",
       "      <td>2</td>\n",
       "      <td>Анастасия</td>\n",
       "      <td>224</td>\n",
       "      <td>37750255</td>\n",
       "      <td>2015</td>\n",
       "      <td>январь</td>\n",
       "      <td>NaN</td>\n",
       "      <td>NaN</td>\n",
       "      <td>NaN</td>\n",
       "      <td>NaN</td>\n",
       "      <td>NaN</td>\n",
       "      <td>NaN</td>\n",
       "    </tr>\n",
       "    <tr>\n",
       "      <th>3</th>\n",
       "      <td>3</td>\n",
       "      <td>Анна</td>\n",
       "      <td>190</td>\n",
       "      <td>37750256</td>\n",
       "      <td>2015</td>\n",
       "      <td>январь</td>\n",
       "      <td>NaN</td>\n",
       "      <td>NaN</td>\n",
       "      <td>NaN</td>\n",
       "      <td>NaN</td>\n",
       "      <td>NaN</td>\n",
       "      <td>NaN</td>\n",
       "    </tr>\n",
       "    <tr>\n",
       "      <th>4</th>\n",
       "      <td>4</td>\n",
       "      <td>Варвара</td>\n",
       "      <td>190</td>\n",
       "      <td>37750257</td>\n",
       "      <td>2015</td>\n",
       "      <td>январь</td>\n",
       "      <td>NaN</td>\n",
       "      <td>NaN</td>\n",
       "      <td>NaN</td>\n",
       "      <td>NaN</td>\n",
       "      <td>NaN</td>\n",
       "      <td>NaN</td>\n",
       "    </tr>\n",
       "    <tr>\n",
       "      <th>5</th>\n",
       "      <td>5</td>\n",
       "      <td>Виктория</td>\n",
       "      <td>186</td>\n",
       "      <td>37750258</td>\n",
       "      <td>2015</td>\n",
       "      <td>январь</td>\n",
       "      <td>NaN</td>\n",
       "      <td>NaN</td>\n",
       "      <td>NaN</td>\n",
       "      <td>NaN</td>\n",
       "      <td>NaN</td>\n",
       "      <td>NaN</td>\n",
       "    </tr>\n",
       "    <tr>\n",
       "      <th>6</th>\n",
       "      <td>483</td>\n",
       "      <td>Амелия</td>\n",
       "      <td>8</td>\n",
       "      <td>62367755</td>\n",
       "      <td>2015</td>\n",
       "      <td>май</td>\n",
       "      <td>NaN</td>\n",
       "      <td>NaN</td>\n",
       "      <td>NaN</td>\n",
       "      <td>NaN</td>\n",
       "      <td>NaN</td>\n",
       "      <td>NaN</td>\n",
       "    </tr>\n",
       "    <tr>\n",
       "      <th>7</th>\n",
       "      <td>484</td>\n",
       "      <td>Камила</td>\n",
       "      <td>8</td>\n",
       "      <td>62367756</td>\n",
       "      <td>2015</td>\n",
       "      <td>май</td>\n",
       "      <td>NaN</td>\n",
       "      <td>NaN</td>\n",
       "      <td>NaN</td>\n",
       "      <td>NaN</td>\n",
       "      <td>NaN</td>\n",
       "      <td>NaN</td>\n",
       "    </tr>\n",
       "    <tr>\n",
       "      <th>8</th>\n",
       "      <td>485</td>\n",
       "      <td>Евангелина</td>\n",
       "      <td>8</td>\n",
       "      <td>62367757</td>\n",
       "      <td>2015</td>\n",
       "      <td>май</td>\n",
       "      <td>NaN</td>\n",
       "      <td>NaN</td>\n",
       "      <td>NaN</td>\n",
       "      <td>NaN</td>\n",
       "      <td>NaN</td>\n",
       "      <td>NaN</td>\n",
       "    </tr>\n",
       "    <tr>\n",
       "      <th>9</th>\n",
       "      <td>486</td>\n",
       "      <td>Альбина</td>\n",
       "      <td>8</td>\n",
       "      <td>62367758</td>\n",
       "      <td>2015</td>\n",
       "      <td>май</td>\n",
       "      <td>NaN</td>\n",
       "      <td>NaN</td>\n",
       "      <td>NaN</td>\n",
       "      <td>NaN</td>\n",
       "      <td>NaN</td>\n",
       "      <td>NaN</td>\n",
       "    </tr>\n",
       "  </tbody>\n",
       "</table>\n",
       "</div>"
      ],
      "text/plain": [
       "    ID        Name     NumberOfPersons  global_id  Year   Month  ID_en  \\\n",
       "0  Код         Имя  Количество человек  global_id   Год   Месяц  ID_en   \n",
       "1    1       Мария                 252   37750254  2015  январь    NaN   \n",
       "2    2   Анастасия                 224   37750255  2015  январь    NaN   \n",
       "3    3        Анна                 190   37750256  2015  январь    NaN   \n",
       "4    4     Варвара                 190   37750257  2015  январь    NaN   \n",
       "5    5    Виктория                 186   37750258  2015  январь    NaN   \n",
       "6  483      Амелия                   8   62367755  2015     май    NaN   \n",
       "7  484      Камила                   8   62367756  2015     май    NaN   \n",
       "8  485  Евангелина                   8   62367757  2015     май    NaN   \n",
       "9  486     Альбина                   8   62367758  2015     май    NaN   \n",
       "\n",
       "   Name_en  NumberOfPersons_en  Year_en  Month_en  Unnamed: 11  \n",
       "0  Name_en  NumberOfPersons_en  Year_en  Month_en          NaN  \n",
       "1      NaN                 NaN      NaN       NaN          NaN  \n",
       "2      NaN                 NaN      NaN       NaN          NaN  \n",
       "3      NaN                 NaN      NaN       NaN          NaN  \n",
       "4      NaN                 NaN      NaN       NaN          NaN  \n",
       "5      NaN                 NaN      NaN       NaN          NaN  \n",
       "6      NaN                 NaN      NaN       NaN          NaN  \n",
       "7      NaN                 NaN      NaN       NaN          NaN  \n",
       "8      NaN                 NaN      NaN       NaN          NaN  \n",
       "9      NaN                 NaN      NaN       NaN          NaN  "
      ]
     },
     "execution_count": 4,
     "metadata": {},
     "output_type": "execute_result"
    }
   ],
   "source": [
    "df1.head(10)"
   ]
  },
  {
   "cell_type": "markdown",
   "id": "14a98b5a",
   "metadata": {},
   "source": [
    "Видно, что названия колонок записаны не в стиле **snake_case**. Исправим это:"
   ]
  },
  {
   "cell_type": "code",
   "execution_count": 5,
   "id": "725fc180",
   "metadata": {},
   "outputs": [
    {
     "data": {
      "text/html": [
       "<div>\n",
       "<style scoped>\n",
       "    .dataframe tbody tr th:only-of-type {\n",
       "        vertical-align: middle;\n",
       "    }\n",
       "\n",
       "    .dataframe tbody tr th {\n",
       "        vertical-align: top;\n",
       "    }\n",
       "\n",
       "    .dataframe thead th {\n",
       "        text-align: right;\n",
       "    }\n",
       "</style>\n",
       "<table border=\"1\" class=\"dataframe\">\n",
       "  <thead>\n",
       "    <tr style=\"text-align: right;\">\n",
       "      <th></th>\n",
       "      <th>id</th>\n",
       "      <th>name</th>\n",
       "      <th>numberofpersons</th>\n",
       "      <th>global_id</th>\n",
       "      <th>year</th>\n",
       "      <th>month</th>\n",
       "      <th>id_en</th>\n",
       "      <th>name_en</th>\n",
       "      <th>numberofpersons_en</th>\n",
       "      <th>year_en</th>\n",
       "      <th>month_en</th>\n",
       "      <th>unnamed: 11</th>\n",
       "    </tr>\n",
       "  </thead>\n",
       "  <tbody>\n",
       "    <tr>\n",
       "      <th>0</th>\n",
       "      <td>Код</td>\n",
       "      <td>Имя</td>\n",
       "      <td>Количество человек</td>\n",
       "      <td>global_id</td>\n",
       "      <td>Год</td>\n",
       "      <td>Месяц</td>\n",
       "      <td>ID_en</td>\n",
       "      <td>Name_en</td>\n",
       "      <td>NumberOfPersons_en</td>\n",
       "      <td>Year_en</td>\n",
       "      <td>Month_en</td>\n",
       "      <td>NaN</td>\n",
       "    </tr>\n",
       "  </tbody>\n",
       "</table>\n",
       "</div>"
      ],
      "text/plain": [
       "    id name     numberofpersons  global_id year  month  id_en  name_en  \\\n",
       "0  Код  Имя  Количество человек  global_id  Год  Месяц  ID_en  Name_en   \n",
       "\n",
       "   numberofpersons_en  year_en  month_en  unnamed: 11  \n",
       "0  NumberOfPersons_en  Year_en  Month_en          NaN  "
      ]
     },
     "execution_count": 5,
     "metadata": {},
     "output_type": "execute_result"
    }
   ],
   "source": [
    "df1.columns = df1.columns.str.lower()\n",
    "df1.head(1)"
   ]
  },
  {
   "cell_type": "code",
   "execution_count": 6,
   "id": "c3ed0a27",
   "metadata": {
    "scrolled": true
   },
   "outputs": [
    {
     "data": {
      "text/plain": [
       "Index(['id', 'name', 'numberofpersons', 'global_id', 'year', 'month', 'id_en',\n",
       "       'name_en', 'numberofpersons_en', 'year_en', 'month_en', 'unnamed: 11'],\n",
       "      dtype='object')"
      ]
     },
     "execution_count": 6,
     "metadata": {},
     "output_type": "execute_result"
    }
   ],
   "source": [
    "df1.columns "
   ]
  },
  {
   "cell_type": "markdown",
   "id": "3c9e4619",
   "metadata": {},
   "source": [
    "Теперь разберемся с лишними стообцами. Поймем, что нам не нужны следующие столбцы:<br>\n",
    "    ● id<br>\n",
    "    ● global_id<br>\n",
    "    ● id_en<br>\n",
    "    ● name_en<br>\n",
    "    ● numberofpersons_en<br>\n",
    "    ● year_en<br>\n",
    "    ● month_en<br>\n",
    "    ● unnamed: 11<br>\n",
    " <br>\n",
    "Некоторые из них содержат только пустые ячейки, некоторые, такие как id, global_id не пригодяться для выполнения поставленных задач. Удалим их все:"
   ]
  },
  {
   "cell_type": "code",
   "execution_count": 7,
   "id": "ff417f58",
   "metadata": {},
   "outputs": [
    {
     "data": {
      "text/html": [
       "<div>\n",
       "<style scoped>\n",
       "    .dataframe tbody tr th:only-of-type {\n",
       "        vertical-align: middle;\n",
       "    }\n",
       "\n",
       "    .dataframe tbody tr th {\n",
       "        vertical-align: top;\n",
       "    }\n",
       "\n",
       "    .dataframe thead th {\n",
       "        text-align: right;\n",
       "    }\n",
       "</style>\n",
       "<table border=\"1\" class=\"dataframe\">\n",
       "  <thead>\n",
       "    <tr style=\"text-align: right;\">\n",
       "      <th></th>\n",
       "      <th>name</th>\n",
       "      <th>numberofpersons</th>\n",
       "      <th>year</th>\n",
       "      <th>month</th>\n",
       "    </tr>\n",
       "  </thead>\n",
       "  <tbody>\n",
       "    <tr>\n",
       "      <th>0</th>\n",
       "      <td>Имя</td>\n",
       "      <td>Количество человек</td>\n",
       "      <td>Год</td>\n",
       "      <td>Месяц</td>\n",
       "    </tr>\n",
       "    <tr>\n",
       "      <th>1</th>\n",
       "      <td>Мария</td>\n",
       "      <td>252</td>\n",
       "      <td>2015</td>\n",
       "      <td>январь</td>\n",
       "    </tr>\n",
       "    <tr>\n",
       "      <th>2</th>\n",
       "      <td>Анастасия</td>\n",
       "      <td>224</td>\n",
       "      <td>2015</td>\n",
       "      <td>январь</td>\n",
       "    </tr>\n",
       "    <tr>\n",
       "      <th>3</th>\n",
       "      <td>Анна</td>\n",
       "      <td>190</td>\n",
       "      <td>2015</td>\n",
       "      <td>январь</td>\n",
       "    </tr>\n",
       "    <tr>\n",
       "      <th>4</th>\n",
       "      <td>Варвара</td>\n",
       "      <td>190</td>\n",
       "      <td>2015</td>\n",
       "      <td>январь</td>\n",
       "    </tr>\n",
       "  </tbody>\n",
       "</table>\n",
       "</div>"
      ],
      "text/plain": [
       "        name     numberofpersons  year   month\n",
       "0        Имя  Количество человек   Год   Месяц\n",
       "1      Мария                 252  2015  январь\n",
       "2  Анастасия                 224  2015  январь\n",
       "3       Анна                 190  2015  январь\n",
       "4    Варвара                 190  2015  январь"
      ]
     },
     "execution_count": 7,
     "metadata": {},
     "output_type": "execute_result"
    }
   ],
   "source": [
    "df1 = df1.drop([\"id\"], axis=1)\n",
    "df1 = df1.drop([\"id_en\"], axis=1)\n",
    "df1 = df1.drop([\"name_en\"], axis=1)\n",
    "df1 = df1.drop([\"numberofpersons_en\"], axis=1)\n",
    "df1 = df1.drop([\"year_en\"], axis=1)\n",
    "df1 = df1.drop([\"global_id\"], axis=1)\n",
    "df1 = df1.drop([\"month_en\"], axis=1)\n",
    "df1 = df1.drop([\"unnamed: 11\"], axis=1)\n",
    "df1.head(5)"
   ]
  },
  {
   "cell_type": "markdown",
   "id": "121a8f3c",
   "metadata": {},
   "source": [
    "Поймем, что первая строчка для нас абсолютно бесполезна, т.к. содержит лишь перевод названия столбиков. Удалим ее:"
   ]
  },
  {
   "cell_type": "code",
   "execution_count": 8,
   "id": "a7c0ee65",
   "metadata": {},
   "outputs": [
    {
     "data": {
      "text/html": [
       "<div>\n",
       "<style scoped>\n",
       "    .dataframe tbody tr th:only-of-type {\n",
       "        vertical-align: middle;\n",
       "    }\n",
       "\n",
       "    .dataframe tbody tr th {\n",
       "        vertical-align: top;\n",
       "    }\n",
       "\n",
       "    .dataframe thead th {\n",
       "        text-align: right;\n",
       "    }\n",
       "</style>\n",
       "<table border=\"1\" class=\"dataframe\">\n",
       "  <thead>\n",
       "    <tr style=\"text-align: right;\">\n",
       "      <th></th>\n",
       "      <th>name</th>\n",
       "      <th>numberofpersons</th>\n",
       "      <th>year</th>\n",
       "      <th>month</th>\n",
       "    </tr>\n",
       "  </thead>\n",
       "  <tbody>\n",
       "    <tr>\n",
       "      <th>1</th>\n",
       "      <td>Мария</td>\n",
       "      <td>252</td>\n",
       "      <td>2015</td>\n",
       "      <td>январь</td>\n",
       "    </tr>\n",
       "    <tr>\n",
       "      <th>2</th>\n",
       "      <td>Анастасия</td>\n",
       "      <td>224</td>\n",
       "      <td>2015</td>\n",
       "      <td>январь</td>\n",
       "    </tr>\n",
       "    <tr>\n",
       "      <th>3</th>\n",
       "      <td>Анна</td>\n",
       "      <td>190</td>\n",
       "      <td>2015</td>\n",
       "      <td>январь</td>\n",
       "    </tr>\n",
       "    <tr>\n",
       "      <th>4</th>\n",
       "      <td>Варвара</td>\n",
       "      <td>190</td>\n",
       "      <td>2015</td>\n",
       "      <td>январь</td>\n",
       "    </tr>\n",
       "    <tr>\n",
       "      <th>5</th>\n",
       "      <td>Виктория</td>\n",
       "      <td>186</td>\n",
       "      <td>2015</td>\n",
       "      <td>январь</td>\n",
       "    </tr>\n",
       "  </tbody>\n",
       "</table>\n",
       "</div>"
      ],
      "text/plain": [
       "        name numberofpersons  year   month\n",
       "1      Мария             252  2015  январь\n",
       "2  Анастасия             224  2015  январь\n",
       "3       Анна             190  2015  январь\n",
       "4    Варвара             190  2015  январь\n",
       "5   Виктория             186  2015  январь"
      ]
     },
     "execution_count": 8,
     "metadata": {},
     "output_type": "execute_result"
    }
   ],
   "source": [
    "df1 = df1.drop(index=[0])\n",
    "df1.head(5)"
   ]
  },
  {
   "cell_type": "markdown",
   "id": "aafbf7c5",
   "metadata": {},
   "source": [
    "Проверим наличие пропусков в каждом из столбиков:"
   ]
  },
  {
   "cell_type": "code",
   "execution_count": 9,
   "id": "97f32da4",
   "metadata": {},
   "outputs": [
    {
     "data": {
      "text/plain": [
       "name               0.0\n",
       "numberofpersons    0.0\n",
       "year               0.0\n",
       "month              0.0\n",
       "dtype: float64"
      ]
     },
     "execution_count": 9,
     "metadata": {},
     "output_type": "execute_result"
    }
   ],
   "source": [
    "df1.isna().mean()"
   ]
  },
  {
   "cell_type": "markdown",
   "id": "7b65f1c9",
   "metadata": {},
   "source": [
    "Пропусков нет."
   ]
  },
  {
   "cell_type": "markdown",
   "id": "d2532921",
   "metadata": {},
   "source": [
    "Проверим неявные дубликаты в колонке \"year\", для этого выведем все уникальные значения в этом столбце:"
   ]
  },
  {
   "cell_type": "code",
   "execution_count": 10,
   "id": "5e4fb28f",
   "metadata": {},
   "outputs": [
    {
     "data": {
      "text/plain": [
       "2015    1200\n",
       "2016    1200\n",
       "2017    1200\n",
       "2018    1200\n",
       "2019    1200\n",
       "2020    1200\n",
       "2021    1200\n",
       "2022     700\n",
       "Name: year, dtype: int64"
      ]
     },
     "execution_count": 10,
     "metadata": {},
     "output_type": "execute_result"
    }
   ],
   "source": [
    "df1['year'].value_counts()\n"
   ]
  },
  {
   "cell_type": "markdown",
   "id": "84dc1ed5",
   "metadata": {},
   "source": [
    "Неявных дубликатов нет. Проверим колонку \"month\":"
   ]
  },
  {
   "cell_type": "code",
   "execution_count": 11,
   "id": "ae3f3426",
   "metadata": {},
   "outputs": [
    {
     "data": {
      "text/plain": [
       "май         500\n",
       "июнь        500\n",
       "июль        500\n",
       "август      500\n",
       "январь      400\n",
       "Апрель      400\n",
       "Март        400\n",
       "Февраль     400\n",
       "Январь      400\n",
       "Декабрь     400\n",
       "Ноябрь      400\n",
       "Октябрь     400\n",
       "апрель      400\n",
       "март        400\n",
       "февраль     400\n",
       "сентябрь    400\n",
       "декабрь     300\n",
       "ноябрь      300\n",
       "октябрь     300\n",
       "Май         300\n",
       "Июнь        300\n",
       "Июль        300\n",
       "Сентябрь    300\n",
       "Август      200\n",
       "Name: month, dtype: int64"
      ]
     },
     "execution_count": 11,
     "metadata": {},
     "output_type": "execute_result"
    }
   ],
   "source": [
    "df1['month'].value_counts()"
   ]
  },
  {
   "cell_type": "markdown",
   "id": "2a43106e",
   "metadata": {},
   "source": [
    "Неявные дубликаты есть. Заменим все значения на названия месяцев на русском с маленькой буквы:"
   ]
  },
  {
   "cell_type": "code",
   "execution_count": 12,
   "id": "2c9dc48f",
   "metadata": {},
   "outputs": [
    {
     "data": {
      "text/plain": [
       "январь      800\n",
       "май         800\n",
       "июнь        800\n",
       "июль        800\n",
       "февраль     800\n",
       "март        800\n",
       "апрель      800\n",
       "август      700\n",
       "сентябрь    700\n",
       "октябрь     700\n",
       "ноябрь      700\n",
       "декабрь     700\n",
       "Name: month, dtype: int64"
      ]
     },
     "execution_count": 12,
     "metadata": {},
     "output_type": "execute_result"
    }
   ],
   "source": [
    "df1.loc[:, 'month'] = df1.loc[:, 'month'].str.lower()\n",
    "df1['month'].value_counts()"
   ]
  },
  {
   "cell_type": "markdown",
   "id": "49bce404",
   "metadata": {},
   "source": [
    "Проверить на наличие неявных дубликатов колонку \"name\" будет сложно, ведь существует много разных форм одного имени. Также проверять колонку \"name\" на уникальные значения бессмысленно, т.к. их очень много. Но для тех, информацию о которых я буду анализировать, я попробую это учесть. \n",
    "<br>\n",
    "<br>\n",
    "Проверим на наличие явных дубликатов:\n",
    "\n",
    "\n"
   ]
  },
  {
   "cell_type": "code",
   "execution_count": 13,
   "id": "43974975",
   "metadata": {},
   "outputs": [
    {
     "data": {
      "text/plain": [
       "0"
      ]
     },
     "execution_count": 13,
     "metadata": {},
     "output_type": "execute_result"
    }
   ],
   "source": [
    "df1.duplicated().sum()"
   ]
  },
  {
   "cell_type": "markdown",
   "id": "6a2a5b57",
   "metadata": {},
   "source": [
    "Явных дубликатов нет. Перед тем как приступить к выполнению первой задачи, надо не забыть поменять типы данных для столбцов \"year\", \"numberofpersons\""
   ]
  },
  {
   "cell_type": "code",
   "execution_count": 14,
   "id": "7fc57060",
   "metadata": {},
   "outputs": [],
   "source": [
    "df1[\"year\"] = df1[\"year\"].astype(int)\n",
    "df1[\"numberofpersons\"] = df1[\"numberofpersons\"].astype(int)"
   ]
  },
  {
   "cell_type": "markdown",
   "id": "089e7081",
   "metadata": {},
   "source": [
    "## Сколько людей в 2022 году получили имя \"Анастасия\"\n",
    "Создадим df1_new, в который запишем данные, соответствующие фильтру (год = 2022, имя = Анастасия)"
   ]
  },
  {
   "cell_type": "code",
   "execution_count": 15,
   "id": "111e682c",
   "metadata": {},
   "outputs": [
    {
     "data": {
      "text/html": [
       "<div>\n",
       "<style scoped>\n",
       "    .dataframe tbody tr th:only-of-type {\n",
       "        vertical-align: middle;\n",
       "    }\n",
       "\n",
       "    .dataframe tbody tr th {\n",
       "        vertical-align: top;\n",
       "    }\n",
       "\n",
       "    .dataframe thead th {\n",
       "        text-align: right;\n",
       "    }\n",
       "</style>\n",
       "<table border=\"1\" class=\"dataframe\">\n",
       "  <thead>\n",
       "    <tr style=\"text-align: right;\">\n",
       "      <th></th>\n",
       "      <th>name</th>\n",
       "      <th>numberofpersons</th>\n",
       "      <th>year</th>\n",
       "      <th>month</th>\n",
       "    </tr>\n",
       "  </thead>\n",
       "  <tbody>\n",
       "    <tr>\n",
       "      <th>8411</th>\n",
       "      <td>Анастасия</td>\n",
       "      <td>96</td>\n",
       "      <td>2022</td>\n",
       "      <td>январь</td>\n",
       "    </tr>\n",
       "    <tr>\n",
       "      <th>8511</th>\n",
       "      <td>Анастасия</td>\n",
       "      <td>94</td>\n",
       "      <td>2022</td>\n",
       "      <td>февраль</td>\n",
       "    </tr>\n",
       "    <tr>\n",
       "      <th>8617</th>\n",
       "      <td>Анастасия</td>\n",
       "      <td>80</td>\n",
       "      <td>2022</td>\n",
       "      <td>март</td>\n",
       "    </tr>\n",
       "    <tr>\n",
       "      <th>8716</th>\n",
       "      <td>Анастасия</td>\n",
       "      <td>71</td>\n",
       "      <td>2022</td>\n",
       "      <td>апрель</td>\n",
       "    </tr>\n",
       "    <tr>\n",
       "      <th>8812</th>\n",
       "      <td>Анастасия</td>\n",
       "      <td>86</td>\n",
       "      <td>2022</td>\n",
       "      <td>май</td>\n",
       "    </tr>\n",
       "    <tr>\n",
       "      <th>8916</th>\n",
       "      <td>Анастасия</td>\n",
       "      <td>80</td>\n",
       "      <td>2022</td>\n",
       "      <td>июнь</td>\n",
       "    </tr>\n",
       "    <tr>\n",
       "      <th>9013</th>\n",
       "      <td>Анастасия</td>\n",
       "      <td>92</td>\n",
       "      <td>2022</td>\n",
       "      <td>июль</td>\n",
       "    </tr>\n",
       "  </tbody>\n",
       "</table>\n",
       "</div>"
      ],
      "text/plain": [
       "           name  numberofpersons  year    month\n",
       "8411  Анастасия               96  2022   январь\n",
       "8511  Анастасия               94  2022  февраль\n",
       "8617  Анастасия               80  2022     март\n",
       "8716  Анастасия               71  2022   апрель\n",
       "8812  Анастасия               86  2022      май\n",
       "8916  Анастасия               80  2022     июнь\n",
       "9013  Анастасия               92  2022     июль"
      ]
     },
     "execution_count": 15,
     "metadata": {},
     "output_type": "execute_result"
    }
   ],
   "source": [
    "a = 2022\n",
    "b = \"Анастасия\"\n",
    "df1.head(10)\n",
    "df1_new = df1.query('name == @b and year == @a')\n",
    "\n",
    "df1_new.tail(20)\n"
   ]
  },
  {
   "cell_type": "code",
   "execution_count": 16,
   "id": "67da44e5",
   "metadata": {},
   "outputs": [
    {
     "name": "stdout",
     "output_type": "stream",
     "text": [
      "599\n"
     ]
    }
   ],
   "source": [
    "ans = df1_new[\"numberofpersons\"].sum()\n",
    "print(ans)"
   ]
  },
  {
   "cell_type": "markdown",
   "id": "552ed1c8",
   "metadata": {},
   "source": [
    "Проверим, не использовалась ли сокращенная форма имени \"Настя\":"
   ]
  },
  {
   "cell_type": "code",
   "execution_count": 17,
   "id": "a0857b28",
   "metadata": {},
   "outputs": [
    {
     "data": {
      "text/plain": [
       "0"
      ]
     },
     "execution_count": 17,
     "metadata": {},
     "output_type": "execute_result"
    }
   ],
   "source": [
    "df1.query('name\t == \"Настя\"').name.count()"
   ]
  },
  {
   "cell_type": "markdown",
   "id": "bcff29d4",
   "metadata": {},
   "source": [
    "Эта самая популярная сокращенная форма имени не использовалась. Значит можно сделать вывод, что имя \"Анастасия\" получили в 2022 году 519 человек.\n",
    "<br>\n",
    "<br>\n",
    "Я не смогу учесть все варианты формулировок имени \"Анастасия\" не просматривая данные вручную. Но когда я просмотрела их, других форм данного имени там не было.\n",
    "<br>\n",
    "<br>\n",
    "## Проверить истинность утверждения «Самым популярным женским детским именем на протяжении последних трех лет является София (Софья)».\n",
    "Создадим df1_new2, в который запишем данные соответсвующие критерию \"год лежит в промежутке 2020-2022\"`:"
   ]
  },
  {
   "cell_type": "code",
   "execution_count": 18,
   "id": "90edd655",
   "metadata": {},
   "outputs": [
    {
     "data": {
      "text/html": [
       "<div>\n",
       "<style scoped>\n",
       "    .dataframe tbody tr th:only-of-type {\n",
       "        vertical-align: middle;\n",
       "    }\n",
       "\n",
       "    .dataframe tbody tr th {\n",
       "        vertical-align: top;\n",
       "    }\n",
       "\n",
       "    .dataframe thead th {\n",
       "        text-align: right;\n",
       "    }\n",
       "</style>\n",
       "<table border=\"1\" class=\"dataframe\">\n",
       "  <thead>\n",
       "    <tr style=\"text-align: right;\">\n",
       "      <th></th>\n",
       "      <th>name</th>\n",
       "      <th>numberofpersons</th>\n",
       "      <th>year</th>\n",
       "      <th>month</th>\n",
       "    </tr>\n",
       "  </thead>\n",
       "  <tbody>\n",
       "    <tr>\n",
       "      <th>6001</th>\n",
       "      <td>Мария</td>\n",
       "      <td>180</td>\n",
       "      <td>2020</td>\n",
       "      <td>январь</td>\n",
       "    </tr>\n",
       "    <tr>\n",
       "      <th>6002</th>\n",
       "      <td>София</td>\n",
       "      <td>174</td>\n",
       "      <td>2020</td>\n",
       "      <td>январь</td>\n",
       "    </tr>\n",
       "    <tr>\n",
       "      <th>6003</th>\n",
       "      <td>Анна</td>\n",
       "      <td>162</td>\n",
       "      <td>2020</td>\n",
       "      <td>январь</td>\n",
       "    </tr>\n",
       "    <tr>\n",
       "      <th>6004</th>\n",
       "      <td>Полина</td>\n",
       "      <td>160</td>\n",
       "      <td>2020</td>\n",
       "      <td>январь</td>\n",
       "    </tr>\n",
       "    <tr>\n",
       "      <th>6005</th>\n",
       "      <td>Алиса</td>\n",
       "      <td>151</td>\n",
       "      <td>2020</td>\n",
       "      <td>январь</td>\n",
       "    </tr>\n",
       "    <tr>\n",
       "      <th>6006</th>\n",
       "      <td>Виктория</td>\n",
       "      <td>130</td>\n",
       "      <td>2020</td>\n",
       "      <td>январь</td>\n",
       "    </tr>\n",
       "    <tr>\n",
       "      <th>6007</th>\n",
       "      <td>Анастасия</td>\n",
       "      <td>127</td>\n",
       "      <td>2020</td>\n",
       "      <td>январь</td>\n",
       "    </tr>\n",
       "    <tr>\n",
       "      <th>6008</th>\n",
       "      <td>Александра</td>\n",
       "      <td>111</td>\n",
       "      <td>2020</td>\n",
       "      <td>январь</td>\n",
       "    </tr>\n",
       "    <tr>\n",
       "      <th>6009</th>\n",
       "      <td>Дарья</td>\n",
       "      <td>108</td>\n",
       "      <td>2020</td>\n",
       "      <td>январь</td>\n",
       "    </tr>\n",
       "    <tr>\n",
       "      <th>6010</th>\n",
       "      <td>Ева</td>\n",
       "      <td>105</td>\n",
       "      <td>2020</td>\n",
       "      <td>январь</td>\n",
       "    </tr>\n",
       "  </tbody>\n",
       "</table>\n",
       "</div>"
      ],
      "text/plain": [
       "            name  numberofpersons  year   month\n",
       "6001       Мария              180  2020  январь\n",
       "6002       София              174  2020  январь\n",
       "6003        Анна              162  2020  январь\n",
       "6004      Полина              160  2020  январь\n",
       "6005       Алиса              151  2020  январь\n",
       "6006    Виктория              130  2020  январь\n",
       "6007   Анастасия              127  2020  январь\n",
       "6008  Александра              111  2020  январь\n",
       "6009       Дарья              108  2020  январь\n",
       "6010         Ева              105  2020  январь"
      ]
     },
     "execution_count": 18,
     "metadata": {},
     "output_type": "execute_result"
    }
   ],
   "source": [
    "a = 2022\n",
    "b = 2021\n",
    "c = 2020\n",
    "df1_new2 = df1.query('year == @a or year == @b or year == @c')\n",
    "df1_new2.head(10)"
   ]
  },
  {
   "cell_type": "markdown",
   "id": "31181ad4",
   "metadata": {},
   "source": [
    "Создадим df1_new3, где каждая строчка будет иметь название каждого имени, встречающегося в df1_new2, а в столбике \"numberofpersons\" будет сумма всех значений по этому имени."
   ]
  },
  {
   "cell_type": "code",
   "execution_count": 19,
   "id": "4013e118",
   "metadata": {},
   "outputs": [
    {
     "data": {
      "text/html": [
       "<div>\n",
       "<style scoped>\n",
       "    .dataframe tbody tr th:only-of-type {\n",
       "        vertical-align: middle;\n",
       "    }\n",
       "\n",
       "    .dataframe tbody tr th {\n",
       "        vertical-align: top;\n",
       "    }\n",
       "\n",
       "    .dataframe thead tr th {\n",
       "        text-align: left;\n",
       "    }\n",
       "\n",
       "    .dataframe thead tr:last-of-type th {\n",
       "        text-align: right;\n",
       "    }\n",
       "</style>\n",
       "<table border=\"1\" class=\"dataframe\">\n",
       "  <thead>\n",
       "    <tr>\n",
       "      <th></th>\n",
       "      <th>sum</th>\n",
       "    </tr>\n",
       "    <tr>\n",
       "      <th></th>\n",
       "      <th>numberofpersons</th>\n",
       "    </tr>\n",
       "    <tr>\n",
       "      <th>name</th>\n",
       "      <th></th>\n",
       "    </tr>\n",
       "  </thead>\n",
       "  <tbody>\n",
       "    <tr>\n",
       "      <th>Аврора</th>\n",
       "      <td>534</td>\n",
       "    </tr>\n",
       "    <tr>\n",
       "      <th>Агата</th>\n",
       "      <td>1077</td>\n",
       "    </tr>\n",
       "    <tr>\n",
       "      <th>Аглая</th>\n",
       "      <td>120</td>\n",
       "    </tr>\n",
       "    <tr>\n",
       "      <th>Агния</th>\n",
       "      <td>216</td>\n",
       "    </tr>\n",
       "    <tr>\n",
       "      <th>Аделина</th>\n",
       "      <td>855</td>\n",
       "    </tr>\n",
       "    <tr>\n",
       "      <th>...</th>\n",
       "      <td>...</td>\n",
       "    </tr>\n",
       "    <tr>\n",
       "      <th>София</th>\n",
       "      <td>5795</td>\n",
       "    </tr>\n",
       "    <tr>\n",
       "      <th>Софья</th>\n",
       "      <td>1554</td>\n",
       "    </tr>\n",
       "    <tr>\n",
       "      <th>Стефания</th>\n",
       "      <td>1077</td>\n",
       "    </tr>\n",
       "    <tr>\n",
       "      <th>Сумая</th>\n",
       "      <td>193</td>\n",
       "    </tr>\n",
       "    <tr>\n",
       "      <th>Таисия</th>\n",
       "      <td>1352</td>\n",
       "    </tr>\n",
       "  </tbody>\n",
       "</table>\n",
       "<p>143 rows × 1 columns</p>\n",
       "</div>"
      ],
      "text/plain": [
       "                     sum\n",
       "         numberofpersons\n",
       "name                    \n",
       "Аврора               534\n",
       "Агата               1077\n",
       "Аглая                120\n",
       "Агния                216\n",
       "Аделина              855\n",
       "...                  ...\n",
       "София               5795\n",
       "Софья               1554\n",
       "Стефания            1077\n",
       "Сумая                193\n",
       "Таисия              1352\n",
       "\n",
       "[143 rows x 1 columns]"
      ]
     },
     "execution_count": 19,
     "metadata": {},
     "output_type": "execute_result"
    }
   ],
   "source": [
    "df1_new3 = pd.pivot_table(df1_new2,\n",
    "               values=[\"numberofpersons\"],\n",
    "               index =[\"name\"],\n",
    "               aggfunc=[np.sum])\n",
    "df1_new3.head(-20)"
   ]
  },
  {
   "cell_type": "markdown",
   "id": "de6b5776",
   "metadata": {},
   "source": [
    "Отсортируем df1_new3. Тогда на последнем месте будет стоять строка с тем именем, которое использовалось больше всего раз за этот период."
   ]
  },
  {
   "cell_type": "code",
   "execution_count": 20,
   "id": "7ae3b2f2",
   "metadata": {
    "scrolled": true
   },
   "outputs": [
    {
     "data": {
      "text/html": [
       "<div>\n",
       "<style scoped>\n",
       "    .dataframe tbody tr th:only-of-type {\n",
       "        vertical-align: middle;\n",
       "    }\n",
       "\n",
       "    .dataframe tbody tr th {\n",
       "        vertical-align: top;\n",
       "    }\n",
       "\n",
       "    .dataframe thead tr th {\n",
       "        text-align: left;\n",
       "    }\n",
       "\n",
       "    .dataframe thead tr:last-of-type th {\n",
       "        text-align: right;\n",
       "    }\n",
       "</style>\n",
       "<table border=\"1\" class=\"dataframe\">\n",
       "  <thead>\n",
       "    <tr>\n",
       "      <th></th>\n",
       "      <th>sum</th>\n",
       "    </tr>\n",
       "    <tr>\n",
       "      <th></th>\n",
       "      <th>numberofpersons</th>\n",
       "    </tr>\n",
       "    <tr>\n",
       "      <th>name</th>\n",
       "      <th></th>\n",
       "    </tr>\n",
       "  </thead>\n",
       "  <tbody>\n",
       "    <tr>\n",
       "      <th>Варвара</th>\n",
       "      <td>3364</td>\n",
       "    </tr>\n",
       "    <tr>\n",
       "      <th>Александра</th>\n",
       "      <td>3490</td>\n",
       "    </tr>\n",
       "    <tr>\n",
       "      <th>Елизавета</th>\n",
       "      <td>3502</td>\n",
       "    </tr>\n",
       "    <tr>\n",
       "      <th>Ева</th>\n",
       "      <td>3925</td>\n",
       "    </tr>\n",
       "    <tr>\n",
       "      <th>Полина</th>\n",
       "      <td>3959</td>\n",
       "    </tr>\n",
       "    <tr>\n",
       "      <th>Виктория</th>\n",
       "      <td>4178</td>\n",
       "    </tr>\n",
       "    <tr>\n",
       "      <th>Алиса</th>\n",
       "      <td>4471</td>\n",
       "    </tr>\n",
       "    <tr>\n",
       "      <th>Анна</th>\n",
       "      <td>5307</td>\n",
       "    </tr>\n",
       "    <tr>\n",
       "      <th>Мария</th>\n",
       "      <td>5519</td>\n",
       "    </tr>\n",
       "    <tr>\n",
       "      <th>София</th>\n",
       "      <td>5795</td>\n",
       "    </tr>\n",
       "  </tbody>\n",
       "</table>\n",
       "</div>"
      ],
      "text/plain": [
       "                       sum\n",
       "           numberofpersons\n",
       "name                      \n",
       "Варвара               3364\n",
       "Александра            3490\n",
       "Елизавета             3502\n",
       "Ева                   3925\n",
       "Полина                3959\n",
       "Виктория              4178\n",
       "Алиса                 4471\n",
       "Анна                  5307\n",
       "Мария                 5519\n",
       "София                 5795"
      ]
     },
     "execution_count": 20,
     "metadata": {},
     "output_type": "execute_result"
    }
   ],
   "source": [
    "df1_new4 = df1_new3.sort_values([('sum', 'numberofpersons')])\n",
    "df1_new4.tail(10)\n"
   ]
  },
  {
   "cell_type": "markdown",
   "id": "875731c8",
   "metadata": {},
   "source": [
    "Хоть мы и так видим, что София - наиболее популярное имя, посчитаем также сколько детей были названы \"Софья\""
   ]
  },
  {
   "cell_type": "code",
   "execution_count": 21,
   "id": "a894f5fe",
   "metadata": {},
   "outputs": [
    {
     "data": {
      "text/plain": [
       "sum  numberofpersons    1554\n",
       "Name: Софья, dtype: int64"
      ]
     },
     "execution_count": 21,
     "metadata": {},
     "output_type": "execute_result"
    }
   ],
   "source": [
    "df1_new3.loc[\"Софья\"]"
   ]
  },
  {
   "cell_type": "markdown",
   "id": "f6f3cd22",
   "metadata": {},
   "source": [
    "Попробуем посмотреть не за весь период трех лет, а за каждый год отдельно. Код будем испольщовать такой же, тольк для удобства запишем его в функцию и вызовем ее 3 раза, применяя фильтр с каждым из годов."
   ]
  },
  {
   "cell_type": "code",
   "execution_count": 22,
   "id": "9367945e",
   "metadata": {},
   "outputs": [
    {
     "name": "stdout",
     "output_type": "stream",
     "text": [
      "303\n",
      "                  sum\n",
      "      numberofpersons\n",
      "name                 \n",
      "Мария            1129\n",
      "София            1271\n",
      "617\n",
      "                  sum\n",
      "      numberofpersons\n",
      "name                 \n",
      "Мария            2172\n",
      "София            2322\n",
      "634\n",
      "                  sum\n",
      "      numberofpersons\n",
      "name                 \n",
      "София            2202\n",
      "Мария            2218\n"
     ]
    }
   ],
   "source": [
    "a = 2022\n",
    "b = 2021\n",
    "c = 2020\n",
    "def count_name(a):\n",
    "    df1_new2 = df1.query('year == @a')\n",
    "    df1_new3 = pd.pivot_table(df1_new2,\n",
    "                   values=[\"numberofpersons\"],\n",
    "                   index =[\"name\"],\n",
    "                   aggfunc=[np.sum])\n",
    "    df1_new4 = df1_new3.sort_values([('sum', 'numberofpersons')])\n",
    "    c = df1_new3.loc[\"Софья\"]\n",
    "    print(c[-1])\n",
    "    q = df1_new4.tail(2)\n",
    "    return q\n",
    "\n",
    "    \n",
    "print(count_name(a))\n",
    "print(count_name(b))\n",
    "print(count_name(c))"
   ]
  },
  {
   "cell_type": "markdown",
   "id": "39707814",
   "metadata": {},
   "source": [
    "Проанализировав данные можно увидеть, что действительно в каждый из последних трех годов имя \"София/Софья\" лидировало по количесвту(в 2020 году имя \"София\" встречается 2202 раз, \"Софья\" 634 раза, в сумме 2836, что больше, чем количество людей с именем \"Мария\")."
   ]
  },
  {
   "cell_type": "markdown",
   "id": "89a30d19",
   "metadata": {},
   "source": [
    "## Вычислить на сколько процентов изменилась популярность женского имени Есения  с начала 2022 года по сравнению с аналогичным периодом 2021 года? \n",
    "Для начала осознаем, что вообще от нас хотят. Мы берем промежуток с января по сентябрь 2022 года, считаем количество имени \"Есения\" в этот период. Потом берем промежуток с января по сентябрь 2021 года и опять считаем количество имени \"Есения\" в этот период. А далее говорим, что данные за 2021 год - 100%, посчитаем соклько процентов сейчас.\n",
    "<br>\n",
    "<br>\n",
    "Для реализации также будем использовать фильтр, на этот раз выставив условие на год, месяц и имя. Посчитаем за 2022 год:"
   ]
  },
  {
   "cell_type": "code",
   "execution_count": 23,
   "id": "7c9fea1a",
   "metadata": {
    "scrolled": true
   },
   "outputs": [
    {
     "data": {
      "text/html": [
       "<div>\n",
       "<style scoped>\n",
       "    .dataframe tbody tr th:only-of-type {\n",
       "        vertical-align: middle;\n",
       "    }\n",
       "\n",
       "    .dataframe tbody tr th {\n",
       "        vertical-align: top;\n",
       "    }\n",
       "\n",
       "    .dataframe thead th {\n",
       "        text-align: right;\n",
       "    }\n",
       "</style>\n",
       "<table border=\"1\" class=\"dataframe\">\n",
       "  <thead>\n",
       "    <tr style=\"text-align: right;\">\n",
       "      <th></th>\n",
       "      <th>name</th>\n",
       "      <th>numberofpersons</th>\n",
       "      <th>year</th>\n",
       "      <th>month</th>\n",
       "    </tr>\n",
       "  </thead>\n",
       "  <tbody>\n",
       "    <tr>\n",
       "      <th>8426</th>\n",
       "      <td>Есения</td>\n",
       "      <td>44</td>\n",
       "      <td>2022</td>\n",
       "      <td>январь</td>\n",
       "    </tr>\n",
       "    <tr>\n",
       "      <th>8524</th>\n",
       "      <td>Есения</td>\n",
       "      <td>48</td>\n",
       "      <td>2022</td>\n",
       "      <td>февраль</td>\n",
       "    </tr>\n",
       "    <tr>\n",
       "      <th>8623</th>\n",
       "      <td>Есения</td>\n",
       "      <td>50</td>\n",
       "      <td>2022</td>\n",
       "      <td>март</td>\n",
       "    </tr>\n",
       "    <tr>\n",
       "      <th>8721</th>\n",
       "      <td>Есения</td>\n",
       "      <td>55</td>\n",
       "      <td>2022</td>\n",
       "      <td>апрель</td>\n",
       "    </tr>\n",
       "    <tr>\n",
       "      <th>8827</th>\n",
       "      <td>Есения</td>\n",
       "      <td>46</td>\n",
       "      <td>2022</td>\n",
       "      <td>май</td>\n",
       "    </tr>\n",
       "    <tr>\n",
       "      <th>8926</th>\n",
       "      <td>Есения</td>\n",
       "      <td>50</td>\n",
       "      <td>2022</td>\n",
       "      <td>июнь</td>\n",
       "    </tr>\n",
       "    <tr>\n",
       "      <th>9022</th>\n",
       "      <td>Есения</td>\n",
       "      <td>68</td>\n",
       "      <td>2022</td>\n",
       "      <td>июль</td>\n",
       "    </tr>\n",
       "  </tbody>\n",
       "</table>\n",
       "</div>"
      ],
      "text/plain": [
       "        name  numberofpersons  year    month\n",
       "8426  Есения               44  2022   январь\n",
       "8524  Есения               48  2022  февраль\n",
       "8623  Есения               50  2022     март\n",
       "8721  Есения               55  2022   апрель\n",
       "8827  Есения               46  2022      май\n",
       "8926  Есения               50  2022     июнь\n",
       "9022  Есения               68  2022     июль"
      ]
     },
     "execution_count": 23,
     "metadata": {},
     "output_type": "execute_result"
    }
   ],
   "source": [
    "a = 2022\n",
    "df1_new2 = df1.query('year == @a and name == \"Есения\"')\n",
    "df1_new2.head(10)"
   ]
  },
  {
   "cell_type": "markdown",
   "id": "fe8e7a98",
   "metadata": {},
   "source": [
    "А тепеь просто просуммируем столбик \"numberofpersons\""
   ]
  },
  {
   "cell_type": "code",
   "execution_count": 24,
   "id": "2e3042d9",
   "metadata": {},
   "outputs": [
    {
     "name": "stdout",
     "output_type": "stream",
     "text": [
      "361\n"
     ]
    }
   ],
   "source": [
    "ans = df1_new2[\"numberofpersons\"].sum()\n",
    "print(ans)"
   ]
  },
  {
   "cell_type": "markdown",
   "id": "ec3f7ee1",
   "metadata": {},
   "source": [
    "Итого 361 ребенок с именем \"Есения\" за это период. Перейдем к 2021 году, рассматривая период с января по июль:"
   ]
  },
  {
   "cell_type": "code",
   "execution_count": 25,
   "id": "a3bf908d",
   "metadata": {},
   "outputs": [
    {
     "data": {
      "text/html": [
       "<div>\n",
       "<style scoped>\n",
       "    .dataframe tbody tr th:only-of-type {\n",
       "        vertical-align: middle;\n",
       "    }\n",
       "\n",
       "    .dataframe tbody tr th {\n",
       "        vertical-align: top;\n",
       "    }\n",
       "\n",
       "    .dataframe thead th {\n",
       "        text-align: right;\n",
       "    }\n",
       "</style>\n",
       "<table border=\"1\" class=\"dataframe\">\n",
       "  <thead>\n",
       "    <tr style=\"text-align: right;\">\n",
       "      <th></th>\n",
       "      <th>name</th>\n",
       "      <th>numberofpersons</th>\n",
       "      <th>year</th>\n",
       "      <th>month</th>\n",
       "    </tr>\n",
       "  </thead>\n",
       "  <tbody>\n",
       "    <tr>\n",
       "      <th>7232</th>\n",
       "      <td>Есения</td>\n",
       "      <td>32</td>\n",
       "      <td>2021</td>\n",
       "      <td>январь</td>\n",
       "    </tr>\n",
       "    <tr>\n",
       "      <th>7345</th>\n",
       "      <td>Есения</td>\n",
       "      <td>20</td>\n",
       "      <td>2021</td>\n",
       "      <td>февраль</td>\n",
       "    </tr>\n",
       "    <tr>\n",
       "      <th>7427</th>\n",
       "      <td>Есения</td>\n",
       "      <td>42</td>\n",
       "      <td>2021</td>\n",
       "      <td>март</td>\n",
       "    </tr>\n",
       "    <tr>\n",
       "      <th>7523</th>\n",
       "      <td>Есения</td>\n",
       "      <td>55</td>\n",
       "      <td>2021</td>\n",
       "      <td>апрель</td>\n",
       "    </tr>\n",
       "    <tr>\n",
       "      <th>7624</th>\n",
       "      <td>Есения</td>\n",
       "      <td>53</td>\n",
       "      <td>2021</td>\n",
       "      <td>май</td>\n",
       "    </tr>\n",
       "    <tr>\n",
       "      <th>7723</th>\n",
       "      <td>Есения</td>\n",
       "      <td>52</td>\n",
       "      <td>2021</td>\n",
       "      <td>июнь</td>\n",
       "    </tr>\n",
       "    <tr>\n",
       "      <th>7825</th>\n",
       "      <td>Есения</td>\n",
       "      <td>55</td>\n",
       "      <td>2021</td>\n",
       "      <td>июль</td>\n",
       "    </tr>\n",
       "  </tbody>\n",
       "</table>\n",
       "</div>"
      ],
      "text/plain": [
       "        name  numberofpersons  year    month\n",
       "7232  Есения               32  2021   январь\n",
       "7345  Есения               20  2021  февраль\n",
       "7427  Есения               42  2021     март\n",
       "7523  Есения               55  2021   апрель\n",
       "7624  Есения               53  2021      май\n",
       "7723  Есения               52  2021     июнь\n",
       "7825  Есения               55  2021     июль"
      ]
     },
     "execution_count": 25,
     "metadata": {},
     "output_type": "execute_result"
    }
   ],
   "source": [
    "a = 2021\n",
    "df1_new2 = df1.query('year == @a and name == \"Есения\" and month != \"август\" and month != \"сентябрь\" and month != \"октябрь\" and month != \"ноябрь\" and month != \"декабрь\"')\n",
    "df1_new2.head(10)"
   ]
  },
  {
   "cell_type": "markdown",
   "id": "773d25a2",
   "metadata": {},
   "source": [
    "Просуммируем столбик \"numberofpersons\""
   ]
  },
  {
   "cell_type": "code",
   "execution_count": 26,
   "id": "1940058a",
   "metadata": {},
   "outputs": [
    {
     "name": "stdout",
     "output_type": "stream",
     "text": [
      "309\n"
     ]
    }
   ],
   "source": [
    "ans = df1_new2[\"numberofpersons\"].sum()\n",
    "print(ans)"
   ]
  },
  {
   "cell_type": "markdown",
   "id": "67ff49ca",
   "metadata": {},
   "source": [
    "Вычислим на какой процент увеличилось количество детей с именем \"Есения\", если сравнивать период 2021 года с января по июль и период 2022 года (те же месяцы):\n",
    "309 = 100%\n",
    "361 = x%\n",
    "\n",
    "x = 361 * 100 / 309"
   ]
  },
  {
   "cell_type": "code",
   "execution_count": 27,
   "id": "2cc711b7",
   "metadata": {},
   "outputs": [
    {
     "name": "stdout",
     "output_type": "stream",
     "text": [
      "116.8284789644013\n"
     ]
    }
   ],
   "source": [
    "print(361 * 100 / 309)"
   ]
  },
  {
   "cell_type": "markdown",
   "id": "f6442007",
   "metadata": {},
   "source": [
    "Таким образом процент возрос на 16.3.\n",
    "С анализом женских имен мы закончили, переходим к данным по мудским именам.\n",
    "## Статистика по мужским именам"
   ]
  },
  {
   "cell_type": "code",
   "execution_count": 28,
   "id": "62211e92",
   "metadata": {
    "scrolled": true
   },
   "outputs": [],
   "source": [
    "df2 = pd.read_csv(\"/Users/anastasiakula/Desktop/инфа школьная/data-6271-2022-08-26.csv\", encoding='Windows-1251', sep = \";\")"
   ]
  },
  {
   "cell_type": "code",
   "execution_count": 29,
   "id": "0c7a3f80",
   "metadata": {},
   "outputs": [
    {
     "data": {
      "text/html": [
       "<div>\n",
       "<style scoped>\n",
       "    .dataframe tbody tr th:only-of-type {\n",
       "        vertical-align: middle;\n",
       "    }\n",
       "\n",
       "    .dataframe tbody tr th {\n",
       "        vertical-align: top;\n",
       "    }\n",
       "\n",
       "    .dataframe thead th {\n",
       "        text-align: right;\n",
       "    }\n",
       "</style>\n",
       "<table border=\"1\" class=\"dataframe\">\n",
       "  <thead>\n",
       "    <tr style=\"text-align: right;\">\n",
       "      <th></th>\n",
       "      <th>ID</th>\n",
       "      <th>Name</th>\n",
       "      <th>NumberOfPersons</th>\n",
       "      <th>global_id</th>\n",
       "      <th>Year</th>\n",
       "      <th>Month</th>\n",
       "      <th>ID_en</th>\n",
       "      <th>Name_en</th>\n",
       "      <th>NumberOfPersons_en</th>\n",
       "      <th>Year_en</th>\n",
       "      <th>Month_en</th>\n",
       "      <th>Unnamed: 11</th>\n",
       "    </tr>\n",
       "  </thead>\n",
       "  <tbody>\n",
       "    <tr>\n",
       "      <th>0</th>\n",
       "      <td>Код</td>\n",
       "      <td>Имя</td>\n",
       "      <td>Количество человек</td>\n",
       "      <td>global_id</td>\n",
       "      <td>Год</td>\n",
       "      <td>Месяц</td>\n",
       "      <td>ID_en</td>\n",
       "      <td>Name_en</td>\n",
       "      <td>NumberOfPersons_en</td>\n",
       "      <td>Year_en</td>\n",
       "      <td>Month_en</td>\n",
       "      <td>NaN</td>\n",
       "    </tr>\n",
       "    <tr>\n",
       "      <th>1</th>\n",
       "      <td>1</td>\n",
       "      <td>Александр</td>\n",
       "      <td>253</td>\n",
       "      <td>37750243</td>\n",
       "      <td>2015</td>\n",
       "      <td>январь</td>\n",
       "      <td>NaN</td>\n",
       "      <td>NaN</td>\n",
       "      <td>NaN</td>\n",
       "      <td>NaN</td>\n",
       "      <td>NaN</td>\n",
       "      <td>NaN</td>\n",
       "    </tr>\n",
       "    <tr>\n",
       "      <th>2</th>\n",
       "      <td>2</td>\n",
       "      <td>Михаил</td>\n",
       "      <td>247</td>\n",
       "      <td>37750244</td>\n",
       "      <td>2015</td>\n",
       "      <td>январь</td>\n",
       "      <td>NaN</td>\n",
       "      <td>NaN</td>\n",
       "      <td>NaN</td>\n",
       "      <td>NaN</td>\n",
       "      <td>NaN</td>\n",
       "      <td>NaN</td>\n",
       "    </tr>\n",
       "    <tr>\n",
       "      <th>3</th>\n",
       "      <td>3</td>\n",
       "      <td>Иван</td>\n",
       "      <td>226</td>\n",
       "      <td>37750245</td>\n",
       "      <td>2015</td>\n",
       "      <td>январь</td>\n",
       "      <td>NaN</td>\n",
       "      <td>NaN</td>\n",
       "      <td>NaN</td>\n",
       "      <td>NaN</td>\n",
       "      <td>NaN</td>\n",
       "      <td>NaN</td>\n",
       "    </tr>\n",
       "    <tr>\n",
       "      <th>4</th>\n",
       "      <td>4</td>\n",
       "      <td>Максим</td>\n",
       "      <td>208</td>\n",
       "      <td>37750246</td>\n",
       "      <td>2015</td>\n",
       "      <td>январь</td>\n",
       "      <td>NaN</td>\n",
       "      <td>NaN</td>\n",
       "      <td>NaN</td>\n",
       "      <td>NaN</td>\n",
       "      <td>NaN</td>\n",
       "      <td>NaN</td>\n",
       "    </tr>\n",
       "  </tbody>\n",
       "</table>\n",
       "</div>"
      ],
      "text/plain": [
       "    ID       Name     NumberOfPersons  global_id  Year   Month  ID_en  \\\n",
       "0  Код        Имя  Количество человек  global_id   Год   Месяц  ID_en   \n",
       "1    1  Александр                 253   37750243  2015  январь    NaN   \n",
       "2    2     Михаил                 247   37750244  2015  январь    NaN   \n",
       "3    3       Иван                 226   37750245  2015  январь    NaN   \n",
       "4    4     Максим                 208   37750246  2015  январь    NaN   \n",
       "\n",
       "   Name_en  NumberOfPersons_en  Year_en  Month_en  Unnamed: 11  \n",
       "0  Name_en  NumberOfPersons_en  Year_en  Month_en          NaN  \n",
       "1      NaN                 NaN      NaN       NaN          NaN  \n",
       "2      NaN                 NaN      NaN       NaN          NaN  \n",
       "3      NaN                 NaN      NaN       NaN          NaN  \n",
       "4      NaN                 NaN      NaN       NaN          NaN  "
      ]
     },
     "execution_count": 29,
     "metadata": {},
     "output_type": "execute_result"
    }
   ],
   "source": [
    "df2.head()"
   ]
  },
  {
   "cell_type": "markdown",
   "id": "42dc4cdf",
   "metadata": {},
   "source": [
    "Данные выглядят точно также, как и в файле с женскими именами. Также присутствуют лишние столбики и строчка. Поэтому действия будут аналогичны или почти аналогичны тем, что выполнялись ранее на стадии предобработки данных по женским именам"
   ]
  },
  {
   "cell_type": "markdown",
   "id": "d2b70954",
   "metadata": {},
   "source": [
    "Выведем основную информацию о данных:"
   ]
  },
  {
   "cell_type": "code",
   "execution_count": 30,
   "id": "c58bc307",
   "metadata": {},
   "outputs": [
    {
     "name": "stdout",
     "output_type": "stream",
     "text": [
      "<class 'pandas.core.frame.DataFrame'>\n",
      "RangeIndex: 9101 entries, 0 to 9100\n",
      "Data columns (total 12 columns):\n",
      " #   Column              Non-Null Count  Dtype  \n",
      "---  ------              --------------  -----  \n",
      " 0   ID                  9101 non-null   object \n",
      " 1   Name                9101 non-null   object \n",
      " 2   NumberOfPersons     9101 non-null   object \n",
      " 3   global_id           9101 non-null   object \n",
      " 4   Year                9101 non-null   object \n",
      " 5   Month               9101 non-null   object \n",
      " 6   ID_en               1 non-null      object \n",
      " 7   Name_en             1 non-null      object \n",
      " 8   NumberOfPersons_en  1 non-null      object \n",
      " 9   Year_en             1 non-null      object \n",
      " 10  Month_en            1 non-null      object \n",
      " 11  Unnamed: 11         0 non-null      float64\n",
      "dtypes: float64(1), object(11)\n",
      "memory usage: 853.3+ KB\n"
     ]
    }
   ],
   "source": [
    "df2.info()"
   ]
  },
  {
   "cell_type": "markdown",
   "id": "a1d4f2f9",
   "metadata": {},
   "source": [
    "Ничем не отличаеся от первой базы данных"
   ]
  },
  {
   "cell_type": "markdown",
   "id": "2e9648ed",
   "metadata": {},
   "source": [
    "Выведем первые 10 строк:"
   ]
  },
  {
   "cell_type": "code",
   "execution_count": 31,
   "id": "02f7519d",
   "metadata": {},
   "outputs": [
    {
     "data": {
      "text/html": [
       "<div>\n",
       "<style scoped>\n",
       "    .dataframe tbody tr th:only-of-type {\n",
       "        vertical-align: middle;\n",
       "    }\n",
       "\n",
       "    .dataframe tbody tr th {\n",
       "        vertical-align: top;\n",
       "    }\n",
       "\n",
       "    .dataframe thead th {\n",
       "        text-align: right;\n",
       "    }\n",
       "</style>\n",
       "<table border=\"1\" class=\"dataframe\">\n",
       "  <thead>\n",
       "    <tr style=\"text-align: right;\">\n",
       "      <th></th>\n",
       "      <th>ID</th>\n",
       "      <th>Name</th>\n",
       "      <th>NumberOfPersons</th>\n",
       "      <th>global_id</th>\n",
       "      <th>Year</th>\n",
       "      <th>Month</th>\n",
       "      <th>ID_en</th>\n",
       "      <th>Name_en</th>\n",
       "      <th>NumberOfPersons_en</th>\n",
       "      <th>Year_en</th>\n",
       "      <th>Month_en</th>\n",
       "      <th>Unnamed: 11</th>\n",
       "    </tr>\n",
       "  </thead>\n",
       "  <tbody>\n",
       "    <tr>\n",
       "      <th>0</th>\n",
       "      <td>Код</td>\n",
       "      <td>Имя</td>\n",
       "      <td>Количество человек</td>\n",
       "      <td>global_id</td>\n",
       "      <td>Год</td>\n",
       "      <td>Месяц</td>\n",
       "      <td>ID_en</td>\n",
       "      <td>Name_en</td>\n",
       "      <td>NumberOfPersons_en</td>\n",
       "      <td>Year_en</td>\n",
       "      <td>Month_en</td>\n",
       "      <td>NaN</td>\n",
       "    </tr>\n",
       "    <tr>\n",
       "      <th>1</th>\n",
       "      <td>1</td>\n",
       "      <td>Александр</td>\n",
       "      <td>253</td>\n",
       "      <td>37750243</td>\n",
       "      <td>2015</td>\n",
       "      <td>январь</td>\n",
       "      <td>NaN</td>\n",
       "      <td>NaN</td>\n",
       "      <td>NaN</td>\n",
       "      <td>NaN</td>\n",
       "      <td>NaN</td>\n",
       "      <td>NaN</td>\n",
       "    </tr>\n",
       "    <tr>\n",
       "      <th>2</th>\n",
       "      <td>2</td>\n",
       "      <td>Михаил</td>\n",
       "      <td>247</td>\n",
       "      <td>37750244</td>\n",
       "      <td>2015</td>\n",
       "      <td>январь</td>\n",
       "      <td>NaN</td>\n",
       "      <td>NaN</td>\n",
       "      <td>NaN</td>\n",
       "      <td>NaN</td>\n",
       "      <td>NaN</td>\n",
       "      <td>NaN</td>\n",
       "    </tr>\n",
       "    <tr>\n",
       "      <th>3</th>\n",
       "      <td>3</td>\n",
       "      <td>Иван</td>\n",
       "      <td>226</td>\n",
       "      <td>37750245</td>\n",
       "      <td>2015</td>\n",
       "      <td>январь</td>\n",
       "      <td>NaN</td>\n",
       "      <td>NaN</td>\n",
       "      <td>NaN</td>\n",
       "      <td>NaN</td>\n",
       "      <td>NaN</td>\n",
       "      <td>NaN</td>\n",
       "    </tr>\n",
       "    <tr>\n",
       "      <th>4</th>\n",
       "      <td>4</td>\n",
       "      <td>Максим</td>\n",
       "      <td>208</td>\n",
       "      <td>37750246</td>\n",
       "      <td>2015</td>\n",
       "      <td>январь</td>\n",
       "      <td>NaN</td>\n",
       "      <td>NaN</td>\n",
       "      <td>NaN</td>\n",
       "      <td>NaN</td>\n",
       "      <td>NaN</td>\n",
       "      <td>NaN</td>\n",
       "    </tr>\n",
       "    <tr>\n",
       "      <th>5</th>\n",
       "      <td>5</td>\n",
       "      <td>Артём</td>\n",
       "      <td>190</td>\n",
       "      <td>37750247</td>\n",
       "      <td>2015</td>\n",
       "      <td>январь</td>\n",
       "      <td>NaN</td>\n",
       "      <td>NaN</td>\n",
       "      <td>NaN</td>\n",
       "      <td>NaN</td>\n",
       "      <td>NaN</td>\n",
       "      <td>NaN</td>\n",
       "    </tr>\n",
       "    <tr>\n",
       "      <th>6</th>\n",
       "      <td>6</td>\n",
       "      <td>Даниил</td>\n",
       "      <td>171</td>\n",
       "      <td>62361364</td>\n",
       "      <td>2015</td>\n",
       "      <td>январь</td>\n",
       "      <td>NaN</td>\n",
       "      <td>NaN</td>\n",
       "      <td>NaN</td>\n",
       "      <td>NaN</td>\n",
       "      <td>NaN</td>\n",
       "      <td>NaN</td>\n",
       "    </tr>\n",
       "    <tr>\n",
       "      <th>7</th>\n",
       "      <td>7</td>\n",
       "      <td>Дмитрий</td>\n",
       "      <td>164</td>\n",
       "      <td>62361365</td>\n",
       "      <td>2015</td>\n",
       "      <td>январь</td>\n",
       "      <td>NaN</td>\n",
       "      <td>NaN</td>\n",
       "      <td>NaN</td>\n",
       "      <td>NaN</td>\n",
       "      <td>NaN</td>\n",
       "      <td>NaN</td>\n",
       "    </tr>\n",
       "    <tr>\n",
       "      <th>8</th>\n",
       "      <td>8</td>\n",
       "      <td>Кирилл</td>\n",
       "      <td>151</td>\n",
       "      <td>62361366</td>\n",
       "      <td>2015</td>\n",
       "      <td>январь</td>\n",
       "      <td>NaN</td>\n",
       "      <td>NaN</td>\n",
       "      <td>NaN</td>\n",
       "      <td>NaN</td>\n",
       "      <td>NaN</td>\n",
       "      <td>NaN</td>\n",
       "    </tr>\n",
       "    <tr>\n",
       "      <th>9</th>\n",
       "      <td>9</td>\n",
       "      <td>Андрей</td>\n",
       "      <td>130</td>\n",
       "      <td>62361367</td>\n",
       "      <td>2015</td>\n",
       "      <td>январь</td>\n",
       "      <td>NaN</td>\n",
       "      <td>NaN</td>\n",
       "      <td>NaN</td>\n",
       "      <td>NaN</td>\n",
       "      <td>NaN</td>\n",
       "      <td>NaN</td>\n",
       "    </tr>\n",
       "  </tbody>\n",
       "</table>\n",
       "</div>"
      ],
      "text/plain": [
       "    ID       Name     NumberOfPersons  global_id  Year   Month  ID_en  \\\n",
       "0  Код        Имя  Количество человек  global_id   Год   Месяц  ID_en   \n",
       "1    1  Александр                 253   37750243  2015  январь    NaN   \n",
       "2    2     Михаил                 247   37750244  2015  январь    NaN   \n",
       "3    3       Иван                 226   37750245  2015  январь    NaN   \n",
       "4    4     Максим                 208   37750246  2015  январь    NaN   \n",
       "5    5      Артём                 190   37750247  2015  январь    NaN   \n",
       "6    6     Даниил                 171   62361364  2015  январь    NaN   \n",
       "7    7    Дмитрий                 164   62361365  2015  январь    NaN   \n",
       "8    8     Кирилл                 151   62361366  2015  январь    NaN   \n",
       "9    9     Андрей                 130   62361367  2015  январь    NaN   \n",
       "\n",
       "   Name_en  NumberOfPersons_en  Year_en  Month_en  Unnamed: 11  \n",
       "0  Name_en  NumberOfPersons_en  Year_en  Month_en          NaN  \n",
       "1      NaN                 NaN      NaN       NaN          NaN  \n",
       "2      NaN                 NaN      NaN       NaN          NaN  \n",
       "3      NaN                 NaN      NaN       NaN          NaN  \n",
       "4      NaN                 NaN      NaN       NaN          NaN  \n",
       "5      NaN                 NaN      NaN       NaN          NaN  \n",
       "6      NaN                 NaN      NaN       NaN          NaN  \n",
       "7      NaN                 NaN      NaN       NaN          NaN  \n",
       "8      NaN                 NaN      NaN       NaN          NaN  \n",
       "9      NaN                 NaN      NaN       NaN          NaN  "
      ]
     },
     "execution_count": 31,
     "metadata": {},
     "output_type": "execute_result"
    }
   ],
   "source": [
    "df2.head(10)"
   ]
  },
  {
   "cell_type": "markdown",
   "id": "f431b618",
   "metadata": {},
   "source": [
    "Также, как и с первыми данными, названия колонок записаны не в стиле **snake_case**. Исправим это:"
   ]
  },
  {
   "cell_type": "code",
   "execution_count": 32,
   "id": "3c958242",
   "metadata": {},
   "outputs": [
    {
     "data": {
      "text/html": [
       "<div>\n",
       "<style scoped>\n",
       "    .dataframe tbody tr th:only-of-type {\n",
       "        vertical-align: middle;\n",
       "    }\n",
       "\n",
       "    .dataframe tbody tr th {\n",
       "        vertical-align: top;\n",
       "    }\n",
       "\n",
       "    .dataframe thead th {\n",
       "        text-align: right;\n",
       "    }\n",
       "</style>\n",
       "<table border=\"1\" class=\"dataframe\">\n",
       "  <thead>\n",
       "    <tr style=\"text-align: right;\">\n",
       "      <th></th>\n",
       "      <th>id</th>\n",
       "      <th>name</th>\n",
       "      <th>numberofpersons</th>\n",
       "      <th>global_id</th>\n",
       "      <th>year</th>\n",
       "      <th>month</th>\n",
       "      <th>id_en</th>\n",
       "      <th>name_en</th>\n",
       "      <th>numberofpersons_en</th>\n",
       "      <th>year_en</th>\n",
       "      <th>month_en</th>\n",
       "      <th>unnamed: 11</th>\n",
       "    </tr>\n",
       "  </thead>\n",
       "  <tbody>\n",
       "    <tr>\n",
       "      <th>0</th>\n",
       "      <td>Код</td>\n",
       "      <td>Имя</td>\n",
       "      <td>Количество человек</td>\n",
       "      <td>global_id</td>\n",
       "      <td>Год</td>\n",
       "      <td>Месяц</td>\n",
       "      <td>ID_en</td>\n",
       "      <td>Name_en</td>\n",
       "      <td>NumberOfPersons_en</td>\n",
       "      <td>Year_en</td>\n",
       "      <td>Month_en</td>\n",
       "      <td>NaN</td>\n",
       "    </tr>\n",
       "  </tbody>\n",
       "</table>\n",
       "</div>"
      ],
      "text/plain": [
       "    id name     numberofpersons  global_id year  month  id_en  name_en  \\\n",
       "0  Код  Имя  Количество человек  global_id  Год  Месяц  ID_en  Name_en   \n",
       "\n",
       "   numberofpersons_en  year_en  month_en  unnamed: 11  \n",
       "0  NumberOfPersons_en  Year_en  Month_en          NaN  "
      ]
     },
     "execution_count": 32,
     "metadata": {},
     "output_type": "execute_result"
    }
   ],
   "source": [
    "df2.columns = df2.columns.str.lower()\n",
    "df2.head(1)"
   ]
  },
  {
   "cell_type": "code",
   "execution_count": 33,
   "id": "049d5e87",
   "metadata": {
    "scrolled": true
   },
   "outputs": [
    {
     "data": {
      "text/plain": [
       "Index(['id', 'name', 'numberofpersons', 'global_id', 'year', 'month', 'id_en',\n",
       "       'name_en', 'numberofpersons_en', 'year_en', 'month_en', 'unnamed: 11'],\n",
       "      dtype='object')"
      ]
     },
     "execution_count": 33,
     "metadata": {},
     "output_type": "execute_result"
    }
   ],
   "source": [
    "df2.columns "
   ]
  },
  {
   "cell_type": "markdown",
   "id": "0b4e8dc4",
   "metadata": {},
   "source": [
    "Теперь разберемся с лишними стообцами. Они аналогичны лишним столбцам в первых данных. Удалим:"
   ]
  },
  {
   "cell_type": "code",
   "execution_count": 34,
   "id": "b01aee78",
   "metadata": {},
   "outputs": [
    {
     "data": {
      "text/html": [
       "<div>\n",
       "<style scoped>\n",
       "    .dataframe tbody tr th:only-of-type {\n",
       "        vertical-align: middle;\n",
       "    }\n",
       "\n",
       "    .dataframe tbody tr th {\n",
       "        vertical-align: top;\n",
       "    }\n",
       "\n",
       "    .dataframe thead th {\n",
       "        text-align: right;\n",
       "    }\n",
       "</style>\n",
       "<table border=\"1\" class=\"dataframe\">\n",
       "  <thead>\n",
       "    <tr style=\"text-align: right;\">\n",
       "      <th></th>\n",
       "      <th>name</th>\n",
       "      <th>numberofpersons</th>\n",
       "      <th>year</th>\n",
       "      <th>month</th>\n",
       "    </tr>\n",
       "  </thead>\n",
       "  <tbody>\n",
       "    <tr>\n",
       "      <th>0</th>\n",
       "      <td>Имя</td>\n",
       "      <td>Количество человек</td>\n",
       "      <td>Год</td>\n",
       "      <td>Месяц</td>\n",
       "    </tr>\n",
       "    <tr>\n",
       "      <th>1</th>\n",
       "      <td>Александр</td>\n",
       "      <td>253</td>\n",
       "      <td>2015</td>\n",
       "      <td>январь</td>\n",
       "    </tr>\n",
       "    <tr>\n",
       "      <th>2</th>\n",
       "      <td>Михаил</td>\n",
       "      <td>247</td>\n",
       "      <td>2015</td>\n",
       "      <td>январь</td>\n",
       "    </tr>\n",
       "    <tr>\n",
       "      <th>3</th>\n",
       "      <td>Иван</td>\n",
       "      <td>226</td>\n",
       "      <td>2015</td>\n",
       "      <td>январь</td>\n",
       "    </tr>\n",
       "    <tr>\n",
       "      <th>4</th>\n",
       "      <td>Максим</td>\n",
       "      <td>208</td>\n",
       "      <td>2015</td>\n",
       "      <td>январь</td>\n",
       "    </tr>\n",
       "  </tbody>\n",
       "</table>\n",
       "</div>"
      ],
      "text/plain": [
       "        name     numberofpersons  year   month\n",
       "0        Имя  Количество человек   Год   Месяц\n",
       "1  Александр                 253  2015  январь\n",
       "2     Михаил                 247  2015  январь\n",
       "3       Иван                 226  2015  январь\n",
       "4     Максим                 208  2015  январь"
      ]
     },
     "execution_count": 34,
     "metadata": {},
     "output_type": "execute_result"
    }
   ],
   "source": [
    "df2 = df2.drop([\"id\"], axis=1)\n",
    "df2 = df2.drop([\"id_en\"], axis=1)\n",
    "df2 = df2.drop([\"name_en\"], axis=1)\n",
    "df2 = df2.drop([\"numberofpersons_en\"], axis=1)\n",
    "df2 = df2.drop([\"year_en\"], axis=1)\n",
    "df2 = df2.drop([\"global_id\"], axis=1)\n",
    "df2 = df2.drop([\"month_en\"], axis=1)\n",
    "df2 = df2.drop([\"unnamed: 11\"], axis=1)\n",
    "df2.head(5)"
   ]
  },
  {
   "cell_type": "markdown",
   "id": "57df04e5",
   "metadata": {},
   "source": [
    "Удаляем и первую строчку тоже:"
   ]
  },
  {
   "cell_type": "code",
   "execution_count": 35,
   "id": "b5cda8b9",
   "metadata": {},
   "outputs": [
    {
     "data": {
      "text/html": [
       "<div>\n",
       "<style scoped>\n",
       "    .dataframe tbody tr th:only-of-type {\n",
       "        vertical-align: middle;\n",
       "    }\n",
       "\n",
       "    .dataframe tbody tr th {\n",
       "        vertical-align: top;\n",
       "    }\n",
       "\n",
       "    .dataframe thead th {\n",
       "        text-align: right;\n",
       "    }\n",
       "</style>\n",
       "<table border=\"1\" class=\"dataframe\">\n",
       "  <thead>\n",
       "    <tr style=\"text-align: right;\">\n",
       "      <th></th>\n",
       "      <th>name</th>\n",
       "      <th>numberofpersons</th>\n",
       "      <th>year</th>\n",
       "      <th>month</th>\n",
       "    </tr>\n",
       "  </thead>\n",
       "  <tbody>\n",
       "    <tr>\n",
       "      <th>1</th>\n",
       "      <td>Александр</td>\n",
       "      <td>253</td>\n",
       "      <td>2015</td>\n",
       "      <td>январь</td>\n",
       "    </tr>\n",
       "    <tr>\n",
       "      <th>2</th>\n",
       "      <td>Михаил</td>\n",
       "      <td>247</td>\n",
       "      <td>2015</td>\n",
       "      <td>январь</td>\n",
       "    </tr>\n",
       "    <tr>\n",
       "      <th>3</th>\n",
       "      <td>Иван</td>\n",
       "      <td>226</td>\n",
       "      <td>2015</td>\n",
       "      <td>январь</td>\n",
       "    </tr>\n",
       "    <tr>\n",
       "      <th>4</th>\n",
       "      <td>Максим</td>\n",
       "      <td>208</td>\n",
       "      <td>2015</td>\n",
       "      <td>январь</td>\n",
       "    </tr>\n",
       "    <tr>\n",
       "      <th>5</th>\n",
       "      <td>Артём</td>\n",
       "      <td>190</td>\n",
       "      <td>2015</td>\n",
       "      <td>январь</td>\n",
       "    </tr>\n",
       "  </tbody>\n",
       "</table>\n",
       "</div>"
      ],
      "text/plain": [
       "        name numberofpersons  year   month\n",
       "1  Александр             253  2015  январь\n",
       "2     Михаил             247  2015  январь\n",
       "3       Иван             226  2015  январь\n",
       "4     Максим             208  2015  январь\n",
       "5      Артём             190  2015  январь"
      ]
     },
     "execution_count": 35,
     "metadata": {},
     "output_type": "execute_result"
    }
   ],
   "source": [
    "df2 = df2.drop(index=[0])\n",
    "df2.head(5)"
   ]
  },
  {
   "cell_type": "markdown",
   "id": "1f98c601",
   "metadata": {},
   "source": [
    "Проверим наличие пропусков в каждой из колонок:"
   ]
  },
  {
   "cell_type": "code",
   "execution_count": 36,
   "id": "6f33030e",
   "metadata": {},
   "outputs": [
    {
     "data": {
      "text/plain": [
       "name               0.0\n",
       "numberofpersons    0.0\n",
       "year               0.0\n",
       "month              0.0\n",
       "dtype: float64"
      ]
     },
     "execution_count": 36,
     "metadata": {},
     "output_type": "execute_result"
    }
   ],
   "source": [
    "df2.isna().mean()"
   ]
  },
  {
   "cell_type": "markdown",
   "id": "1de9defc",
   "metadata": {},
   "source": [
    "Пропусков нет."
   ]
  },
  {
   "cell_type": "markdown",
   "id": "84cbaf36",
   "metadata": {},
   "source": [
    "Проверим неявные дубликаты в колонке \"year\":"
   ]
  },
  {
   "cell_type": "code",
   "execution_count": 37,
   "id": "dd61ab31",
   "metadata": {},
   "outputs": [
    {
     "data": {
      "text/plain": [
       "2015    1200\n",
       "2016    1200\n",
       "2017    1200\n",
       "2018    1200\n",
       "2019    1200\n",
       "2020    1200\n",
       "2021    1200\n",
       "2022     700\n",
       "Name: year, dtype: int64"
      ]
     },
     "execution_count": 37,
     "metadata": {},
     "output_type": "execute_result"
    }
   ],
   "source": [
    "df2['year'].value_counts()\n"
   ]
  },
  {
   "cell_type": "markdown",
   "id": "27a1c6e0",
   "metadata": {},
   "source": [
    "Неявных дубликатов нет. Аналогичным образом проверим колонку \"month\":"
   ]
  },
  {
   "cell_type": "code",
   "execution_count": 38,
   "id": "2b163550",
   "metadata": {},
   "outputs": [
    {
     "data": {
      "text/plain": [
       "август      500\n",
       "май         500\n",
       "июнь        500\n",
       "июль        500\n",
       "январь      400\n",
       "Апрель      400\n",
       "Март        400\n",
       "Февраль     400\n",
       "Январь      400\n",
       "Декабрь     400\n",
       "Ноябрь      400\n",
       "Октябрь     400\n",
       "апрель      400\n",
       "март        400\n",
       "февраль     400\n",
       "сентябрь    400\n",
       "декабрь     300\n",
       "ноябрь      300\n",
       "октябрь     300\n",
       "Май         300\n",
       "Июнь        300\n",
       "Июль        300\n",
       "Сентябрь    300\n",
       "Август      200\n",
       "Name: month, dtype: int64"
      ]
     },
     "execution_count": 38,
     "metadata": {},
     "output_type": "execute_result"
    }
   ],
   "source": [
    "df2['month'].value_counts()"
   ]
  },
  {
   "cell_type": "markdown",
   "id": "694b8908",
   "metadata": {},
   "source": [
    "Неявные дубликаты есть. Заменим все значения аналогично первой базе данных на названия месяцев русскими прописными буквами"
   ]
  },
  {
   "cell_type": "code",
   "execution_count": 39,
   "id": "3dcf6244",
   "metadata": {},
   "outputs": [
    {
     "data": {
      "text/plain": [
       "январь      800\n",
       "февраль     800\n",
       "март        800\n",
       "апрель      800\n",
       "май         800\n",
       "июнь        800\n",
       "июль        800\n",
       "август      700\n",
       "сентябрь    700\n",
       "октябрь     700\n",
       "ноябрь      700\n",
       "декабрь     700\n",
       "Name: month, dtype: int64"
      ]
     },
     "execution_count": 39,
     "metadata": {},
     "output_type": "execute_result"
    }
   ],
   "source": [
    "df2.loc[:, 'month'] = df2.loc[:, 'month'].str.lower()\n",
    "df2['month'].value_counts()"
   ]
  },
  {
   "cell_type": "markdown",
   "id": "4ab9054c",
   "metadata": {},
   "source": [
    "С колонкой \"name\" такие же сложности, ка ки с данными по женским именам.\n",
    "\n",
    "Проверим на наличие явных дубликатов:\n",
    "\n",
    "\n"
   ]
  },
  {
   "cell_type": "code",
   "execution_count": 40,
   "id": "5ec372d5",
   "metadata": {},
   "outputs": [
    {
     "data": {
      "text/plain": [
       "0"
      ]
     },
     "execution_count": 40,
     "metadata": {},
     "output_type": "execute_result"
    }
   ],
   "source": [
    "df2.duplicated().sum()"
   ]
  },
  {
   "cell_type": "markdown",
   "id": "7865d5e8",
   "metadata": {},
   "source": [
    "Явных дубликатов нет. И опять, перед тем как приступить к выполнению задач, надо не забыть поменять типы данных для столбцов \"year\", \"numberofpersons\""
   ]
  },
  {
   "cell_type": "code",
   "execution_count": 41,
   "id": "30da1948",
   "metadata": {},
   "outputs": [],
   "source": [
    "df2[\"year\"] = df2[\"year\"].astype(int)\n",
    "df2[\"numberofpersons\"] = df2[\"numberofpersons\"].astype(int)"
   ]
  },
  {
   "cell_type": "markdown",
   "id": "ab65e323",
   "metadata": {},
   "source": [
    "## Проверить истинность утверждения «Самыми популярнымимужским детскими именами на протяжении последних трех лет является Александр».\n",
    "Тут код ничем не будет отличаться от того, который мы писали для проверки схожего утверждения про имя \"София/Софья\". Только на всякий случай проверим нет ли сокращенной формы \"Саша\":"
   ]
  },
  {
   "cell_type": "code",
   "execution_count": 42,
   "id": "5ceb6c6d",
   "metadata": {},
   "outputs": [
    {
     "data": {
      "text/plain": [
       "0"
      ]
     },
     "execution_count": 42,
     "metadata": {},
     "output_type": "execute_result"
    }
   ],
   "source": [
    "df2.query('name\t == \"Саша\"').name.count()"
   ]
  },
  {
   "cell_type": "markdown",
   "id": "6b025851",
   "metadata": {},
   "source": [
    "Такая форма имени не встречается. Пишем остальной код:"
   ]
  },
  {
   "cell_type": "code",
   "execution_count": 43,
   "id": "51c91947",
   "metadata": {},
   "outputs": [
    {
     "data": {
      "text/html": [
       "<div>\n",
       "<style scoped>\n",
       "    .dataframe tbody tr th:only-of-type {\n",
       "        vertical-align: middle;\n",
       "    }\n",
       "\n",
       "    .dataframe tbody tr th {\n",
       "        vertical-align: top;\n",
       "    }\n",
       "\n",
       "    .dataframe thead tr th {\n",
       "        text-align: left;\n",
       "    }\n",
       "\n",
       "    .dataframe thead tr:last-of-type th {\n",
       "        text-align: right;\n",
       "    }\n",
       "</style>\n",
       "<table border=\"1\" class=\"dataframe\">\n",
       "  <thead>\n",
       "    <tr>\n",
       "      <th></th>\n",
       "      <th>sum</th>\n",
       "    </tr>\n",
       "    <tr>\n",
       "      <th></th>\n",
       "      <th>numberofpersons</th>\n",
       "    </tr>\n",
       "    <tr>\n",
       "      <th>name</th>\n",
       "      <th></th>\n",
       "    </tr>\n",
       "  </thead>\n",
       "  <tbody>\n",
       "    <tr>\n",
       "      <th>Александр</th>\n",
       "      <td>6432</td>\n",
       "    </tr>\n",
       "  </tbody>\n",
       "</table>\n",
       "</div>"
      ],
      "text/plain": [
       "                      sum\n",
       "          numberofpersons\n",
       "name                     \n",
       "Александр            6432"
      ]
     },
     "execution_count": 43,
     "metadata": {},
     "output_type": "execute_result"
    }
   ],
   "source": [
    "a = 2022\n",
    "b = 2021\n",
    "c = 2020\n",
    "df2_new2 = df2.query('year == @a or year == @b or year == @c')\n",
    "df2_new3 = pd.pivot_table(df2_new2,\n",
    "                values=[\"numberofpersons\"],\n",
    "                index =[\"name\"],\n",
    "                aggfunc=[np.sum])\n",
    "df2_new4 = df2_new3.sort_values([('sum', 'numberofpersons')])\n",
    "df2_new4.tail(1)\n"
   ]
  },
  {
   "cell_type": "markdown",
   "id": "f721f5a0",
   "metadata": {},
   "source": [
    "Имя Александр, если рассматривать сразу 3 года действительно самое популярное. Но как и в случае с женскими именами, нельзя гарантировать, что никакое другое имя не имеет неявных дубликатов в виде сокращенных форм, и если просуммировать эти значения, оно не превзойдет количетсво детей с именем \"Александр\".\n",
    "<br>\n",
    "<br>\n",
    "Также как и с первой статистикой, посчитаем за каждый год отдельно. Код будет аналогичным."
   ]
  },
  {
   "cell_type": "code",
   "execution_count": 44,
   "id": "0f63399f",
   "metadata": {},
   "outputs": [
    {
     "name": "stdout",
     "output_type": "stream",
     "text": [
      "                      sum\n",
      "          numberofpersons\n",
      "name                     \n",
      "Александр            1379\n",
      "                      sum\n",
      "          numberofpersons\n",
      "name                     \n",
      "Александр            2532\n",
      "                      sum\n",
      "          numberofpersons\n",
      "name                     \n",
      "Александр            2521\n"
     ]
    }
   ],
   "source": [
    "a = 2022\n",
    "b = 2021\n",
    "c = 2020\n",
    "def count_name(a):\n",
    "    df2_new2 = df2.query('year == @a')\n",
    "    df2_new3 = pd.pivot_table(df2_new2,\n",
    "                values=[\"numberofpersons\"],\n",
    "                index =[\"name\"],\n",
    "                aggfunc=[np.sum])\n",
    "    df2_new4 = df2_new3.sort_values([('sum', 'numberofpersons')])\n",
    "    return df2_new4.tail(1)\n",
    "\n",
    "print(count_name(a))\n",
    "print(count_name(b))\n",
    "print(count_name(c))"
   ]
  },
  {
   "cell_type": "markdown",
   "id": "0ddab503",
   "metadata": {},
   "source": [
    "В каждый из трех последних лет имя Александр действительно заняло первое место по популярности. ТАким образом можно сказать, что утверждение правдиво.\n",
    "<br>\n",
    "<br>\n",
    "## Вычислить на сколько процентов изменилась популярность мужского имени Сергей  с начала 2022 года по сравнению с аналогичным периодом 2021 года? \n",
    "<br>\n",
    "Эта задача ничуть не отличается от той, которую мы решали с именем \"Есения\". Так что и код не будет отличаться:"
   ]
  },
  {
   "cell_type": "code",
   "execution_count": 45,
   "id": "44cb64a1",
   "metadata": {
    "scrolled": true
   },
   "outputs": [
    {
     "name": "stdout",
     "output_type": "stream",
     "text": [
      "372\n"
     ]
    }
   ],
   "source": [
    "a = 2022\n",
    "df2_new1 = df2.query('year == @a and name == \"Сергей\"')\n",
    "ans = df2_new1[\"numberofpersons\"].sum()\n",
    "print(ans)"
   ]
  },
  {
   "cell_type": "markdown",
   "id": "cc37ab83",
   "metadata": {},
   "source": [
    "Итого 372 ребенка с именем \"Сергей\" за это период. посчитаем за 2021 год:"
   ]
  },
  {
   "cell_type": "code",
   "execution_count": 46,
   "id": "d0703b92",
   "metadata": {},
   "outputs": [
    {
     "name": "stdout",
     "output_type": "stream",
     "text": [
      "337\n"
     ]
    }
   ],
   "source": [
    "a = 2021\n",
    "df2_new1 = df2.query('year == @a and name == \"Сергей\" and month != \"август\" and month != \"сентябрь\" and month != \"октябрь\" and month != \"ноябрь\" and month != \"декабрь\"')\n",
    "ans = df2_new1[\"numberofpersons\"].sum()\n",
    "print(ans)"
   ]
  },
  {
   "cell_type": "markdown",
   "id": "f654f058",
   "metadata": {},
   "source": [
    "За период 2021 года с января по июль 337 детей с именем \"Сергей\".\n",
    "\n",
    "337 = 100%\n",
    "372 = x%\n",
    "\n",
    "x = 372 * 100 / 337"
   ]
  },
  {
   "cell_type": "code",
   "execution_count": 47,
   "id": "d727701b",
   "metadata": {},
   "outputs": [
    {
     "name": "stdout",
     "output_type": "stream",
     "text": [
      "110.38575667655786\n"
     ]
    }
   ],
   "source": [
    "print(372 * 100 / 337)"
   ]
  },
  {
   "cell_type": "markdown",
   "id": "e5ede174",
   "metadata": {},
   "source": [
    "Популярность имени \"Сергей\" возрасла на 10.4 процента.\n",
    "<br>\n",
    "<br>\n",
    "Мне не совсем понятна формулировка поставленной задачи, поэтому я посчитаю еще суммарно (т.е. сложу количество имен \"Сергей\" и \"Есеня\" за 2021 год с января по июль, приму это за 100 процентов и сравню с аналогичной суммой за 2022 год с января по июль)"
   ]
  },
  {
   "cell_type": "code",
   "execution_count": 48,
   "id": "97d9d0ec",
   "metadata": {},
   "outputs": [
    {
     "name": "stdout",
     "output_type": "stream",
     "text": [
      "646\n",
      "733\n"
     ]
    }
   ],
   "source": [
    "print(337 + 309)\n",
    "print(372 + 361)"
   ]
  },
  {
   "cell_type": "markdown",
   "id": "bcaa3c0f",
   "metadata": {},
   "source": [
    "646 = 100%\n",
    "733 = x%\n",
    "\n",
    "x = 733 * 100 / 646"
   ]
  },
  {
   "cell_type": "code",
   "execution_count": 49,
   "id": "48fe7869",
   "metadata": {},
   "outputs": [
    {
     "name": "stdout",
     "output_type": "stream",
     "text": [
      "113.46749226006192\n"
     ]
    }
   ],
   "source": [
    "print(733 * 100 / 646)"
   ]
  },
  {
   "cell_type": "markdown",
   "id": "7c0c2ded",
   "metadata": {},
   "source": [
    "Итого, если смотерть суммарно, то процент возрос на 13.47\n",
    "<br>\n",
    "<br>\n",
    "## Вывод\n",
    "Итак, моя работа разбилась на 4 глобальных части: предобработка данных по женским именам, анализ данных по женским именам, предобработка статистики по мужским именам и аналих этих данных.\n",
    "<br>\n",
    "<br>\n",
    "Предобработка данных по мужским и женским именам не сильно отличалась. Я избавилась от ненужных и пустых столбцов и строки. Также я удалила неявные дубликаты, проверила на явные. Помимо этого я изменила тип данных нескольких столбцов для дальнейшего анализа.\n",
    "<br>\n",
    "<br>\n",
    "Сам анализ был также разделен на задачи. В основном я испольщовала фильтры для их решения. С их помощью я выбирала нужные значения из всех имеющихся, а потом проводила с ними дальнейшии действия. Таким образом мне удалось найти наиболее популярные имена, посчитать количество людей названных определенным именем за определенный период и другое. \n"
   ]
  }
 ],
 "metadata": {
  "kernelspec": {
   "display_name": "Python 3 (ipykernel)",
   "language": "python",
   "name": "python3"
  },
  "language_info": {
   "codemirror_mode": {
    "name": "ipython",
    "version": 3
   },
   "file_extension": ".py",
   "mimetype": "text/x-python",
   "name": "python",
   "nbconvert_exporter": "python",
   "pygments_lexer": "ipython3",
   "version": "3.12.7"
  }
 },
 "nbformat": 4,
 "nbformat_minor": 5
}
