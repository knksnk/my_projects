{
 "cells": [
  {
   "cell_type": "markdown",
   "id": "5e0caf61",
   "metadata": {},
   "source": [
    "# Кредит\n",
    "**Источник:** <br>https://www.kaggle.com/\n",
    "<br>\n",
    "<br>\n",
    "**Цели:** <br>● провести предобработку данных, для последующего их удобного анализа\n",
    "<br>\n",
    "● проанализировать данные в соответсвии с имеющимися задачами\n",
    "<br>\n",
    "<br>\n",
    "**Задачи:** <br>● Выяснить как количество детей у клиента влияет на погашение кредита без задолженностей\n",
    "<br>\n",
    "● Выяснить как цель получения кредита влияет на погашение кредита?\n",
    "<br>\n",
    "● Выяснить как семейное положение влияет на погашение кредита без задолженностей\n",
    "<br>\n",
    "<br>\n",
    "**Входные данные:** <br>входные данные представляют собой файл csv, содержащий в себе информацию о кредиторах и их некоторых параметрах\n",
    "<br>\n",
    "<br>\n",
    "**Используемые библиотеки:** <br>pandas\n",
    "<br>numpy\n",
    "<br>re\n",
    "<br>\n",
    "<br>\n",
    "Для начала импортируем библиотеки"
   ]
  },
  {
   "cell_type": "code",
   "execution_count": 1,
   "id": "1da70be9",
   "metadata": {},
   "outputs": [],
   "source": [
    "import pandas as pd\n",
    "import numpy as np\n",
    "import re"
   ]
  },
  {
   "cell_type": "markdown",
   "id": "927ea35a",
   "metadata": {},
   "source": [
    "### Обзор данных"
   ]
  },
  {
   "cell_type": "markdown",
   "id": "449a49eb",
   "metadata": {},
   "source": [
    "Считаем имеющийся файл и запишем его в переменную df.\n",
    "<br>\n",
    "Предварительно открыв его через обычный текстовый редактор на компьютере, стало понятно, что кодировка нормальная и разделение соответсвует общепринятому (;)"
   ]
  },
  {
   "cell_type": "code",
   "execution_count": 2,
   "id": "e761acf5",
   "metadata": {},
   "outputs": [],
   "source": [
    "df = pd.read_csv(\"summative_1.csv\")"
   ]
  },
  {
   "cell_type": "markdown",
   "id": "2216f056",
   "metadata": {},
   "source": [
    "Выведем основную информацию."
   ]
  },
  {
   "cell_type": "code",
   "execution_count": 3,
   "id": "2fe3e1d3",
   "metadata": {},
   "outputs": [
    {
     "name": "stdout",
     "output_type": "stream",
     "text": [
      "<class 'pandas.core.frame.DataFrame'>\n",
      "RangeIndex: 21525 entries, 0 to 21524\n",
      "Data columns (total 8 columns):\n",
      " #   Column            Non-Null Count  Dtype  \n",
      "---  ------            --------------  -----  \n",
      " 0   Unnamed: 0        21525 non-null  int64  \n",
      " 1   Children          21525 non-null  int64  \n",
      " 2   Age               21525 non-null  int64  \n",
      " 3   Education         21525 non-null  object \n",
      " 4   FamilyStatus      21525 non-null  object \n",
      " 5   Debt              21525 non-null  int64  \n",
      " 6   MonthlyIncome     19351 non-null  float64\n",
      " 7   PurposeOfTheLoan  21525 non-null  object \n",
      "dtypes: float64(1), int64(4), object(3)\n",
      "memory usage: 1.3+ MB\n"
     ]
    }
   ],
   "source": [
    "df.info()"
   ]
  },
  {
   "cell_type": "markdown",
   "id": "1e158155",
   "metadata": {},
   "source": [
    "**Описание данных:**<br>\n",
    "● Children — число детей\n",
    "<br>\n",
    "● Age — возраст\n",
    "<br>\n",
    "● Education — уровень образования\n",
    "<br>\n",
    "● FamilyStatus — семейное положение\n",
    "<br>\n",
    "● Debt — была ли задолженность по возврату кредита\n",
    "<br>\n",
    "● MonthlyIncome — ежемесячный доход\n",
    "<br>\n",
    "● PurposeOfTheLoan — цель получения кредита\n",
    "<br>\n",
    "<br>\n",
    "\n",
    "Мы имеем 21525 строк и 8 колонок. Также в некоторых строчках имеются пропуски. Выведем таблицу и посмотрим, что хранится в каждом из столбцов.\n"
   ]
  },
  {
   "cell_type": "code",
   "execution_count": 4,
   "id": "80b523c2",
   "metadata": {},
   "outputs": [
    {
     "data": {
      "text/html": [
       "<div>\n",
       "<style scoped>\n",
       "    .dataframe tbody tr th:only-of-type {\n",
       "        vertical-align: middle;\n",
       "    }\n",
       "\n",
       "    .dataframe tbody tr th {\n",
       "        vertical-align: top;\n",
       "    }\n",
       "\n",
       "    .dataframe thead th {\n",
       "        text-align: right;\n",
       "    }\n",
       "</style>\n",
       "<table border=\"1\" class=\"dataframe\">\n",
       "  <thead>\n",
       "    <tr style=\"text-align: right;\">\n",
       "      <th></th>\n",
       "      <th>Unnamed: 0</th>\n",
       "      <th>Children</th>\n",
       "      <th>Age</th>\n",
       "      <th>Education</th>\n",
       "      <th>FamilyStatus</th>\n",
       "      <th>Debt</th>\n",
       "      <th>MonthlyIncome</th>\n",
       "      <th>PurposeOfTheLoan</th>\n",
       "    </tr>\n",
       "  </thead>\n",
       "  <tbody>\n",
       "    <tr>\n",
       "      <th>0</th>\n",
       "      <td>0</td>\n",
       "      <td>1</td>\n",
       "      <td>42</td>\n",
       "      <td>высшее</td>\n",
       "      <td>женат / замужем</td>\n",
       "      <td>0</td>\n",
       "      <td>253875.639453</td>\n",
       "      <td>покупка жилья</td>\n",
       "    </tr>\n",
       "    <tr>\n",
       "      <th>1</th>\n",
       "      <td>1</td>\n",
       "      <td>1</td>\n",
       "      <td>36</td>\n",
       "      <td>среднее</td>\n",
       "      <td>женат / замужем</td>\n",
       "      <td>0</td>\n",
       "      <td>112080.014102</td>\n",
       "      <td>приобретение автомобиля</td>\n",
       "    </tr>\n",
       "    <tr>\n",
       "      <th>2</th>\n",
       "      <td>2</td>\n",
       "      <td>0</td>\n",
       "      <td>33</td>\n",
       "      <td>Среднее</td>\n",
       "      <td>женат / замужем</td>\n",
       "      <td>0</td>\n",
       "      <td>145885.952297</td>\n",
       "      <td>покупка жилья</td>\n",
       "    </tr>\n",
       "    <tr>\n",
       "      <th>3</th>\n",
       "      <td>3</td>\n",
       "      <td>3</td>\n",
       "      <td>32</td>\n",
       "      <td>среднее</td>\n",
       "      <td>женат / замужем</td>\n",
       "      <td>0</td>\n",
       "      <td>267628.550329</td>\n",
       "      <td>дополнительное образование</td>\n",
       "    </tr>\n",
       "    <tr>\n",
       "      <th>4</th>\n",
       "      <td>4</td>\n",
       "      <td>0</td>\n",
       "      <td>53</td>\n",
       "      <td>среднее</td>\n",
       "      <td>гражданский брак</td>\n",
       "      <td>0</td>\n",
       "      <td>158616.077870</td>\n",
       "      <td>сыграть свадьбу</td>\n",
       "    </tr>\n",
       "  </tbody>\n",
       "</table>\n",
       "</div>"
      ],
      "text/plain": [
       "   Unnamed: 0  Children  Age Education      FamilyStatus  Debt  MonthlyIncome  \\\n",
       "0           0         1   42    высшее   женат / замужем     0  253875.639453   \n",
       "1           1         1   36   среднее   женат / замужем     0  112080.014102   \n",
       "2           2         0   33   Среднее   женат / замужем     0  145885.952297   \n",
       "3           3         3   32   среднее   женат / замужем     0  267628.550329   \n",
       "4           4         0   53   среднее  гражданский брак     0  158616.077870   \n",
       "\n",
       "             PurposeOfTheLoan  \n",
       "0               покупка жилья  \n",
       "1     приобретение автомобиля  \n",
       "2               покупка жилья  \n",
       "3  дополнительное образование  \n",
       "4             сыграть свадьбу  "
      ]
     },
     "execution_count": 4,
     "metadata": {},
     "output_type": "execute_result"
    }
   ],
   "source": [
    "df.head()"
   ]
  },
  {
   "cell_type": "markdown",
   "id": "7209152f",
   "metadata": {},
   "source": [
    "Заметим, что столбцы имеют правильный тип (он соответсвует данным, которые хранятся в том или ином столбце). То есть:\n",
    "<br>\n",
    "Children - int\n",
    "<br>\n",
    "Age - int\n",
    "<br>\n",
    "Education - object\n",
    "<br>\n",
    "Debt - int\n",
    "<br>\n",
    "MonthlyIncome - float\n",
    "<br>\n",
    "PurposeOfTheLoan - int\n",
    "<br>\n",
    "<br>\n",
    "### Микро-вывод: обзор\n",
    "Мы имеем данные по кредитованию, которые нам в дальнейшем надо будет проанализировать. Данных достаточно много (21525 строк), что позволяет говорить о релевантности анализа. В ходе обзора каждый столбец был описан, а также проверен его тип. В процессе предобработки предстоит избавиться от пропусков, которые видно в основной информации о данных. \n",
    "## Предобработка данных\n",
    "### Названия столбцов и лишние столбцы\n",
    "Названия столбцов не соотвествуют стилю **snake_case**, исправим это:"
   ]
  },
  {
   "cell_type": "code",
   "execution_count": 5,
   "id": "c844bc7f",
   "metadata": {},
   "outputs": [
    {
     "name": "stderr",
     "output_type": "stream",
     "text": [
      "/var/folders/rt/mvnmln8j70d9fmnh5b6pl1qr0000gn/T/ipykernel_11720/1081600409.py:1: FutureWarning: The default value of regex will change from True to False in a future version.\n",
      "  df.columns = df.columns.str.replace(r'(?<!^)(?=[A-Z])', \"_\").str.lower()\n"
     ]
    }
   ],
   "source": [
    "df.columns = df.columns.str.replace(r'(?<!^)(?=[A-Z])', \"_\").str.lower()"
   ]
  },
  {
   "cell_type": "code",
   "execution_count": 6,
   "id": "086bb1d8",
   "metadata": {},
   "outputs": [
    {
     "data": {
      "text/plain": [
       "Index(['unnamed: 0', 'children', 'age', 'education', 'family_status', 'debt',\n",
       "       'monthly_income', 'purpose_of_the_loan'],\n",
       "      dtype='object')"
      ]
     },
     "execution_count": 6,
     "metadata": {},
     "output_type": "execute_result"
    }
   ],
   "source": [
    "df.columns"
   ]
  },
  {
   "cell_type": "markdown",
   "id": "032d432c",
   "metadata": {},
   "source": [
    "Теперь все верно. Поймем, что столбик **\"unnamed:_0\"**_ является просто дубликатом индекса, так что его можно удалить:"
   ]
  },
  {
   "cell_type": "code",
   "execution_count": 7,
   "id": "cc0ae5c2",
   "metadata": {},
   "outputs": [],
   "source": [
    "df = df.drop([\"unnamed: 0\"], axis=1)"
   ]
  },
  {
   "cell_type": "markdown",
   "id": "7040df4d",
   "metadata": {},
   "source": [
    "### Пропуски"
   ]
  },
  {
   "cell_type": "markdown",
   "id": "1310c741",
   "metadata": {},
   "source": [
    "Проверим наличие пропусков и проанализируем их процент в каждом из столбиков:"
   ]
  },
  {
   "cell_type": "code",
   "execution_count": 8,
   "id": "8a5700d0",
   "metadata": {
    "scrolled": true
   },
   "outputs": [
    {
     "data": {
      "text/plain": [
       "children               0.000000\n",
       "age                    0.000000\n",
       "education              0.000000\n",
       "family_status          0.000000\n",
       "debt                   0.000000\n",
       "monthly_income         0.100999\n",
       "purpose_of_the_loan    0.000000\n",
       "dtype: float64"
      ]
     },
     "execution_count": 8,
     "metadata": {},
     "output_type": "execute_result"
    }
   ],
   "source": [
    "df.isna().mean()"
   ]
  },
  {
   "cell_type": "markdown",
   "id": "75d54835",
   "metadata": {},
   "source": [
    "Заметим, что пропуски есть только в столбце **\"monthly_income\"**, причем их там 10%, что достаточно много, чтобы просто удалять строки. С другой стороны не понятно, есть ли вообще доход у людей, у которых он не указан. Если посмотреть по данным, то разброс дохода, даже если смотреть людей примерно одного возраста и имеющих одинаковое образование, очень большой. Запомним, что с этим надо разобраться, но перед тем как присутпить к обработке пропусков, заменим все неявные дубликаты в остальных столбцах:\n",
    "### Обработка неявнях дубликатов"
   ]
  },
  {
   "cell_type": "code",
   "execution_count": 9,
   "id": "29ac3e7c",
   "metadata": {},
   "outputs": [
    {
     "data": {
      "text/plain": [
       "среднее                13750\n",
       "высшее                  4718\n",
       "СРЕДНЕЕ                  772\n",
       "Среднее                  711\n",
       "неоконченное высшее      668\n",
       "ВЫСШЕЕ                   274\n",
       "Высшее                   268\n",
       "начальное                250\n",
       "Неоконченное высшее       47\n",
       "НЕОКОНЧЕННОЕ ВЫСШЕЕ       29\n",
       "НАЧАЛЬНОЕ                 17\n",
       "Начальное                 15\n",
       "ученая степень             4\n",
       "Ученая степень             1\n",
       "УЧЕНАЯ СТЕПЕНЬ             1\n",
       "Name: education, dtype: int64"
      ]
     },
     "execution_count": 9,
     "metadata": {},
     "output_type": "execute_result"
    }
   ],
   "source": [
    "df[\"education\"].value_counts()"
   ]
  },
  {
   "cell_type": "markdown",
   "id": "d27c1dfa",
   "metadata": {},
   "source": [
    "Неявных дубликатов много, приведем все варианты в нижний регистр:"
   ]
  },
  {
   "cell_type": "code",
   "execution_count": 10,
   "id": "550c540d",
   "metadata": {},
   "outputs": [
    {
     "data": {
      "text/plain": [
       "среднее                15233\n",
       "высшее                  5260\n",
       "неоконченное высшее      744\n",
       "начальное                282\n",
       "ученая степень             6\n",
       "Name: education, dtype: int64"
      ]
     },
     "execution_count": 10,
     "metadata": {},
     "output_type": "execute_result"
    }
   ],
   "source": [
    "df.loc[:, 'education'] = df.loc[:, 'education'].str.lower()\n",
    "df[\"education\"].value_counts()"
   ]
  },
  {
   "cell_type": "markdown",
   "id": "2463487e",
   "metadata": {},
   "source": [
    "Отлично, теперь для собственного удобства заменим их следующим образом:\n",
    "<br>\n",
    "среднее - ср\n",
    "<br>\n",
    "высшее - вы\n",
    "<br>\n",
    "неоконченное высшее - не\n",
    "<br>\n",
    "начальное - на\n",
    "<br>\n",
    "ученая степень - уч\n",
    "<br>"
   ]
  },
  {
   "cell_type": "code",
   "execution_count": 11,
   "id": "065b6157",
   "metadata": {},
   "outputs": [
    {
     "data": {
      "text/html": [
       "<div>\n",
       "<style scoped>\n",
       "    .dataframe tbody tr th:only-of-type {\n",
       "        vertical-align: middle;\n",
       "    }\n",
       "\n",
       "    .dataframe tbody tr th {\n",
       "        vertical-align: top;\n",
       "    }\n",
       "\n",
       "    .dataframe thead th {\n",
       "        text-align: right;\n",
       "    }\n",
       "</style>\n",
       "<table border=\"1\" class=\"dataframe\">\n",
       "  <thead>\n",
       "    <tr style=\"text-align: right;\">\n",
       "      <th></th>\n",
       "      <th>children</th>\n",
       "      <th>age</th>\n",
       "      <th>education</th>\n",
       "      <th>family_status</th>\n",
       "      <th>debt</th>\n",
       "      <th>monthly_income</th>\n",
       "      <th>purpose_of_the_loan</th>\n",
       "    </tr>\n",
       "  </thead>\n",
       "  <tbody>\n",
       "    <tr>\n",
       "      <th>0</th>\n",
       "      <td>1</td>\n",
       "      <td>42</td>\n",
       "      <td>вы</td>\n",
       "      <td>женат / замужем</td>\n",
       "      <td>0</td>\n",
       "      <td>253875.639453</td>\n",
       "      <td>покупка жилья</td>\n",
       "    </tr>\n",
       "    <tr>\n",
       "      <th>1</th>\n",
       "      <td>1</td>\n",
       "      <td>36</td>\n",
       "      <td>ср</td>\n",
       "      <td>женат / замужем</td>\n",
       "      <td>0</td>\n",
       "      <td>112080.014102</td>\n",
       "      <td>приобретение автомобиля</td>\n",
       "    </tr>\n",
       "    <tr>\n",
       "      <th>2</th>\n",
       "      <td>0</td>\n",
       "      <td>33</td>\n",
       "      <td>ср</td>\n",
       "      <td>женат / замужем</td>\n",
       "      <td>0</td>\n",
       "      <td>145885.952297</td>\n",
       "      <td>покупка жилья</td>\n",
       "    </tr>\n",
       "    <tr>\n",
       "      <th>3</th>\n",
       "      <td>3</td>\n",
       "      <td>32</td>\n",
       "      <td>ср</td>\n",
       "      <td>женат / замужем</td>\n",
       "      <td>0</td>\n",
       "      <td>267628.550329</td>\n",
       "      <td>дополнительное образование</td>\n",
       "    </tr>\n",
       "    <tr>\n",
       "      <th>4</th>\n",
       "      <td>0</td>\n",
       "      <td>53</td>\n",
       "      <td>ср</td>\n",
       "      <td>гражданский брак</td>\n",
       "      <td>0</td>\n",
       "      <td>158616.077870</td>\n",
       "      <td>сыграть свадьбу</td>\n",
       "    </tr>\n",
       "    <tr>\n",
       "      <th>5</th>\n",
       "      <td>0</td>\n",
       "      <td>27</td>\n",
       "      <td>вы</td>\n",
       "      <td>гражданский брак</td>\n",
       "      <td>0</td>\n",
       "      <td>255763.565419</td>\n",
       "      <td>покупка жилья</td>\n",
       "    </tr>\n",
       "    <tr>\n",
       "      <th>6</th>\n",
       "      <td>0</td>\n",
       "      <td>43</td>\n",
       "      <td>вы</td>\n",
       "      <td>женат / замужем</td>\n",
       "      <td>0</td>\n",
       "      <td>240525.971920</td>\n",
       "      <td>операции с жильем</td>\n",
       "    </tr>\n",
       "    <tr>\n",
       "      <th>7</th>\n",
       "      <td>0</td>\n",
       "      <td>50</td>\n",
       "      <td>ср</td>\n",
       "      <td>женат / замужем</td>\n",
       "      <td>0</td>\n",
       "      <td>135823.934197</td>\n",
       "      <td>образование</td>\n",
       "    </tr>\n",
       "    <tr>\n",
       "      <th>8</th>\n",
       "      <td>2</td>\n",
       "      <td>35</td>\n",
       "      <td>вы</td>\n",
       "      <td>гражданский брак</td>\n",
       "      <td>0</td>\n",
       "      <td>95856.832424</td>\n",
       "      <td>на проведение свадьбы</td>\n",
       "    </tr>\n",
       "    <tr>\n",
       "      <th>9</th>\n",
       "      <td>0</td>\n",
       "      <td>41</td>\n",
       "      <td>ср</td>\n",
       "      <td>женат / замужем</td>\n",
       "      <td>0</td>\n",
       "      <td>144425.938277</td>\n",
       "      <td>покупка жилья для семьи</td>\n",
       "    </tr>\n",
       "    <tr>\n",
       "      <th>10</th>\n",
       "      <td>2</td>\n",
       "      <td>36</td>\n",
       "      <td>вы</td>\n",
       "      <td>женат / замужем</td>\n",
       "      <td>0</td>\n",
       "      <td>113943.491460</td>\n",
       "      <td>покупка недвижимости</td>\n",
       "    </tr>\n",
       "    <tr>\n",
       "      <th>11</th>\n",
       "      <td>0</td>\n",
       "      <td>40</td>\n",
       "      <td>ср</td>\n",
       "      <td>женат / замужем</td>\n",
       "      <td>0</td>\n",
       "      <td>77069.234271</td>\n",
       "      <td>покупка коммерческой недвижимости</td>\n",
       "    </tr>\n",
       "    <tr>\n",
       "      <th>12</th>\n",
       "      <td>0</td>\n",
       "      <td>65</td>\n",
       "      <td>ср</td>\n",
       "      <td>гражданский брак</td>\n",
       "      <td>0</td>\n",
       "      <td>NaN</td>\n",
       "      <td>сыграть свадьбу</td>\n",
       "    </tr>\n",
       "    <tr>\n",
       "      <th>13</th>\n",
       "      <td>0</td>\n",
       "      <td>54</td>\n",
       "      <td>не</td>\n",
       "      <td>женат / замужем</td>\n",
       "      <td>0</td>\n",
       "      <td>130458.228857</td>\n",
       "      <td>приобретение автомобиля</td>\n",
       "    </tr>\n",
       "    <tr>\n",
       "      <th>14</th>\n",
       "      <td>0</td>\n",
       "      <td>56</td>\n",
       "      <td>вы</td>\n",
       "      <td>гражданский брак</td>\n",
       "      <td>1</td>\n",
       "      <td>165127.911772</td>\n",
       "      <td>покупка жилой недвижимости</td>\n",
       "    </tr>\n",
       "    <tr>\n",
       "      <th>15</th>\n",
       "      <td>1</td>\n",
       "      <td>26</td>\n",
       "      <td>ср</td>\n",
       "      <td>женат / замужем</td>\n",
       "      <td>0</td>\n",
       "      <td>116820.904450</td>\n",
       "      <td>строительство собственной недвижимости</td>\n",
       "    </tr>\n",
       "    <tr>\n",
       "      <th>16</th>\n",
       "      <td>0</td>\n",
       "      <td>35</td>\n",
       "      <td>ср</td>\n",
       "      <td>женат / замужем</td>\n",
       "      <td>0</td>\n",
       "      <td>289202.704229</td>\n",
       "      <td>недвижимость</td>\n",
       "    </tr>\n",
       "    <tr>\n",
       "      <th>17</th>\n",
       "      <td>0</td>\n",
       "      <td>33</td>\n",
       "      <td>вы</td>\n",
       "      <td>гражданский брак</td>\n",
       "      <td>0</td>\n",
       "      <td>90410.586745</td>\n",
       "      <td>строительство недвижимости</td>\n",
       "    </tr>\n",
       "    <tr>\n",
       "      <th>18</th>\n",
       "      <td>0</td>\n",
       "      <td>53</td>\n",
       "      <td>ср</td>\n",
       "      <td>вдовец / вдова</td>\n",
       "      <td>0</td>\n",
       "      <td>56823.777243</td>\n",
       "      <td>на покупку подержанного автомобиля</td>\n",
       "    </tr>\n",
       "    <tr>\n",
       "      <th>19</th>\n",
       "      <td>0</td>\n",
       "      <td>48</td>\n",
       "      <td>ср</td>\n",
       "      <td>в разводе</td>\n",
       "      <td>0</td>\n",
       "      <td>242831.107982</td>\n",
       "      <td>на покупку своего автомобиля</td>\n",
       "    </tr>\n",
       "  </tbody>\n",
       "</table>\n",
       "</div>"
      ],
      "text/plain": [
       "    children  age education     family_status  debt  monthly_income  \\\n",
       "0          1   42        вы   женат / замужем     0   253875.639453   \n",
       "1          1   36        ср   женат / замужем     0   112080.014102   \n",
       "2          0   33        ср   женат / замужем     0   145885.952297   \n",
       "3          3   32        ср   женат / замужем     0   267628.550329   \n",
       "4          0   53        ср  гражданский брак     0   158616.077870   \n",
       "5          0   27        вы  гражданский брак     0   255763.565419   \n",
       "6          0   43        вы   женат / замужем     0   240525.971920   \n",
       "7          0   50        ср   женат / замужем     0   135823.934197   \n",
       "8          2   35        вы  гражданский брак     0    95856.832424   \n",
       "9          0   41        ср   женат / замужем     0   144425.938277   \n",
       "10         2   36        вы   женат / замужем     0   113943.491460   \n",
       "11         0   40        ср   женат / замужем     0    77069.234271   \n",
       "12         0   65        ср  гражданский брак     0             NaN   \n",
       "13         0   54        не   женат / замужем     0   130458.228857   \n",
       "14         0   56        вы  гражданский брак     1   165127.911772   \n",
       "15         1   26        ср   женат / замужем     0   116820.904450   \n",
       "16         0   35        ср   женат / замужем     0   289202.704229   \n",
       "17         0   33        вы  гражданский брак     0    90410.586745   \n",
       "18         0   53        ср    вдовец / вдова     0    56823.777243   \n",
       "19         0   48        ср         в разводе     0   242831.107982   \n",
       "\n",
       "                       purpose_of_the_loan  \n",
       "0                            покупка жилья  \n",
       "1                  приобретение автомобиля  \n",
       "2                            покупка жилья  \n",
       "3               дополнительное образование  \n",
       "4                          сыграть свадьбу  \n",
       "5                            покупка жилья  \n",
       "6                        операции с жильем  \n",
       "7                              образование  \n",
       "8                    на проведение свадьбы  \n",
       "9                  покупка жилья для семьи  \n",
       "10                    покупка недвижимости  \n",
       "11       покупка коммерческой недвижимости  \n",
       "12                         сыграть свадьбу  \n",
       "13                 приобретение автомобиля  \n",
       "14              покупка жилой недвижимости  \n",
       "15  строительство собственной недвижимости  \n",
       "16                            недвижимость  \n",
       "17              строительство недвижимости  \n",
       "18      на покупку подержанного автомобиля  \n",
       "19            на покупку своего автомобиля  "
      ]
     },
     "execution_count": 11,
     "metadata": {},
     "output_type": "execute_result"
    }
   ],
   "source": [
    "\n",
    "df['education'] = df[\"education\"].apply(lambda x: x[0:2])\n",
    "df.head(20)"
   ]
  },
  {
   "cell_type": "markdown",
   "id": "e62a05af",
   "metadata": {},
   "source": [
    "Проверим неявные дубликаты в столбце **\"family_status\"**:"
   ]
  },
  {
   "cell_type": "code",
   "execution_count": 12,
   "id": "ec7b5bb3",
   "metadata": {
    "scrolled": true
   },
   "outputs": [
    {
     "data": {
      "text/plain": [
       "женат / замужем          12380\n",
       "гражданский брак          4177\n",
       "Не женат / не замужем     2813\n",
       "в разводе                 1195\n",
       "вдовец / вдова             960\n",
       "Name: family_status, dtype: int64"
      ]
     },
     "execution_count": 12,
     "metadata": {},
     "output_type": "execute_result"
    }
   ],
   "source": [
    "df[\"family_status\"].value_counts()"
   ]
  },
  {
   "cell_type": "markdown",
   "id": "666d80b0",
   "metadata": {},
   "source": [
    "Неявеных дубликатов нет, но для убоства также заменим:\n",
    "<br>\n",
    "женат / замужем - ж/з\n",
    "<br>\n",
    "гражданский брак - гб\n",
    "<br>\n",
    "Не женат / не замужем - нет\n",
    "<br>\n",
    "в разводе - р\n",
    "<br>\n",
    "вдовец / вдова - вд\n",
    "<br>"
   ]
  },
  {
   "cell_type": "code",
   "execution_count": 13,
   "id": "dc014020",
   "metadata": {},
   "outputs": [],
   "source": [
    "df.loc[:, 'family_status'] = df.loc[:, 'family_status'].replace(\"женат / замужем\", \"ж/з\")\n",
    "df.loc[:, 'family_status'] = df.loc[:, 'family_status'].replace(\"гражданский брак\", \"гб\")\n",
    "df.loc[:, 'family_status'] = df.loc[:, 'family_status'].replace(\"Не женат / не замужем\", \"нет\")\n",
    "df.loc[:, 'family_status'] = df.loc[:, 'family_status'].replace(\"в разводе\", \"р\")\n",
    "df.loc[:, 'family_status'] = df.loc[:, 'family_status'].replace(\"вдовец / вдова\", \"вд\")"
   ]
  },
  {
   "cell_type": "markdown",
   "id": "d63a73f4",
   "metadata": {},
   "source": [
    "Здесь тоже можно было бы написать функцию, но обрабатывать все случаи if-ами было бы неудобнее.\n",
    "### Обработка явных дубликатов"
   ]
  },
  {
   "cell_type": "markdown",
   "id": "6df7508d",
   "metadata": {},
   "source": [
    "Теперь проверим на явные дубликаты и в случае обнаружения удалим их:"
   ]
  },
  {
   "cell_type": "code",
   "execution_count": 14,
   "id": "844babc2",
   "metadata": {},
   "outputs": [
    {
     "data": {
      "text/plain": [
       "192"
      ]
     },
     "execution_count": 14,
     "metadata": {},
     "output_type": "execute_result"
    }
   ],
   "source": [
    "df.duplicated().sum()"
   ]
  },
  {
   "cell_type": "markdown",
   "id": "70483fcc",
   "metadata": {},
   "source": [
    "Это я делаю после обработки неявных дубликатов во всех столбцах, кроме **\"purpose_of_the_loan\"**, т.к. его я буду обрабатывать отдельно, создавая словарь значений, чтобы избежать удаления строк, изначально не являющихся дубликатами, но похожих на них. Удалим:"
   ]
  },
  {
   "cell_type": "code",
   "execution_count": 15,
   "id": "3709b2be",
   "metadata": {},
   "outputs": [],
   "source": [
    "df = df.drop_duplicates()"
   ]
  },
  {
   "cell_type": "markdown",
   "id": "ce827cc0",
   "metadata": {},
   "source": [
    "### И снова к неявным дубликатам\n",
    "Посмотрим на неявные дубликаты колонки **\"purpose_of_the_loan\"**"
   ]
  },
  {
   "cell_type": "code",
   "execution_count": 16,
   "id": "3b90dc64",
   "metadata": {},
   "outputs": [
    {
     "data": {
      "text/plain": [
       "свадьба                                   784\n",
       "сыграть свадьбу                           758\n",
       "на проведение свадьбы                     758\n",
       "операции с недвижимостью                  674\n",
       "покупка коммерческой недвижимости         657\n",
       "операции с коммерческой недвижимостью     649\n",
       "операции с жильем                         648\n",
       "покупка жилья для сдачи                   647\n",
       "покупка жилья                             645\n",
       "жилье                                     642\n",
       "покупка жилья для семьи                   632\n",
       "строительство собственной недвижимости    632\n",
       "недвижимость                              626\n",
       "операции со своей недвижимостью           625\n",
       "строительство жилой недвижимости          623\n",
       "покупка своего жилья                      616\n",
       "строительство недвижимости                615\n",
       "покупка недвижимости                      611\n",
       "покупка жилой недвижимости                603\n",
       "ремонт жилью                              603\n",
       "на покупку своего автомобиля              504\n",
       "заняться высшим образованием              494\n",
       "автомобиль                                492\n",
       "сделка с подержанным автомобилем          484\n",
       "на покупку подержанного автомобиля        478\n",
       "свой автомобиль                           476\n",
       "автомобили                                475\n",
       "на покупку автомобиля                     471\n",
       "приобретение автомобиля                   460\n",
       "дополнительное образование                458\n",
       "сделка с автомобилем                      454\n",
       "высшее образование                        450\n",
       "образование                               446\n",
       "получение дополнительного образования     444\n",
       "получение образования                     439\n",
       "профильное образование                    432\n",
       "получение высшего образования             425\n",
       "заняться образованием                     403\n",
       "Name: purpose_of_the_loan, dtype: int64"
      ]
     },
     "execution_count": 16,
     "metadata": {},
     "output_type": "execute_result"
    }
   ],
   "source": [
    "df[\"purpose_of_the_loan\"].value_counts()"
   ]
  },
  {
   "cell_type": "markdown",
   "id": "ed53e824",
   "metadata": {},
   "source": [
    "Заметим, что все значения можно разделить на некоторые категории, которые помогут обобщить, но при этом причина взятие кредита не поменяется:\n",
    "<br>\n",
    "\"свадьба\"\n",
    "<br>\n",
    "\"ремонт\"\n",
    "<br>\n",
    "\"образование\"\n",
    "<br>\n",
    "\"автомобиль\"\n",
    "<br>\n",
    "\"жилье\"\n",
    "<br>\n",
    "\"строительство\"\n",
    "<br>\n",
    "\"недвижимость\"\n",
    "Создадим функцию и заменим значения на соответствуюшие: "
   ]
  },
  {
   "cell_type": "code",
   "execution_count": 17,
   "id": "14c45189",
   "metadata": {
    "scrolled": true
   },
   "outputs": [
    {
     "data": {
      "text/html": [
       "<div>\n",
       "<style scoped>\n",
       "    .dataframe tbody tr th:only-of-type {\n",
       "        vertical-align: middle;\n",
       "    }\n",
       "\n",
       "    .dataframe tbody tr th {\n",
       "        vertical-align: top;\n",
       "    }\n",
       "\n",
       "    .dataframe thead th {\n",
       "        text-align: right;\n",
       "    }\n",
       "</style>\n",
       "<table border=\"1\" class=\"dataframe\">\n",
       "  <thead>\n",
       "    <tr style=\"text-align: right;\">\n",
       "      <th></th>\n",
       "      <th>children</th>\n",
       "      <th>age</th>\n",
       "      <th>education</th>\n",
       "      <th>family_status</th>\n",
       "      <th>debt</th>\n",
       "      <th>monthly_income</th>\n",
       "      <th>purpose_of_the_loan</th>\n",
       "    </tr>\n",
       "  </thead>\n",
       "  <tbody>\n",
       "    <tr>\n",
       "      <th>0</th>\n",
       "      <td>1</td>\n",
       "      <td>42</td>\n",
       "      <td>вы</td>\n",
       "      <td>ж/з</td>\n",
       "      <td>0</td>\n",
       "      <td>253875.639453</td>\n",
       "      <td>жилье</td>\n",
       "    </tr>\n",
       "    <tr>\n",
       "      <th>1</th>\n",
       "      <td>1</td>\n",
       "      <td>36</td>\n",
       "      <td>ср</td>\n",
       "      <td>ж/з</td>\n",
       "      <td>0</td>\n",
       "      <td>112080.014102</td>\n",
       "      <td>автомобиль</td>\n",
       "    </tr>\n",
       "    <tr>\n",
       "      <th>2</th>\n",
       "      <td>0</td>\n",
       "      <td>33</td>\n",
       "      <td>ср</td>\n",
       "      <td>ж/з</td>\n",
       "      <td>0</td>\n",
       "      <td>145885.952297</td>\n",
       "      <td>жилье</td>\n",
       "    </tr>\n",
       "    <tr>\n",
       "      <th>3</th>\n",
       "      <td>3</td>\n",
       "      <td>32</td>\n",
       "      <td>ср</td>\n",
       "      <td>ж/з</td>\n",
       "      <td>0</td>\n",
       "      <td>267628.550329</td>\n",
       "      <td>образование</td>\n",
       "    </tr>\n",
       "    <tr>\n",
       "      <th>4</th>\n",
       "      <td>0</td>\n",
       "      <td>53</td>\n",
       "      <td>ср</td>\n",
       "      <td>гб</td>\n",
       "      <td>0</td>\n",
       "      <td>158616.077870</td>\n",
       "      <td>свадьба</td>\n",
       "    </tr>\n",
       "    <tr>\n",
       "      <th>5</th>\n",
       "      <td>0</td>\n",
       "      <td>27</td>\n",
       "      <td>вы</td>\n",
       "      <td>гб</td>\n",
       "      <td>0</td>\n",
       "      <td>255763.565419</td>\n",
       "      <td>жилье</td>\n",
       "    </tr>\n",
       "    <tr>\n",
       "      <th>6</th>\n",
       "      <td>0</td>\n",
       "      <td>43</td>\n",
       "      <td>вы</td>\n",
       "      <td>ж/з</td>\n",
       "      <td>0</td>\n",
       "      <td>240525.971920</td>\n",
       "      <td>жилье</td>\n",
       "    </tr>\n",
       "    <tr>\n",
       "      <th>7</th>\n",
       "      <td>0</td>\n",
       "      <td>50</td>\n",
       "      <td>ср</td>\n",
       "      <td>ж/з</td>\n",
       "      <td>0</td>\n",
       "      <td>135823.934197</td>\n",
       "      <td>образование</td>\n",
       "    </tr>\n",
       "    <tr>\n",
       "      <th>8</th>\n",
       "      <td>2</td>\n",
       "      <td>35</td>\n",
       "      <td>вы</td>\n",
       "      <td>гб</td>\n",
       "      <td>0</td>\n",
       "      <td>95856.832424</td>\n",
       "      <td>свадьба</td>\n",
       "    </tr>\n",
       "    <tr>\n",
       "      <th>9</th>\n",
       "      <td>0</td>\n",
       "      <td>41</td>\n",
       "      <td>ср</td>\n",
       "      <td>ж/з</td>\n",
       "      <td>0</td>\n",
       "      <td>144425.938277</td>\n",
       "      <td>жилье</td>\n",
       "    </tr>\n",
       "  </tbody>\n",
       "</table>\n",
       "</div>"
      ],
      "text/plain": [
       "   children  age education family_status  debt  monthly_income  \\\n",
       "0         1   42        вы           ж/з     0   253875.639453   \n",
       "1         1   36        ср           ж/з     0   112080.014102   \n",
       "2         0   33        ср           ж/з     0   145885.952297   \n",
       "3         3   32        ср           ж/з     0   267628.550329   \n",
       "4         0   53        ср            гб     0   158616.077870   \n",
       "5         0   27        вы            гб     0   255763.565419   \n",
       "6         0   43        вы           ж/з     0   240525.971920   \n",
       "7         0   50        ср           ж/з     0   135823.934197   \n",
       "8         2   35        вы            гб     0    95856.832424   \n",
       "9         0   41        ср           ж/з     0   144425.938277   \n",
       "\n",
       "  purpose_of_the_loan  \n",
       "0               жилье  \n",
       "1          автомобиль  \n",
       "2               жилье  \n",
       "3         образование  \n",
       "4             свадьба  \n",
       "5               жилье  \n",
       "6               жилье  \n",
       "7         образование  \n",
       "8             свадьба  \n",
       "9               жилье  "
      ]
     },
     "execution_count": 17,
     "metadata": {},
     "output_type": "execute_result"
    }
   ],
   "source": [
    "d = dict()\n",
    "def checking(x: str) -> str:\n",
    "    \"\"\"\n",
    "    функция принимает на вход значение ячейки столбца 'purpose_of_the_loan' и проверяет, \n",
    "    является ли оно ключом в словаре d. Если да, то возвращается значение по этому ключу.\n",
    "    Если нет, то вызывается функция 'changing', добавляется новый ключ в словарь и возвращается \n",
    "    значение, полученное функцией 'changing'\n",
    "    \n",
    "    \"\"\"\n",
    "    if x in d:\n",
    "        return d[x]\n",
    "    else:\n",
    "        a = changing(x) \n",
    "        d[x]= a\n",
    "        return a\n",
    "        \n",
    "def changing(x: str) -> str:\n",
    "    \"\"\"\n",
    "    функция принимает на вход значение ячейки столбца 'purpose_of_the_loan' и смотрит сколько букв\n",
    "    совпадает со всеми из ключевых слов и в соответсвии с выполнением какого-либо из условий совпадения \n",
    "    нужного количества букв возвращает замену\n",
    "    \n",
    "    \"\"\"\n",
    "    common_weeding = set(x) & set(\"свадьб\")\n",
    "    common_repair = set(x) & set(\"ремонт\")\n",
    "    common_build = set(x) & set(\"строительство\")\n",
    "    common_car = set(x) & set(\"автомобил\")\n",
    "    common_study = set(x) & set(\"образов\")\n",
    "    common_kom = set(x) & set(\"комерч\")\n",
    "    common_house = set(x) & set(\"жил\")\n",
    "    if len(common_weeding) == 6:\n",
    "        return \"свадьба\"\n",
    "    elif len(common_build) == 9:\n",
    "        return \"строительство\"\n",
    "    elif len(common_kom) == 6:\n",
    "        return \"недвижимость\"\n",
    "    elif len(common_car) == 8:\n",
    "        return \"автомобиль\"\n",
    "    elif len(common_repair) == 6:\n",
    "        return \"ремонт\"\n",
    "    elif len(common_study) == 6:\n",
    "        return \"образование\"\n",
    "    elif len(common_house) == 3:\n",
    "        return \"жилье\"\n",
    "    else:\n",
    "        return \"недвижимость\"\n",
    "    \n",
    "\n",
    "\n",
    "df[\"purpose_of_the_loan\"] = df[\"purpose_of_the_loan\"].apply(checking)\n",
    "df.head(10)"
   ]
  },
  {
   "cell_type": "markdown",
   "id": "9ee0a416",
   "metadata": {},
   "source": [
    "### Поиск анамальных значений\n",
    "Проверим остальные столбцы на \"адекватность значений\" (чтобы у нас не было человека, которому 500 лет и зарабатывает он -10 млрд). Проверим столбец **\"children\"**"
   ]
  },
  {
   "cell_type": "code",
   "execution_count": 18,
   "id": "af14beb6",
   "metadata": {},
   "outputs": [
    {
     "data": {
      "text/plain": [
       " 0     13995\n",
       " 1      4791\n",
       " 2      2044\n",
       " 3       330\n",
       " 20       76\n",
       "-1        47\n",
       " 4        41\n",
       " 5         9\n",
       "Name: children, dtype: int64"
      ]
     },
     "execution_count": 18,
     "metadata": {},
     "output_type": "execute_result"
    }
   ],
   "source": [
    "df[\"children\"].value_counts()"
   ]
  },
  {
   "cell_type": "markdown",
   "id": "ad727fe0",
   "metadata": {},
   "source": [
    "-1 ребенок и 20 детей - те данные, которые стоит удалить. Конечно етсь вероятность, что у кого-то будет 20 детей, но это настолько редкий случай, что вероятно это опечатка. (согласно статистике: https://journal.tinkoff.ru/one-two-three-stat/?ysclid=l8k7tjdmmj190692755 семьи, где больше 5ти детей - уже большая редкость)\n",
    "<br>\n",
    "Так как этих значений не много, можно просто их удалить"
   ]
  },
  {
   "cell_type": "code",
   "execution_count": 19,
   "id": "3b8ffb1a",
   "metadata": {
    "scrolled": true
   },
   "outputs": [],
   "source": [
    "df = df.query(\"children not in [-1, 20]\""
   ]
  },
  {
   "cell_type": "markdown",
   "id": "ba68fe5c",
   "metadata": {},
   "source": [
    "Проверим столбик **\"age\"**"
   ]
  },
  {
   "cell_type": "code",
   "execution_count": 20,
   "id": "c7234ea4",
   "metadata": {
    "scrolled": true
   },
   "outputs": [
    {
     "data": {
      "text/plain": [
       "35    609\n",
       "41    600\n",
       "40    598\n",
       "34    594\n",
       "38    589\n",
       "42    587\n",
       "33    576\n",
       "39    567\n",
       "31    553\n",
       "36    552\n",
       "44    541\n",
       "29    541\n",
       "48    531\n",
       "30    529\n",
       "37    528\n",
       "43    506\n",
       "50    503\n",
       "32    503\n",
       "49    501\n",
       "28    501\n",
       "27    490\n",
       "45    489\n",
       "52    479\n",
       "56    474\n",
       "47    469\n",
       "54    468\n",
       "46    465\n",
       "53    455\n",
       "57    449\n",
       "58    447\n",
       "51    440\n",
       "59    439\n",
       "55    432\n",
       "26    405\n",
       "60    369\n",
       "25    356\n",
       "61    352\n",
       "62    342\n",
       "63    267\n",
       "24    263\n",
       "64    255\n",
       "23    249\n",
       "65    192\n",
       "22    183\n",
       "66    181\n",
       "67    166\n",
       "21    109\n",
       "0     100\n",
       "68     99\n",
       "69     83\n",
       "70     65\n",
       "71     56\n",
       "20     51\n",
       "72     33\n",
       "19     14\n",
       "73      8\n",
       "74      6\n",
       "75      1\n",
       "Name: age, dtype: int64"
      ]
     },
     "execution_count": 20,
     "metadata": {},
     "output_type": "execute_result"
    }
   ],
   "source": [
    "df[\"age\"].value_counts()"
   ]
  },
  {
   "cell_type": "markdown",
   "id": "2c3ecb3b",
   "metadata": {},
   "source": [
    "Значение 0 - не очень хорошо. Остальные значения подходят, так как кредит могут выдать любому человеку, достигшему совершеннолетия. Строки со значением \"0\" стоит удалить:"
   ]
  },
  {
   "cell_type": "code",
   "execution_count": 21,
   "id": "d59fa4aa",
   "metadata": {},
   "outputs": [],
   "source": [
    "df = df.query(\"age not in [0]\")"
   ]
  },
  {
   "cell_type": "markdown",
   "id": "6b62c5da",
   "metadata": {},
   "source": [
    "Проверим столбец **\"debt\"**"
   ]
  },
  {
   "cell_type": "code",
   "execution_count": 22,
   "id": "4fb27f16",
   "metadata": {},
   "outputs": [
    {
     "data": {
      "text/plain": [
       "0    19387\n",
       "1     1723\n",
       "Name: debt, dtype: int64"
      ]
     },
     "execution_count": 22,
     "metadata": {},
     "output_type": "execute_result"
    }
   ],
   "source": [
    "df[\"debt\"].value_counts()"
   ]
  },
  {
   "cell_type": "markdown",
   "id": "38b8ec0d",
   "metadata": {},
   "source": [
    "Тут все хорошо, ничего удалять не нужно. Проверим, что зарплаты лежат в нормальном диапазоне:"
   ]
  },
  {
   "cell_type": "code",
   "execution_count": 23,
   "id": "bd3bdfba",
   "metadata": {},
   "outputs": [
    {
     "data": {
      "text/plain": [
       "253875.639453    1\n",
       "157205.834562    1\n",
       "114842.854099    1\n",
       "282354.554215    1\n",
       "235961.235873    1\n",
       "                ..\n",
       "172637.167134    1\n",
       "142980.588554    1\n",
       "157732.709448    1\n",
       "88361.884631     1\n",
       "82047.418899     1\n",
       "Name: monthly_income, Length: 19150, dtype: int64"
      ]
     },
     "execution_count": 23,
     "metadata": {},
     "output_type": "execute_result"
    }
   ],
   "source": [
    "df[\"monthly_income\"].value_counts(ascending=True)"
   ]
  },
  {
   "cell_type": "markdown",
   "id": "a251848f",
   "metadata": {},
   "source": [
    "Никаких критичных значений не обнаружено.\n",
    "### Борьба с пропусками\n",
    "Вспомним, что у нас все еще имеются пропуски в столбике **\"monthly_income\"**.\n",
    "Создадим сводную таблицу, где в каждую клетку, соответствующую строке возроста и столбцу семейного положения запишем среднее значение зарплаты."
   ]
  },
  {
   "cell_type": "code",
   "execution_count": 24,
   "id": "d998a034",
   "metadata": {},
   "outputs": [
    {
     "data": {
      "text/html": [
       "<div>\n",
       "<style scoped>\n",
       "    .dataframe tbody tr th:only-of-type {\n",
       "        vertical-align: middle;\n",
       "    }\n",
       "\n",
       "    .dataframe tbody tr th {\n",
       "        vertical-align: top;\n",
       "    }\n",
       "\n",
       "    .dataframe thead tr th {\n",
       "        text-align: left;\n",
       "    }\n",
       "\n",
       "    .dataframe thead tr:last-of-type th {\n",
       "        text-align: right;\n",
       "    }\n",
       "</style>\n",
       "<table border=\"1\" class=\"dataframe\">\n",
       "  <thead>\n",
       "    <tr>\n",
       "      <th></th>\n",
       "      <th colspan=\"5\" halign=\"left\">mean</th>\n",
       "    </tr>\n",
       "    <tr>\n",
       "      <th></th>\n",
       "      <th colspan=\"5\" halign=\"left\">monthly_income</th>\n",
       "    </tr>\n",
       "    <tr>\n",
       "      <th>education</th>\n",
       "      <th>вы</th>\n",
       "      <th>на</th>\n",
       "      <th>не</th>\n",
       "      <th>ср</th>\n",
       "      <th>уч</th>\n",
       "    </tr>\n",
       "    <tr>\n",
       "      <th>age</th>\n",
       "      <th></th>\n",
       "      <th></th>\n",
       "      <th></th>\n",
       "      <th></th>\n",
       "      <th></th>\n",
       "    </tr>\n",
       "  </thead>\n",
       "  <tbody>\n",
       "    <tr>\n",
       "      <th>19</th>\n",
       "      <td>NaN</td>\n",
       "      <td>NaN</td>\n",
       "      <td>116035.643521</td>\n",
       "      <td>100072.452124</td>\n",
       "      <td>NaN</td>\n",
       "    </tr>\n",
       "    <tr>\n",
       "      <th>20</th>\n",
       "      <td>94573.610191</td>\n",
       "      <td>NaN</td>\n",
       "      <td>94965.240054</td>\n",
       "      <td>139693.481826</td>\n",
       "      <td>NaN</td>\n",
       "    </tr>\n",
       "    <tr>\n",
       "      <th>21</th>\n",
       "      <td>182077.415699</td>\n",
       "      <td>111133.535135</td>\n",
       "      <td>152814.134129</td>\n",
       "      <td>126526.820367</td>\n",
       "      <td>NaN</td>\n",
       "    </tr>\n",
       "    <tr>\n",
       "      <th>22</th>\n",
       "      <td>162960.967159</td>\n",
       "      <td>169493.899228</td>\n",
       "      <td>133393.427201</td>\n",
       "      <td>133084.363996</td>\n",
       "      <td>NaN</td>\n",
       "    </tr>\n",
       "    <tr>\n",
       "      <th>23</th>\n",
       "      <td>166909.917031</td>\n",
       "      <td>168908.328372</td>\n",
       "      <td>139644.291258</td>\n",
       "      <td>127452.960629</td>\n",
       "      <td>NaN</td>\n",
       "    </tr>\n",
       "  </tbody>\n",
       "</table>\n",
       "</div>"
      ],
      "text/plain": [
       "                    mean                                                 \n",
       "          monthly_income                                                 \n",
       "education             вы             на             не             ср  уч\n",
       "age                                                                      \n",
       "19                   NaN            NaN  116035.643521  100072.452124 NaN\n",
       "20          94573.610191            NaN   94965.240054  139693.481826 NaN\n",
       "21         182077.415699  111133.535135  152814.134129  126526.820367 NaN\n",
       "22         162960.967159  169493.899228  133393.427201  133084.363996 NaN\n",
       "23         166909.917031  168908.328372  139644.291258  127452.960629 NaN"
      ]
     },
     "execution_count": 24,
     "metadata": {},
     "output_type": "execute_result"
    }
   ],
   "source": [
    "df1 = pd.pivot_table(df,\n",
    "               index = [\"age\"],\n",
    "               columns = [\"education\"],\n",
    "               values = [\"monthly_income\"],\n",
    "               aggfunc = [np.mean])\n",
    "df1.head()"
   ]
  },
  {
   "cell_type": "markdown",
   "id": "7854490e",
   "metadata": {},
   "source": [
    "Переименуем столбцы полученой тоблицы:"
   ]
  },
  {
   "cell_type": "code",
   "execution_count": 25,
   "id": "602ce0ab",
   "metadata": {},
   "outputs": [],
   "source": [
    "df1.columns = [\"ср\", \"вы\", \"не\", \"на\", \"уч\"]"
   ]
  },
  {
   "cell_type": "markdown",
   "id": "14341552",
   "metadata": {},
   "source": [
    "С помощью сводной таблицы заполним пропуски основной таблицы:"
   ]
  },
  {
   "cell_type": "code",
   "execution_count": 26,
   "id": "899bb6e3",
   "metadata": {},
   "outputs": [],
   "source": [
    "def f(x: int, a: int, e: str) -> int:\n",
    "    \"\"\"\n",
    "    Функция принимает на вход значения трех ячеек из столбцов 'monthly_income\", 'age', 'education'\n",
    "    и если ячейка столбцо 'monthly_income' пустая, возвращает значение из сводной таблице, которое \n",
    "    соответствует возрасту и уровню образования пустой клетки, если эти данные есть в сводной таблице.\n",
    "    Если таких даннх нет, то она возвращает среднее значение по всему столбцу 'monthly_income'. Если\n",
    "    же ячейка изначально не пуста, то функция возвращает ее.\n",
    "    \"\"\"\n",
    "    if pd.isnull(x):\n",
    "        if pd.isnull(df1.loc[a, e]):\n",
    "            return everage\n",
    "        else:\n",
    "            return df1.loc[a, e]\n",
    "    else:\n",
    "        return x\n",
    "everage = df[\"monthly_income\"].mean()\n",
    "df[\"monthly_income\"] = df.apply(lambda x: f(x.monthly_income, x.age, x.education), axis=1)"
   ]
  },
  {
   "cell_type": "markdown",
   "id": "8f028827",
   "metadata": {},
   "source": [
    "Проверим пропуски, чтобы убедиться, что функция отработала корректно"
   ]
  },
  {
   "cell_type": "code",
   "execution_count": 27,
   "id": "8742313c",
   "metadata": {},
   "outputs": [
    {
     "data": {
      "text/plain": [
       "children               0.0\n",
       "age                    0.0\n",
       "education              0.0\n",
       "family_status          0.0\n",
       "debt                   0.0\n",
       "monthly_income         0.0\n",
       "purpose_of_the_loan    0.0\n",
       "dtype: float64"
      ]
     },
     "execution_count": 27,
     "metadata": {},
     "output_type": "execute_result"
    }
   ],
   "source": [
    "df.isna().mean()"
   ]
  },
  {
   "cell_type": "markdown",
   "id": "be633fae",
   "metadata": {},
   "source": [
    "Пропусков нет. Предобработка закончена.\n",
    "### Микро-вывод: предобработка\n",
    "Предобработка данных является основной и наиболее трудоемкой работой, ведь от того, как она будет проведена, будут ли учтены все моменты и нюансы или нет, зависит качество дальнейшего анализа данных. Поэтому так важно уделить этому этапу достаточное количество времени.\n",
    "В процессе предобработки мной были удалены неявные и явные дубликаты, также все пропуски были заменены используя и обрабатывая аналогичные данные. Проверка аномальных значений была также проведена и все значения, которые я посчитала отклоненными от нормы, были удалены.\n",
    "<br>\n",
    "## Анализ данных\n",
    "### Выяснить как количество детей у клиента влияет на погашение кредита без задолженностей\n",
    "Создадим сводную таблицу, где будет количесвто значений столбца 'debt' и сумма по этому столбцу (количество задолжностей) в соответствии с количеством детей:"
   ]
  },
  {
   "cell_type": "code",
   "execution_count": 28,
   "id": "c6897bda",
   "metadata": {},
   "outputs": [
    {
     "data": {
      "text/html": [
       "<div>\n",
       "<style scoped>\n",
       "    .dataframe tbody tr th:only-of-type {\n",
       "        vertical-align: middle;\n",
       "    }\n",
       "\n",
       "    .dataframe tbody tr th {\n",
       "        vertical-align: top;\n",
       "    }\n",
       "\n",
       "    .dataframe thead tr th {\n",
       "        text-align: left;\n",
       "    }\n",
       "\n",
       "    .dataframe thead tr:last-of-type th {\n",
       "        text-align: right;\n",
       "    }\n",
       "</style>\n",
       "<table border=\"1\" class=\"dataframe\">\n",
       "  <thead>\n",
       "    <tr>\n",
       "      <th></th>\n",
       "      <th>sum</th>\n",
       "      <th>len</th>\n",
       "    </tr>\n",
       "    <tr>\n",
       "      <th></th>\n",
       "      <th>debt</th>\n",
       "      <th>debt</th>\n",
       "    </tr>\n",
       "    <tr>\n",
       "      <th>children</th>\n",
       "      <th></th>\n",
       "      <th></th>\n",
       "    </tr>\n",
       "  </thead>\n",
       "  <tbody>\n",
       "    <tr>\n",
       "      <th>0</th>\n",
       "      <td>1058</td>\n",
       "      <td>13926</td>\n",
       "    </tr>\n",
       "    <tr>\n",
       "      <th>1</th>\n",
       "      <td>440</td>\n",
       "      <td>4775</td>\n",
       "    </tr>\n",
       "    <tr>\n",
       "      <th>2</th>\n",
       "      <td>194</td>\n",
       "      <td>2031</td>\n",
       "    </tr>\n",
       "    <tr>\n",
       "      <th>3</th>\n",
       "      <td>27</td>\n",
       "      <td>328</td>\n",
       "    </tr>\n",
       "    <tr>\n",
       "      <th>4</th>\n",
       "      <td>4</td>\n",
       "      <td>41</td>\n",
       "    </tr>\n",
       "    <tr>\n",
       "      <th>5</th>\n",
       "      <td>0</td>\n",
       "      <td>9</td>\n",
       "    </tr>\n",
       "  </tbody>\n",
       "</table>\n",
       "</div>"
      ],
      "text/plain": [
       "           sum    len\n",
       "          debt   debt\n",
       "children             \n",
       "0         1058  13926\n",
       "1          440   4775\n",
       "2          194   2031\n",
       "3           27    328\n",
       "4            4     41\n",
       "5            0      9"
      ]
     },
     "execution_count": 28,
     "metadata": {},
     "output_type": "execute_result"
    }
   ],
   "source": [
    "df2 = pd.pivot_table(df,\n",
    "               index = [\"children\"],\n",
    "               values = [\"debt\"],\n",
    "               aggfunc = [np.sum,len])\n",
    "df2.head(10)"
   ]
  },
  {
   "cell_type": "markdown",
   "id": "846bd32f",
   "metadata": {},
   "source": [
    "Переименуем столбцы, чтобы было удобнее анализировать оплученные данные."
   ]
  },
  {
   "cell_type": "code",
   "execution_count": 29,
   "id": "7ec8b897",
   "metadata": {
    "scrolled": true
   },
   "outputs": [],
   "source": [
    "df2.columns = [\"with_debt\", \"all_debts\"]"
   ]
  },
  {
   "cell_type": "markdown",
   "id": "419aaa70",
   "metadata": {},
   "source": [
    "Создадим еще один столбец **\"without_debt\"**, в котором запишем значение количества людей без задолжности. Его можно получить вычев из значения столбца **\"all\"** значение из столбца **\"with_debt\"**"
   ]
  },
  {
   "cell_type": "code",
   "execution_count": 30,
   "id": "56b1d37d",
   "metadata": {},
   "outputs": [
    {
     "data": {
      "text/html": [
       "<div>\n",
       "<style scoped>\n",
       "    .dataframe tbody tr th:only-of-type {\n",
       "        vertical-align: middle;\n",
       "    }\n",
       "\n",
       "    .dataframe tbody tr th {\n",
       "        vertical-align: top;\n",
       "    }\n",
       "\n",
       "    .dataframe thead th {\n",
       "        text-align: right;\n",
       "    }\n",
       "</style>\n",
       "<table border=\"1\" class=\"dataframe\">\n",
       "  <thead>\n",
       "    <tr style=\"text-align: right;\">\n",
       "      <th></th>\n",
       "      <th>with_debt</th>\n",
       "      <th>all_debts</th>\n",
       "      <th>without_debt</th>\n",
       "    </tr>\n",
       "    <tr>\n",
       "      <th>children</th>\n",
       "      <th></th>\n",
       "      <th></th>\n",
       "      <th></th>\n",
       "    </tr>\n",
       "  </thead>\n",
       "  <tbody>\n",
       "    <tr>\n",
       "      <th>0</th>\n",
       "      <td>1058</td>\n",
       "      <td>13926</td>\n",
       "      <td>12868</td>\n",
       "    </tr>\n",
       "    <tr>\n",
       "      <th>1</th>\n",
       "      <td>440</td>\n",
       "      <td>4775</td>\n",
       "      <td>4335</td>\n",
       "    </tr>\n",
       "    <tr>\n",
       "      <th>2</th>\n",
       "      <td>194</td>\n",
       "      <td>2031</td>\n",
       "      <td>1837</td>\n",
       "    </tr>\n",
       "    <tr>\n",
       "      <th>3</th>\n",
       "      <td>27</td>\n",
       "      <td>328</td>\n",
       "      <td>301</td>\n",
       "    </tr>\n",
       "    <tr>\n",
       "      <th>4</th>\n",
       "      <td>4</td>\n",
       "      <td>41</td>\n",
       "      <td>37</td>\n",
       "    </tr>\n",
       "    <tr>\n",
       "      <th>5</th>\n",
       "      <td>0</td>\n",
       "      <td>9</td>\n",
       "      <td>9</td>\n",
       "    </tr>\n",
       "  </tbody>\n",
       "</table>\n",
       "</div>"
      ],
      "text/plain": [
       "          with_debt  all_debts  without_debt\n",
       "children                                    \n",
       "0              1058      13926         12868\n",
       "1               440       4775          4335\n",
       "2               194       2031          1837\n",
       "3                27        328           301\n",
       "4                 4         41            37\n",
       "5                 0          9             9"
      ]
     },
     "execution_count": 30,
     "metadata": {},
     "output_type": "execute_result"
    }
   ],
   "source": [
    "df2[\"without_debt\"] = df2['all_debts'] - df2['with_debt']\n",
    "df2.head(10)"
   ]
  },
  {
   "cell_type": "markdown",
   "id": "cd6800b4",
   "metadata": {},
   "source": [
    "Для того, чтобы удобнее было сделать вывод, посчитаем для каждого количества детей сколько процентов от всех кредитов были без задолжностей:"
   ]
  },
  {
   "cell_type": "code",
   "execution_count": 31,
   "id": "7ef10135",
   "metadata": {},
   "outputs": [
    {
     "data": {
      "text/html": [
       "<div>\n",
       "<style scoped>\n",
       "    .dataframe tbody tr th:only-of-type {\n",
       "        vertical-align: middle;\n",
       "    }\n",
       "\n",
       "    .dataframe tbody tr th {\n",
       "        vertical-align: top;\n",
       "    }\n",
       "\n",
       "    .dataframe thead th {\n",
       "        text-align: right;\n",
       "    }\n",
       "</style>\n",
       "<table border=\"1\" class=\"dataframe\">\n",
       "  <thead>\n",
       "    <tr style=\"text-align: right;\">\n",
       "      <th></th>\n",
       "      <th>with_debt</th>\n",
       "      <th>all_debts</th>\n",
       "      <th>without_debt</th>\n",
       "      <th>answer</th>\n",
       "    </tr>\n",
       "    <tr>\n",
       "      <th>children</th>\n",
       "      <th></th>\n",
       "      <th></th>\n",
       "      <th></th>\n",
       "      <th></th>\n",
       "    </tr>\n",
       "  </thead>\n",
       "  <tbody>\n",
       "    <tr>\n",
       "      <th>0</th>\n",
       "      <td>1058</td>\n",
       "      <td>13926</td>\n",
       "      <td>12868</td>\n",
       "      <td>92.402700</td>\n",
       "    </tr>\n",
       "    <tr>\n",
       "      <th>1</th>\n",
       "      <td>440</td>\n",
       "      <td>4775</td>\n",
       "      <td>4335</td>\n",
       "      <td>90.785340</td>\n",
       "    </tr>\n",
       "    <tr>\n",
       "      <th>2</th>\n",
       "      <td>194</td>\n",
       "      <td>2031</td>\n",
       "      <td>1837</td>\n",
       "      <td>90.448055</td>\n",
       "    </tr>\n",
       "    <tr>\n",
       "      <th>3</th>\n",
       "      <td>27</td>\n",
       "      <td>328</td>\n",
       "      <td>301</td>\n",
       "      <td>91.768293</td>\n",
       "    </tr>\n",
       "    <tr>\n",
       "      <th>4</th>\n",
       "      <td>4</td>\n",
       "      <td>41</td>\n",
       "      <td>37</td>\n",
       "      <td>90.243902</td>\n",
       "    </tr>\n",
       "    <tr>\n",
       "      <th>5</th>\n",
       "      <td>0</td>\n",
       "      <td>9</td>\n",
       "      <td>9</td>\n",
       "      <td>100.000000</td>\n",
       "    </tr>\n",
       "  </tbody>\n",
       "</table>\n",
       "</div>"
      ],
      "text/plain": [
       "          with_debt  all_debts  without_debt      answer\n",
       "children                                                \n",
       "0              1058      13926         12868   92.402700\n",
       "1               440       4775          4335   90.785340\n",
       "2               194       2031          1837   90.448055\n",
       "3                27        328           301   91.768293\n",
       "4                 4         41            37   90.243902\n",
       "5                 0          9             9  100.000000"
      ]
     },
     "execution_count": 31,
     "metadata": {},
     "output_type": "execute_result"
    }
   ],
   "source": [
    "lst = df2.index\n",
    "def percent1(w: int, a: int) -> int:\n",
    "    \"\"\" \n",
    "    Функция принимает 2 числа для каждого количества детей в семье: количество людей, закрывшых\n",
    "    кредит без долгов и общее количество людей, взявших кредит. Возвращает процентное соотношение этих значений\n",
    "    \"\"\"\n",
    "    return w * 100/ a\n",
    "    \n",
    "    \n",
    "df2[\"answer\"] = df2.apply(lambda x: percent1(x.without_debt, x.all_debts), axis=1)\n",
    "df2.head(10)"
   ]
  },
  {
   "cell_type": "markdown",
   "id": "22f96417",
   "metadata": {},
   "source": [
    "Заметим, что проценты не сильно отличаются. Интересно отметить, что люди, имеющие 5 детей в 100% случаев закрыли кредит без задолжностей, хотя нельзя сказать, что это объективная оценка, т.к. из всего 9 человек.\n",
    "Остальные же проценты колеблятся от 90 до 92, причем из них наивысший процент у людей без детей (92.4%), а наименьший у людей с 4-мя детьми (90.2%).\n",
    "<br>\n",
    "### Выяснить как цель получения кредита влияет на погашение кредита без задолженностей\n",
    "<br>\n",
    "Действия не будут отличаться от тех, которые мы проводили ранее. Опять нам понадобитсья свобная таблица, на этот раз вместо количества детей будет выступать показатель причины взятия кредита (столбец **purpose_of_the_loan**). Столбец, отражающий количество людей, закрывших кредит без задолжностей мы получим тем же способом, что и раньше:"
   ]
  },
  {
   "cell_type": "code",
   "execution_count": 32,
   "id": "7c91e06f",
   "metadata": {},
   "outputs": [
    {
     "data": {
      "text/html": [
       "<div>\n",
       "<style scoped>\n",
       "    .dataframe tbody tr th:only-of-type {\n",
       "        vertical-align: middle;\n",
       "    }\n",
       "\n",
       "    .dataframe tbody tr th {\n",
       "        vertical-align: top;\n",
       "    }\n",
       "\n",
       "    .dataframe thead th {\n",
       "        text-align: right;\n",
       "    }\n",
       "</style>\n",
       "<table border=\"1\" class=\"dataframe\">\n",
       "  <thead>\n",
       "    <tr style=\"text-align: right;\">\n",
       "      <th></th>\n",
       "      <th>with_debt</th>\n",
       "      <th>all_debts</th>\n",
       "      <th>without_debt</th>\n",
       "    </tr>\n",
       "    <tr>\n",
       "      <th>purpose_of_the_loan</th>\n",
       "      <th></th>\n",
       "      <th></th>\n",
       "      <th></th>\n",
       "    </tr>\n",
       "  </thead>\n",
       "  <tbody>\n",
       "    <tr>\n",
       "      <th>автомобиль</th>\n",
       "      <td>397</td>\n",
       "      <td>4246</td>\n",
       "      <td>3849</td>\n",
       "    </tr>\n",
       "    <tr>\n",
       "      <th>жилье</th>\n",
       "      <td>312</td>\n",
       "      <td>4384</td>\n",
       "      <td>4072</td>\n",
       "    </tr>\n",
       "    <tr>\n",
       "      <th>недвижимость</th>\n",
       "      <td>182</td>\n",
       "      <td>2516</td>\n",
       "      <td>2334</td>\n",
       "    </tr>\n",
       "    <tr>\n",
       "      <th>образование</th>\n",
       "      <td>287</td>\n",
       "      <td>3055</td>\n",
       "      <td>2768</td>\n",
       "    </tr>\n",
       "    <tr>\n",
       "      <th>ремонт</th>\n",
       "      <td>222</td>\n",
       "      <td>2780</td>\n",
       "      <td>2558</td>\n",
       "    </tr>\n",
       "    <tr>\n",
       "      <th>свадьба</th>\n",
       "      <td>180</td>\n",
       "      <td>2275</td>\n",
       "      <td>2095</td>\n",
       "    </tr>\n",
       "    <tr>\n",
       "      <th>строительство</th>\n",
       "      <td>143</td>\n",
       "      <td>1854</td>\n",
       "      <td>1711</td>\n",
       "    </tr>\n",
       "  </tbody>\n",
       "</table>\n",
       "</div>"
      ],
      "text/plain": [
       "                     with_debt  all_debts  without_debt\n",
       "purpose_of_the_loan                                    \n",
       "автомобиль                 397       4246          3849\n",
       "жилье                      312       4384          4072\n",
       "недвижимость               182       2516          2334\n",
       "образование                287       3055          2768\n",
       "ремонт                     222       2780          2558\n",
       "свадьба                    180       2275          2095\n",
       "строительство              143       1854          1711"
      ]
     },
     "execution_count": 32,
     "metadata": {},
     "output_type": "execute_result"
    }
   ],
   "source": [
    "df3 = pd.pivot_table(df,\n",
    "               index = [\"purpose_of_the_loan\"],\n",
    "               values = [\"debt\"],\n",
    "               aggfunc = [np.sum,len])\n",
    "df3.columns = [\"with_debt\", \"all_debts\"]\n",
    "df3[\"without_debt\"] = df3['all_debts'] - df3['with_debt']\n",
    "df3.head(10)"
   ]
  },
  {
   "cell_type": "code",
   "execution_count": 33,
   "id": "2d7d2616",
   "metadata": {},
   "outputs": [
    {
     "data": {
      "text/html": [
       "<div>\n",
       "<style scoped>\n",
       "    .dataframe tbody tr th:only-of-type {\n",
       "        vertical-align: middle;\n",
       "    }\n",
       "\n",
       "    .dataframe tbody tr th {\n",
       "        vertical-align: top;\n",
       "    }\n",
       "\n",
       "    .dataframe thead th {\n",
       "        text-align: right;\n",
       "    }\n",
       "</style>\n",
       "<table border=\"1\" class=\"dataframe\">\n",
       "  <thead>\n",
       "    <tr style=\"text-align: right;\">\n",
       "      <th></th>\n",
       "      <th>with_debt</th>\n",
       "      <th>all_debts</th>\n",
       "      <th>without_debt</th>\n",
       "      <th>answer</th>\n",
       "    </tr>\n",
       "    <tr>\n",
       "      <th>purpose_of_the_loan</th>\n",
       "      <th></th>\n",
       "      <th></th>\n",
       "      <th></th>\n",
       "      <th></th>\n",
       "    </tr>\n",
       "  </thead>\n",
       "  <tbody>\n",
       "    <tr>\n",
       "      <th>автомобиль</th>\n",
       "      <td>397</td>\n",
       "      <td>4246</td>\n",
       "      <td>3849</td>\n",
       "      <td>90.650024</td>\n",
       "    </tr>\n",
       "    <tr>\n",
       "      <th>жилье</th>\n",
       "      <td>312</td>\n",
       "      <td>4384</td>\n",
       "      <td>4072</td>\n",
       "      <td>92.883212</td>\n",
       "    </tr>\n",
       "    <tr>\n",
       "      <th>недвижимость</th>\n",
       "      <td>182</td>\n",
       "      <td>2516</td>\n",
       "      <td>2334</td>\n",
       "      <td>92.766296</td>\n",
       "    </tr>\n",
       "    <tr>\n",
       "      <th>образование</th>\n",
       "      <td>287</td>\n",
       "      <td>3055</td>\n",
       "      <td>2768</td>\n",
       "      <td>90.605565</td>\n",
       "    </tr>\n",
       "    <tr>\n",
       "      <th>ремонт</th>\n",
       "      <td>222</td>\n",
       "      <td>2780</td>\n",
       "      <td>2558</td>\n",
       "      <td>92.014388</td>\n",
       "    </tr>\n",
       "    <tr>\n",
       "      <th>свадьба</th>\n",
       "      <td>180</td>\n",
       "      <td>2275</td>\n",
       "      <td>2095</td>\n",
       "      <td>92.087912</td>\n",
       "    </tr>\n",
       "    <tr>\n",
       "      <th>строительство</th>\n",
       "      <td>143</td>\n",
       "      <td>1854</td>\n",
       "      <td>1711</td>\n",
       "      <td>92.286947</td>\n",
       "    </tr>\n",
       "  </tbody>\n",
       "</table>\n",
       "</div>"
      ],
      "text/plain": [
       "                     with_debt  all_debts  without_debt     answer\n",
       "purpose_of_the_loan                                               \n",
       "автомобиль                 397       4246          3849  90.650024\n",
       "жилье                      312       4384          4072  92.883212\n",
       "недвижимость               182       2516          2334  92.766296\n",
       "образование                287       3055          2768  90.605565\n",
       "ремонт                     222       2780          2558  92.014388\n",
       "свадьба                    180       2275          2095  92.087912\n",
       "строительство              143       1854          1711  92.286947"
      ]
     },
     "execution_count": 33,
     "metadata": {},
     "output_type": "execute_result"
    }
   ],
   "source": [
    "lst = df3.index\n",
    "def percent2(w: int, a: int) -> int:\n",
    "    \"\"\" \n",
    "    Функция принимает 2 числа для каждой из причин взятия кредита: количество людей, закрывшых\n",
    "    его без долгов и общее количество людей, взявших кредит. Возвращает процентное соотношение этих значений\n",
    "    \"\"\"\n",
    "    return w * 100/ a\n",
    "    \n",
    "    \n",
    "df3[\"answer\"] = df3.apply(lambda x: percent2(x.without_debt, x.all_debts), axis=1)\n",
    "df3.head(10)"
   ]
  },
  {
   "cell_type": "markdown",
   "id": "736ea376",
   "metadata": {},
   "source": [
    "Проценты погашенных без задолженностей кредитов снова большие (что для меня удивительно), причем диапазон их колебания опять от 90 до 93. Наибольший процент погашения кредитов без задолженностей возникает, когда причина взятия кредита - жилье (92.9%), а наименьший при взятии кредита на образование (90.6%)\n",
    "<br>\n",
    "### Выяснить как семейное положение влияет на погашение кредита без задолженностей\n",
    "<br>\n",
    "Тут я буду действовать так же. Только в качестве значений названия строк будет выступать столбец **\"family_status\"**"
   ]
  },
  {
   "cell_type": "code",
   "execution_count": 34,
   "id": "218ba241",
   "metadata": {},
   "outputs": [
    {
     "data": {
      "text/html": [
       "<div>\n",
       "<style scoped>\n",
       "    .dataframe tbody tr th:only-of-type {\n",
       "        vertical-align: middle;\n",
       "    }\n",
       "\n",
       "    .dataframe tbody tr th {\n",
       "        vertical-align: top;\n",
       "    }\n",
       "\n",
       "    .dataframe thead th {\n",
       "        text-align: right;\n",
       "    }\n",
       "</style>\n",
       "<table border=\"1\" class=\"dataframe\">\n",
       "  <thead>\n",
       "    <tr style=\"text-align: right;\">\n",
       "      <th></th>\n",
       "      <th>with_debt</th>\n",
       "      <th>all_debts</th>\n",
       "      <th>without_debt</th>\n",
       "    </tr>\n",
       "    <tr>\n",
       "      <th>family_status</th>\n",
       "      <th></th>\n",
       "      <th></th>\n",
       "      <th></th>\n",
       "    </tr>\n",
       "  </thead>\n",
       "  <tbody>\n",
       "    <tr>\n",
       "      <th>вд</th>\n",
       "      <td>62</td>\n",
       "      <td>943</td>\n",
       "      <td>881</td>\n",
       "    </tr>\n",
       "    <tr>\n",
       "      <th>гб</th>\n",
       "      <td>382</td>\n",
       "      <td>4088</td>\n",
       "      <td>3706</td>\n",
       "    </tr>\n",
       "    <tr>\n",
       "      <th>ж/з</th>\n",
       "      <td>923</td>\n",
       "      <td>12123</td>\n",
       "      <td>11200</td>\n",
       "    </tr>\n",
       "    <tr>\n",
       "      <th>нет</th>\n",
       "      <td>272</td>\n",
       "      <td>2778</td>\n",
       "      <td>2506</td>\n",
       "    </tr>\n",
       "    <tr>\n",
       "      <th>р</th>\n",
       "      <td>84</td>\n",
       "      <td>1178</td>\n",
       "      <td>1094</td>\n",
       "    </tr>\n",
       "  </tbody>\n",
       "</table>\n",
       "</div>"
      ],
      "text/plain": [
       "               with_debt  all_debts  without_debt\n",
       "family_status                                    \n",
       "вд                    62        943           881\n",
       "гб                   382       4088          3706\n",
       "ж/з                  923      12123         11200\n",
       "нет                  272       2778          2506\n",
       "р                     84       1178          1094"
      ]
     },
     "execution_count": 34,
     "metadata": {},
     "output_type": "execute_result"
    }
   ],
   "source": [
    "df4 = pd.pivot_table(df,\n",
    "               index = [\"family_status\"],\n",
    "               values = [\"debt\"],\n",
    "               aggfunc = [np.sum,len])\n",
    "df4.columns = [\"with_debt\", \"all_debts\"]\n",
    "df4[\"without_debt\"] = df4['all_debts'] - df4['with_debt']\n",
    "df4.head(10)"
   ]
  },
  {
   "cell_type": "code",
   "execution_count": 35,
   "id": "bc347e32",
   "metadata": {},
   "outputs": [
    {
     "data": {
      "text/html": [
       "<div>\n",
       "<style scoped>\n",
       "    .dataframe tbody tr th:only-of-type {\n",
       "        vertical-align: middle;\n",
       "    }\n",
       "\n",
       "    .dataframe tbody tr th {\n",
       "        vertical-align: top;\n",
       "    }\n",
       "\n",
       "    .dataframe thead th {\n",
       "        text-align: right;\n",
       "    }\n",
       "</style>\n",
       "<table border=\"1\" class=\"dataframe\">\n",
       "  <thead>\n",
       "    <tr style=\"text-align: right;\">\n",
       "      <th></th>\n",
       "      <th>with_debt</th>\n",
       "      <th>all_debts</th>\n",
       "      <th>without_debt</th>\n",
       "      <th>answer</th>\n",
       "    </tr>\n",
       "    <tr>\n",
       "      <th>family_status</th>\n",
       "      <th></th>\n",
       "      <th></th>\n",
       "      <th></th>\n",
       "      <th></th>\n",
       "    </tr>\n",
       "  </thead>\n",
       "  <tbody>\n",
       "    <tr>\n",
       "      <th>вд</th>\n",
       "      <td>62</td>\n",
       "      <td>943</td>\n",
       "      <td>881</td>\n",
       "      <td>93.425239</td>\n",
       "    </tr>\n",
       "    <tr>\n",
       "      <th>гб</th>\n",
       "      <td>382</td>\n",
       "      <td>4088</td>\n",
       "      <td>3706</td>\n",
       "      <td>90.655577</td>\n",
       "    </tr>\n",
       "    <tr>\n",
       "      <th>ж/з</th>\n",
       "      <td>923</td>\n",
       "      <td>12123</td>\n",
       "      <td>11200</td>\n",
       "      <td>92.386373</td>\n",
       "    </tr>\n",
       "    <tr>\n",
       "      <th>нет</th>\n",
       "      <td>272</td>\n",
       "      <td>2778</td>\n",
       "      <td>2506</td>\n",
       "      <td>90.208783</td>\n",
       "    </tr>\n",
       "    <tr>\n",
       "      <th>р</th>\n",
       "      <td>84</td>\n",
       "      <td>1178</td>\n",
       "      <td>1094</td>\n",
       "      <td>92.869270</td>\n",
       "    </tr>\n",
       "  </tbody>\n",
       "</table>\n",
       "</div>"
      ],
      "text/plain": [
       "               with_debt  all_debts  without_debt     answer\n",
       "family_status                                               \n",
       "вд                    62        943           881  93.425239\n",
       "гб                   382       4088          3706  90.655577\n",
       "ж/з                  923      12123         11200  92.386373\n",
       "нет                  272       2778          2506  90.208783\n",
       "р                     84       1178          1094  92.869270"
      ]
     },
     "execution_count": 35,
     "metadata": {},
     "output_type": "execute_result"
    }
   ],
   "source": [
    "lst = df4.index\n",
    "def percent3(w: int, a: int) -> int:\n",
    "    \"\"\" \n",
    "    Функция принимает 2 числа для каждого из возможных семейных статусов: количество людей, закрывшых\n",
    "    кредит без долгов и общее количество людей, которые его взяли. Возвращает процентное соотношение \n",
    "    этих значений\n",
    "    \"\"\"\n",
    "    return w * 100/ a\n",
    "    \n",
    "    \n",
    "df4[\"answer\"] = df4.apply(lambda x: percent3(x.without_debt, x.all_debts), axis=1)\n",
    "df4.head(10)\n",
    "\n"
   ]
  },
  {
   "cell_type": "markdown",
   "id": "74ab8df6",
   "metadata": {},
   "source": [
    "По статистике видно, что колебание происходит от 90 до 93.4 процентов. Чаще всего отдают кредит без задолжностей вдовы/вдовцы (93.4%), а реже люди не бывшие в браке (90.2%).\n",
    "<br>\n",
    "### Микро-вывод: анализ\n",
    "Анализ данных в целом был достаточно простым за счет своей схожести при решении поставленных задач. Все решалось с помощью составления сводных таблиц и дальнейшей их обработки. Итоговые проценты при ответе на все три вопроса показались мне достаточно странными. Хотя общий процент людей с задолжностями равен всего 8.9 процентов, так что можно понять, почему так получилось\n",
    "## Вывод\n",
    "Итак, в процессе моей работы, я провела обзор, предобработку и анализ данных, ответив на все 3 поставленных задачи. Обзор данных был классическим, там присутствовала проверка типов данных, общее количество столбцов и строк и т.п. Предобработка включала в себя замену пропусков не просто на среднее значение, а на среднее значение по категории (возраст и образование). Также в предобработке я поработала с неявными дубликатами. Сам анализ был разделен на задачи. В основном я использовала сводные таблицы для их решения. С их помощью я выбирала нужные значения из всех имеющихся, и соспоставляла с выбранным параметром.Еще я активно использовала метод \"apply\". Таким образом мне удалось проследить закономерность между количесвтом людей, погасивших кредит без задолжности и семейнм положением/целью взятия кредита/количеством детей.\n",
    "\n",
    "\n"
   ]
  }
 ],
 "metadata": {
  "kernelspec": {
   "display_name": "Python 3 (ipykernel)",
   "language": "python",
   "name": "python3"
  },
  "language_info": {
   "codemirror_mode": {
    "name": "ipython",
    "version": 3
   },
   "file_extension": ".py",
   "mimetype": "text/x-python",
   "name": "python",
   "nbconvert_exporter": "python",
   "pygments_lexer": "ipython3",
   "version": "3.12.7"
  }
 },
 "nbformat": 4,
 "nbformat_minor": 5
}
