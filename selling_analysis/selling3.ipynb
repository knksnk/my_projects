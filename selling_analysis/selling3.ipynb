{
 "cells": [
  {
   "cell_type": "markdown",
   "id": "88ade4ad",
   "metadata": {},
   "source": [
    "# Продажи недвижимости в России (поиск выбросов)\n",
    "**Источник:** <br>https://www.kaggle.com/\n",
    "<br>\n",
    "<br>\n",
    "**Цели:** <br>● провести предобработку данных, для последующего их удобного анализа\n",
    "<br>\n",
    "● проанализировать данные в соответсвии с имеющимися задачами\n",
    "<br>\n",
    "<br>\n",
    "**Задачи:** <br>● проверить данные на мультиколлинеарность\n",
    "<br>● исключиь один или несколько признаков \n",
    "<br>● преобразуйте категориальные признаки в численные\n",
    "<br>● получить предсказания модели на валидационной выборке\n",
    "<br>● сравнить с предсказаниями модели, выдающей среднюю цену\n",
    "<br>\n",
    "<br>\n",
    "**Входные данные:** <br>входные данные представляют собой 2 файла csv, содержащие в себе информацию о недвижимости 2х регионов\n",
    "<br>\n",
    "<br>\n",
    "**Используемые библиотеки:** <br>pandas\n",
    "<br>numpy\n",
    "<br>sklearn\n",
    "<br>matplotlib.pyplot\n",
    "<br>seaborn\n",
    "<br>math\n",
    "<br>sklearn.model_selection\n",
    "<br>sklearn.linear_model\n",
    "<br>sklearn.metrics\n",
    "<br>sklearn.preprocessing\n",
    "<br>\n",
    "<br>\n",
    "Для начала импортируем библиотеки"
   ]
  },
  {
   "cell_type": "code",
   "execution_count": 1,
   "id": "10243b0f",
   "metadata": {},
   "outputs": [],
   "source": [
    "import pandas as pd\n",
    "import numpy as np\n",
    "from sklearn import datasets\n",
    "from sklearn.model_selection import train_test_split\n",
    "from sklearn.linear_model import LinearRegression\n",
    "from sklearn.metrics import mean_squared_error\n",
    "from sklearn.dummy import DummyRegressor\n",
    "from sklearn.preprocessing import StandardScaler \n",
    "import math"
   ]
  },
  {
   "cell_type": "markdown",
   "id": "a50c7fa2",
   "metadata": {},
   "source": [
    "Считаем 2 файла, содержащие данные по недвижимости двух регионов"
   ]
  },
  {
   "cell_type": "code",
   "execution_count": 2,
   "id": "df0c234d",
   "metadata": {},
   "outputs": [],
   "source": [
    "df1 = pd.read_csv(\"out2.csv\")\n",
    "df2 = pd.read_csv(\"out3.csv\")"
   ]
  },
  {
   "cell_type": "markdown",
   "id": "b077ecbb",
   "metadata": {},
   "source": [
    "Сохраним их в один файл и выведем основую информацию"
   ]
  },
  {
   "cell_type": "code",
   "execution_count": 3,
   "id": "e6ffbd14",
   "metadata": {},
   "outputs": [
    {
     "name": "stdout",
     "output_type": "stream",
     "text": [
      "<class 'pandas.core.frame.DataFrame'>\n",
      "RangeIndex: 16609 entries, 0 to 16608\n",
      "Data columns (total 11 columns):\n",
      " #   Column         Non-Null Count  Dtype  \n",
      "---  ------         --------------  -----  \n",
      " 0   Unnamed: 0     16609 non-null  int64  \n",
      " 1   price          16609 non-null  int64  \n",
      " 2   region         16609 non-null  int64  \n",
      " 3   building_type  16609 non-null  int64  \n",
      " 4   rooms          16609 non-null  int64  \n",
      " 5   area           16609 non-null  float64\n",
      " 6   object_type    16609 non-null  int64  \n",
      " 7   prise_meter    16609 non-null  float64\n",
      " 8   month          16609 non-null  int64  \n",
      " 9   year           16609 non-null  int64  \n",
      " 10  flat           16609 non-null  int64  \n",
      "dtypes: float64(2), int64(9)\n",
      "memory usage: 1.4 MB\n"
     ]
    },
    {
     "name": "stderr",
     "output_type": "stream",
     "text": [
      "/var/folders/rt/mvnmln8j70d9fmnh5b6pl1qr0000gn/T/ipykernel_95201/69343806.py:1: FutureWarning: The frame.append method is deprecated and will be removed from pandas in a future version. Use pandas.concat instead.\n",
      "  df = df1.append(df2, ignore_index=True)\n"
     ]
    }
   ],
   "source": [
    "df = df1.append(df2, ignore_index=True) \n",
    "df.info()"
   ]
  },
  {
   "cell_type": "markdown",
   "id": "71786fe4",
   "metadata": {},
   "source": [
    "Почему-то когда я удаляю столбец rooms или area, погрешность увеличивается, так я решила это не делать"
   ]
  },
  {
   "cell_type": "code",
   "execution_count": 4,
   "id": "017e2140",
   "metadata": {},
   "outputs": [],
   "source": [
    "df = df.drop([\"Unnamed: 0\"], axis=1)"
   ]
  },
  {
   "cell_type": "markdown",
   "id": "2c760cc6",
   "metadata": {},
   "source": [
    "Преобразую категориальные признаки в численные:"
   ]
  },
  {
   "cell_type": "code",
   "execution_count": 5,
   "id": "5b0e7ae2",
   "metadata": {},
   "outputs": [],
   "source": [
    "df[\"first_flat\"] = df[\"flat\"].apply(lambda x: int(x == 0))\n",
    "df[\"last_flat\"] = df[\"flat\"].apply(lambda x: int(x == 1))\n",
    "df = df.drop([\"flat\"], axis = 1)"
   ]
  },
  {
   "cell_type": "code",
   "execution_count": 6,
   "id": "c5db0423",
   "metadata": {},
   "outputs": [],
   "source": [
    "df[\"panel\"] = df[\"building_type\"].apply(lambda x: int(x == 1))\n",
    "df[\"mono\"] = df[\"building_type\"].apply(lambda x: int(x == 2))\n",
    "df[\"brick\"] = df[\"building_type\"].apply(lambda x: int(x == 3))\n",
    "df[\"block\"] = df[\"building_type\"].apply(lambda x: int(x == 4))\n",
    "df[\"wood\"] = df[\"building_type\"].apply(lambda x: int(x == 5))\n",
    "df = df.drop([\"building_type\"], axis = 1)"
   ]
  },
  {
   "cell_type": "code",
   "execution_count": 7,
   "id": "9b0c5415",
   "metadata": {},
   "outputs": [],
   "source": [
    "df = pd.get_dummies(df, columns=['object_type'], drop_first= True)"
   ]
  },
  {
   "cell_type": "code",
   "execution_count": 8,
   "id": "4d007000",
   "metadata": {},
   "outputs": [],
   "source": [
    "df = pd.get_dummies(df, columns=['region'], drop_first= True)"
   ]
  },
  {
   "cell_type": "code",
   "execution_count": 9,
   "id": "63d0eee2",
   "metadata": {
    "scrolled": true
   },
   "outputs": [
    {
     "data": {
      "text/html": [
       "<div>\n",
       "<style scoped>\n",
       "    .dataframe tbody tr th:only-of-type {\n",
       "        vertical-align: middle;\n",
       "    }\n",
       "\n",
       "    .dataframe tbody tr th {\n",
       "        vertical-align: top;\n",
       "    }\n",
       "\n",
       "    .dataframe thead th {\n",
       "        text-align: right;\n",
       "    }\n",
       "</style>\n",
       "<table border=\"1\" class=\"dataframe\">\n",
       "  <thead>\n",
       "    <tr style=\"text-align: right;\">\n",
       "      <th></th>\n",
       "      <th>price</th>\n",
       "      <th>rooms</th>\n",
       "      <th>area</th>\n",
       "      <th>prise_meter</th>\n",
       "      <th>month</th>\n",
       "      <th>year</th>\n",
       "      <th>first_flat</th>\n",
       "      <th>last_flat</th>\n",
       "      <th>panel</th>\n",
       "      <th>mono</th>\n",
       "      <th>brick</th>\n",
       "      <th>block</th>\n",
       "      <th>wood</th>\n",
       "      <th>object_type_11</th>\n",
       "      <th>region_5282</th>\n",
       "    </tr>\n",
       "  </thead>\n",
       "  <tbody>\n",
       "    <tr>\n",
       "      <th>0</th>\n",
       "      <td>1800000</td>\n",
       "      <td>2</td>\n",
       "      <td>53.0</td>\n",
       "      <td>33962.264151</td>\n",
       "      <td>9</td>\n",
       "      <td>2018</td>\n",
       "      <td>1</td>\n",
       "      <td>0</td>\n",
       "      <td>0</td>\n",
       "      <td>0</td>\n",
       "      <td>1</td>\n",
       "      <td>0</td>\n",
       "      <td>0</td>\n",
       "      <td>0</td>\n",
       "      <td>1</td>\n",
       "    </tr>\n",
       "    <tr>\n",
       "      <th>1</th>\n",
       "      <td>2600000</td>\n",
       "      <td>3</td>\n",
       "      <td>65.6</td>\n",
       "      <td>39634.146341</td>\n",
       "      <td>9</td>\n",
       "      <td>2018</td>\n",
       "      <td>0</td>\n",
       "      <td>0</td>\n",
       "      <td>1</td>\n",
       "      <td>0</td>\n",
       "      <td>0</td>\n",
       "      <td>0</td>\n",
       "      <td>0</td>\n",
       "      <td>1</td>\n",
       "      <td>1</td>\n",
       "    </tr>\n",
       "    <tr>\n",
       "      <th>2</th>\n",
       "      <td>1600000</td>\n",
       "      <td>3</td>\n",
       "      <td>62.0</td>\n",
       "      <td>25806.451613</td>\n",
       "      <td>9</td>\n",
       "      <td>2018</td>\n",
       "      <td>0</td>\n",
       "      <td>0</td>\n",
       "      <td>0</td>\n",
       "      <td>0</td>\n",
       "      <td>1</td>\n",
       "      <td>0</td>\n",
       "      <td>0</td>\n",
       "      <td>0</td>\n",
       "      <td>1</td>\n",
       "    </tr>\n",
       "    <tr>\n",
       "      <th>3</th>\n",
       "      <td>1400000</td>\n",
       "      <td>1</td>\n",
       "      <td>41.0</td>\n",
       "      <td>34146.341463</td>\n",
       "      <td>9</td>\n",
       "      <td>2018</td>\n",
       "      <td>0</td>\n",
       "      <td>0</td>\n",
       "      <td>0</td>\n",
       "      <td>0</td>\n",
       "      <td>1</td>\n",
       "      <td>0</td>\n",
       "      <td>0</td>\n",
       "      <td>0</td>\n",
       "      <td>1</td>\n",
       "    </tr>\n",
       "    <tr>\n",
       "      <th>4</th>\n",
       "      <td>1650000</td>\n",
       "      <td>2</td>\n",
       "      <td>43.0</td>\n",
       "      <td>38372.093023</td>\n",
       "      <td>9</td>\n",
       "      <td>2018</td>\n",
       "      <td>0</td>\n",
       "      <td>0</td>\n",
       "      <td>0</td>\n",
       "      <td>0</td>\n",
       "      <td>1</td>\n",
       "      <td>0</td>\n",
       "      <td>0</td>\n",
       "      <td>0</td>\n",
       "      <td>1</td>\n",
       "    </tr>\n",
       "  </tbody>\n",
       "</table>\n",
       "</div>"
      ],
      "text/plain": [
       "     price  rooms  area   prise_meter  month  year  first_flat  last_flat  \\\n",
       "0  1800000      2  53.0  33962.264151      9  2018           1          0   \n",
       "1  2600000      3  65.6  39634.146341      9  2018           0          0   \n",
       "2  1600000      3  62.0  25806.451613      9  2018           0          0   \n",
       "3  1400000      1  41.0  34146.341463      9  2018           0          0   \n",
       "4  1650000      2  43.0  38372.093023      9  2018           0          0   \n",
       "\n",
       "   panel  mono  brick  block  wood  object_type_11  region_5282  \n",
       "0      0     0      1      0     0               0            1  \n",
       "1      1     0      0      0     0               1            1  \n",
       "2      0     0      1      0     0               0            1  \n",
       "3      0     0      1      0     0               0            1  \n",
       "4      0     0      1      0     0               0            1  "
      ]
     },
     "execution_count": 9,
     "metadata": {},
     "output_type": "execute_result"
    }
   ],
   "source": [
    "df.head()"
   ]
  },
  {
   "cell_type": "markdown",
   "id": "54f3735a",
   "metadata": {},
   "source": [
    "Выделю целевой признак и другие признаки"
   ]
  },
  {
   "cell_type": "code",
   "execution_count": 10,
   "id": "1469f989",
   "metadata": {},
   "outputs": [],
   "source": [
    "target = df[\"price\"]\n",
    "features = df.drop([\"price\"], axis=1)"
   ]
  },
  {
   "cell_type": "markdown",
   "id": "6d4dca84",
   "metadata": {},
   "source": [
    "Разбью данные на обучающую и валидационную выборки"
   ]
  },
  {
   "cell_type": "code",
   "execution_count": 11,
   "id": "dc9e44db",
   "metadata": {},
   "outputs": [],
   "source": [
    "np.random.seed(31415)\n",
    "features_train, features_valid, target_train, target_valid = train_test_split(features, target, test_size=0.25)"
   ]
  },
  {
   "cell_type": "markdown",
   "id": "3c9c54fb",
   "metadata": {},
   "source": [
    "Приведу признаки к одному масштабу."
   ]
  },
  {
   "cell_type": "code",
   "execution_count": 12,
   "id": "fc79198c",
   "metadata": {},
   "outputs": [],
   "source": [
    "scaler = StandardScaler() \n",
    "scaler.fit(features_train)\n",
    "features_train = scaler.transform(features_train)\n",
    "features_valid = scaler.transform(features_valid)"
   ]
  },
  {
   "cell_type": "markdown",
   "id": "ae309275",
   "metadata": {},
   "source": [
    "Инициализирую модель линейной регрессии, обучу модель на обучающей выборке. Получу предсказания модели на валидационной выборке и посчитаю метрику RMSE на валидационной выборке."
   ]
  },
  {
   "cell_type": "code",
   "execution_count": 13,
   "id": "19a2a9e8",
   "metadata": {},
   "outputs": [
    {
     "name": "stdout",
     "output_type": "stream",
     "text": [
      "228959.96692164993\n"
     ]
    }
   ],
   "source": [
    "model = LinearRegression()\n",
    "model.fit(features_train, target_train)\n",
    "predictions_valid = model.predict(features_valid)\n",
    "x = mean_squared_error(target_valid, predictions_valid)\n",
    "print(math.sqrt(x))"
   ]
  },
  {
   "cell_type": "markdown",
   "id": "4b03c759",
   "metadata": {},
   "source": [
    "Проверю модель на адекатность."
   ]
  },
  {
   "cell_type": "code",
   "execution_count": 14,
   "id": "485df9ae",
   "metadata": {},
   "outputs": [
    {
     "name": "stdout",
     "output_type": "stream",
     "text": [
      "967706.501049382\n"
     ]
    }
   ],
   "source": [
    "dummy_regr = DummyRegressor(strategy=\"mean\")\n",
    "dummy_regr.fit(features_train, target_train)\n",
    "predictions_valid = dummy_regr.predict(features_valid)\n",
    "x = mean_squared_error(target_valid, predictions_valid)\n",
    "print(math.sqrt(x))"
   ]
  },
  {
   "cell_type": "markdown",
   "id": "b3ad8fc1",
   "metadata": {},
   "source": [
    "## Вывод\n",
    "Таким образом, после обработки данных, погрешность уменьшилась почти на 20 тысяч. Это не так много. Но если сравнивать с результатом, который выдала модель DummyRegressor (967706.501049382), то результат достаточно хороший. "
   ]
  }
 ],
 "metadata": {
  "kernelspec": {
   "display_name": "Python 3 (ipykernel)",
   "language": "python",
   "name": "python3"
  },
  "language_info": {
   "codemirror_mode": {
    "name": "ipython",
    "version": 3
   },
   "file_extension": ".py",
   "mimetype": "text/x-python",
   "name": "python",
   "nbconvert_exporter": "python",
   "pygments_lexer": "ipython3",
   "version": "3.12.7"
  }
 },
 "nbformat": 4,
 "nbformat_minor": 5
}
