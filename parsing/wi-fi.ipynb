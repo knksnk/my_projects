{
 "cells": [
  {
   "cell_type": "markdown",
   "id": "0e6d57ca",
   "metadata": {},
   "source": [
    "\n",
    "1) Посчитать для каждого района Москвы количество точек доступа в этом районе. <br>\n",
    "2) Найти ближайшую к школе Летово точку доступа городского Wi-Fi.\n",
    "<br>\n",
    "<br>\n",
    "**Входные данные:** <br>csv файл с кодировкой Windows-1251, содержащий в себе информацию о местах расположения точек бесплатной городской сети Wi-Fi.\n",
    "<br>\n",
    "<br>\n",
    "**Используемые библиотеки:** <br>pandas\n",
    "<br>re\n",
    "<br>math\n",
    "<br>\n",
    "<br>\n",
    "Импортируем библиотеки"
   ]
  },
  {
   "cell_type": "code",
   "execution_count": 1,
   "id": "dc21ad50",
   "metadata": {},
   "outputs": [],
   "source": [
    "import pandas as pd\n",
    "import re\n",
    "from math import radians, cos, sin, asin, sqrt"
   ]
  },
  {
   "cell_type": "markdown",
   "id": "55f5339e",
   "metadata": {},
   "source": [
    "Считаем файл с данными, который мы предварительно сохранили. Заметим, что вместо запятых, характерных для файлов \"csv\", там используются \";\". Также кодировка этого файла \"Windows-1251\". Учтем это при считывании. Запишем его в переменную df:"
   ]
  },
  {
   "cell_type": "code",
   "execution_count": 2,
   "id": "a255fee2",
   "metadata": {},
   "outputs": [],
   "source": [
    "df = pd.read_csv(\"data-9776-2021-06-17.csv\", encoding='Windows-1251', sep = \";\")"
   ]
  },
  {
   "cell_type": "markdown",
   "id": "240ce7d9",
   "metadata": {},
   "source": [
    "Выведем основную информацию о данных:"
   ]
  },
  {
   "cell_type": "code",
   "execution_count": 3,
   "id": "3f3e1d6b",
   "metadata": {},
   "outputs": [
    {
     "name": "stdout",
     "output_type": "stream",
     "text": [
      "<class 'pandas.core.frame.DataFrame'>\n",
      "RangeIndex: 3059 entries, 0 to 3058\n",
      "Data columns (total 16 columns):\n",
      " #   Column                Non-Null Count  Dtype  \n",
      "---  ------                --------------  -----  \n",
      " 0   Latitude_WGS84        3059 non-null   float64\n",
      " 1   Name                  3059 non-null   object \n",
      " 2   AdmArea               3059 non-null   object \n",
      " 3   District              3059 non-null   object \n",
      " 4   Location              3059 non-null   object \n",
      " 5   NumberOfAccessPoints  3059 non-null   int64  \n",
      " 6   WiFiName              3059 non-null   object \n",
      " 7   CoverageArea          3059 non-null   int64  \n",
      " 8   FunctionFlag          3059 non-null   object \n",
      " 9   AccessFlag            3059 non-null   object \n",
      " 10  Password              0 non-null      float64\n",
      " 11  Longitude_WGS84       3059 non-null   float64\n",
      " 12  global_id             3059 non-null   int64  \n",
      " 13  geodata_center        3059 non-null   object \n",
      " 14  geoarea               0 non-null      float64\n",
      " 15  Unnamed: 15           0 non-null      float64\n",
      "dtypes: float64(5), int64(3), object(8)\n",
      "memory usage: 382.5+ KB\n"
     ]
    }
   ],
   "source": [
    "df.info()"
   ]
  },
  {
   "cell_type": "markdown",
   "id": "40d72f0f",
   "metadata": {},
   "source": [
    "Заметим, что данные представляют из себя таблицу в 16 столбцов и 3059 строчек. Количество строчек небольшое, но будем работать с тем, что имеем."
   ]
  },
  {
   "cell_type": "code",
   "execution_count": 4,
   "id": "1bbc573c",
   "metadata": {},
   "outputs": [
    {
     "data": {
      "text/plain": [
       "Index(['Latitude_WGS84', 'Name', 'AdmArea', 'District', 'Location',\n",
       "       'NumberOfAccessPoints', 'WiFiName', 'CoverageArea', 'FunctionFlag',\n",
       "       'AccessFlag', 'Password', 'Longitude_WGS84', 'global_id',\n",
       "       'geodata_center', 'geoarea', 'Unnamed: 15'],\n",
       "      dtype='object')"
      ]
     },
     "execution_count": 4,
     "metadata": {},
     "output_type": "execute_result"
    }
   ],
   "source": [
    "df.columns "
   ]
  },
  {
   "cell_type": "markdown",
   "id": "9901a8c2",
   "metadata": {},
   "source": [
    "Заметим, что названия колонок написаны не в стиле **snake_case**. Исправим это. "
   ]
  },
  {
   "cell_type": "code",
   "execution_count": 5,
   "id": "b9abe99c",
   "metadata": {},
   "outputs": [
    {
     "name": "stderr",
     "output_type": "stream",
     "text": [
      "/var/folders/rt/mvnmln8j70d9fmnh5b6pl1qr0000gn/T/ipykernel_41337/2030895304.py:1: FutureWarning: The default value of regex will change from True to False in a future version.\n",
      "  df.columns = df.columns.str.replace(r'(?<!^)(?=[A-Z])', \"_\").str.lower()\n"
     ]
    }
   ],
   "source": [
    "df.columns = df.columns.str.replace(r'(?<!^)(?=[A-Z])', \"_\").str.lower()\n"
   ]
  },
  {
   "cell_type": "markdown",
   "id": "d84140fa",
   "metadata": {},
   "source": [
    "Заметим, что есть ненужные для анализа столбцы. Так например \"password\", \"geoarea\", \"unnamed: 15\", \"latitude_wgs84\", \"name\", \"adm_area\", \"wi_fi_name\", \"coverage_area\", \"function_flag\", \"access_flag\", \"longitude_wgs84\", \"global_id\", \"geodata_center\" и т.п. Удалим их"
   ]
  },
  {
   "cell_type": "code",
   "execution_count": 6,
   "id": "63fc9be2",
   "metadata": {},
   "outputs": [],
   "source": [
    "df = df.drop([\"name\", \"adm_area\", \"wi_fi_name\", \"coverage_area\", \"function_flag\", \"access_flag\", \"password\", \"global_id\", \"geodata_center\", \"geoarea\", \"unnamed: 15\" ], axis=1)"
   ]
  },
  {
   "cell_type": "markdown",
   "id": "0cb4b696",
   "metadata": {},
   "source": [
    "Посмотрим на получившуюся базу данных"
   ]
  },
  {
   "cell_type": "code",
   "execution_count": 7,
   "id": "22435dad",
   "metadata": {},
   "outputs": [
    {
     "data": {
      "text/html": [
       "<div>\n",
       "<style scoped>\n",
       "    .dataframe tbody tr th:only-of-type {\n",
       "        vertical-align: middle;\n",
       "    }\n",
       "\n",
       "    .dataframe tbody tr th {\n",
       "        vertical-align: top;\n",
       "    }\n",
       "\n",
       "    .dataframe thead th {\n",
       "        text-align: right;\n",
       "    }\n",
       "</style>\n",
       "<table border=\"1\" class=\"dataframe\">\n",
       "  <thead>\n",
       "    <tr style=\"text-align: right;\">\n",
       "      <th></th>\n",
       "      <th>latitude__w_g_s84</th>\n",
       "      <th>district</th>\n",
       "      <th>location</th>\n",
       "      <th>number_of_access_points</th>\n",
       "      <th>longitude__w_g_s84</th>\n",
       "    </tr>\n",
       "  </thead>\n",
       "  <tbody>\n",
       "    <tr>\n",
       "      <th>0</th>\n",
       "      <td>55.769309</td>\n",
       "      <td>Басманный район</td>\n",
       "      <td>город Москва, Новая Басманная улица, дом 4, ст...</td>\n",
       "      <td>1</td>\n",
       "      <td>37.653085</td>\n",
       "    </tr>\n",
       "    <tr>\n",
       "      <th>1</th>\n",
       "      <td>55.769692</td>\n",
       "      <td>Красносельский район</td>\n",
       "      <td>город Москва, Новая Басманная улица, дом 7</td>\n",
       "      <td>2</td>\n",
       "      <td>37.654458</td>\n",
       "    </tr>\n",
       "    <tr>\n",
       "      <th>2</th>\n",
       "      <td>55.765217</td>\n",
       "      <td>Басманный район</td>\n",
       "      <td>город Москва, Старая Басманная улица, дом 13, ...</td>\n",
       "      <td>2</td>\n",
       "      <td>37.659378</td>\n",
       "    </tr>\n",
       "    <tr>\n",
       "      <th>3</th>\n",
       "      <td>55.767529</td>\n",
       "      <td>Басманный район</td>\n",
       "      <td>город Москва, Старая Басманная улица, дом 22</td>\n",
       "      <td>1</td>\n",
       "      <td>37.666265</td>\n",
       "    </tr>\n",
       "    <tr>\n",
       "      <th>4</th>\n",
       "      <td>55.767096</td>\n",
       "      <td>Басманный район</td>\n",
       "      <td>город Москва, Старая Басманная улица, дом 23/9...</td>\n",
       "      <td>2</td>\n",
       "      <td>37.664447</td>\n",
       "    </tr>\n",
       "    <tr>\n",
       "      <th>5</th>\n",
       "      <td>55.768621</td>\n",
       "      <td>Басманный район</td>\n",
       "      <td>город Москва, Старая Басманная улица, дом 33</td>\n",
       "      <td>2</td>\n",
       "      <td>37.667455</td>\n",
       "    </tr>\n",
       "    <tr>\n",
       "      <th>6</th>\n",
       "      <td>55.768976</td>\n",
       "      <td>Басманный район</td>\n",
       "      <td>город Москва, Старая Басманная улица, дом 34</td>\n",
       "      <td>2</td>\n",
       "      <td>37.668718</td>\n",
       "    </tr>\n",
       "    <tr>\n",
       "      <th>7</th>\n",
       "      <td>55.769270</td>\n",
       "      <td>Басманный район</td>\n",
       "      <td>город Москва, Старая Басманная улица, дом 38/2...</td>\n",
       "      <td>1</td>\n",
       "      <td>37.669298</td>\n",
       "    </tr>\n",
       "    <tr>\n",
       "      <th>8</th>\n",
       "      <td>55.773183</td>\n",
       "      <td>Басманный район</td>\n",
       "      <td>город Москва, Бауманская улица, дом 33/2, стро...</td>\n",
       "      <td>2</td>\n",
       "      <td>37.678905</td>\n",
       "    </tr>\n",
       "    <tr>\n",
       "      <th>9</th>\n",
       "      <td>55.772561</td>\n",
       "      <td>Басманный район</td>\n",
       "      <td>город Москва, Бауманская улица, дом 33/2, стро...</td>\n",
       "      <td>1</td>\n",
       "      <td>37.678719</td>\n",
       "    </tr>\n",
       "    <tr>\n",
       "      <th>10</th>\n",
       "      <td>55.772552</td>\n",
       "      <td>Басманный район</td>\n",
       "      <td>город Москва, Бауманская улица, дом 33/2, стро...</td>\n",
       "      <td>1</td>\n",
       "      <td>37.678719</td>\n",
       "    </tr>\n",
       "    <tr>\n",
       "      <th>11</th>\n",
       "      <td>55.770899</td>\n",
       "      <td>Басманный район</td>\n",
       "      <td>город Москва, Бауманская улица, дом 42</td>\n",
       "      <td>1</td>\n",
       "      <td>37.678759</td>\n",
       "    </tr>\n",
       "    <tr>\n",
       "      <th>12</th>\n",
       "      <td>55.770882</td>\n",
       "      <td>Басманный район</td>\n",
       "      <td>город Москва, Бауманская улица, дом 42</td>\n",
       "      <td>1</td>\n",
       "      <td>37.678840</td>\n",
       "    </tr>\n",
       "    <tr>\n",
       "      <th>13</th>\n",
       "      <td>55.769932</td>\n",
       "      <td>Басманный район</td>\n",
       "      <td>город Москва, Бауманская улица, дом 48/13</td>\n",
       "      <td>1</td>\n",
       "      <td>37.679047</td>\n",
       "    </tr>\n",
       "    <tr>\n",
       "      <th>14</th>\n",
       "      <td>55.769923</td>\n",
       "      <td>Басманный район</td>\n",
       "      <td>город Москва, Бауманская улица, дом 48/13</td>\n",
       "      <td>1</td>\n",
       "      <td>37.679031</td>\n",
       "    </tr>\n",
       "    <tr>\n",
       "      <th>15</th>\n",
       "      <td>55.768838</td>\n",
       "      <td>Басманный район</td>\n",
       "      <td>город Москва, Бауманская улица, дом 56/17, стр...</td>\n",
       "      <td>1</td>\n",
       "      <td>37.679307</td>\n",
       "    </tr>\n",
       "    <tr>\n",
       "      <th>16</th>\n",
       "      <td>55.768829</td>\n",
       "      <td>Басманный район</td>\n",
       "      <td>город Москва, Бауманская улица, дом 56/17, стр...</td>\n",
       "      <td>1</td>\n",
       "      <td>37.679308</td>\n",
       "    </tr>\n",
       "    <tr>\n",
       "      <th>17</th>\n",
       "      <td>55.736601</td>\n",
       "      <td>район Замоскворечье</td>\n",
       "      <td>город Москва, улица Бахрушина, дом 1, строение 1</td>\n",
       "      <td>1</td>\n",
       "      <td>37.634557</td>\n",
       "    </tr>\n",
       "    <tr>\n",
       "      <th>18</th>\n",
       "      <td>55.736592</td>\n",
       "      <td>район Замоскворечье</td>\n",
       "      <td>город Москва, улица Бахрушина, дом 1, строение 1</td>\n",
       "      <td>1</td>\n",
       "      <td>37.634573</td>\n",
       "    </tr>\n",
       "    <tr>\n",
       "      <th>19</th>\n",
       "      <td>55.734739</td>\n",
       "      <td>район Замоскворечье</td>\n",
       "      <td>город Москва, улица Бахрушина, дом 17, строение 1</td>\n",
       "      <td>1</td>\n",
       "      <td>37.636040</td>\n",
       "    </tr>\n",
       "  </tbody>\n",
       "</table>\n",
       "</div>"
      ],
      "text/plain": [
       "    latitude__w_g_s84              district  \\\n",
       "0           55.769309       Басманный район   \n",
       "1           55.769692  Красносельский район   \n",
       "2           55.765217       Басманный район   \n",
       "3           55.767529       Басманный район   \n",
       "4           55.767096       Басманный район   \n",
       "5           55.768621       Басманный район   \n",
       "6           55.768976       Басманный район   \n",
       "7           55.769270       Басманный район   \n",
       "8           55.773183       Басманный район   \n",
       "9           55.772561       Басманный район   \n",
       "10          55.772552       Басманный район   \n",
       "11          55.770899       Басманный район   \n",
       "12          55.770882       Басманный район   \n",
       "13          55.769932       Басманный район   \n",
       "14          55.769923       Басманный район   \n",
       "15          55.768838       Басманный район   \n",
       "16          55.768829       Басманный район   \n",
       "17          55.736601   район Замоскворечье   \n",
       "18          55.736592   район Замоскворечье   \n",
       "19          55.734739   район Замоскворечье   \n",
       "\n",
       "                                             location  \\\n",
       "0   город Москва, Новая Басманная улица, дом 4, ст...   \n",
       "1          город Москва, Новая Басманная улица, дом 7   \n",
       "2   город Москва, Старая Басманная улица, дом 13, ...   \n",
       "3        город Москва, Старая Басманная улица, дом 22   \n",
       "4   город Москва, Старая Басманная улица, дом 23/9...   \n",
       "5        город Москва, Старая Басманная улица, дом 33   \n",
       "6        город Москва, Старая Басманная улица, дом 34   \n",
       "7   город Москва, Старая Басманная улица, дом 38/2...   \n",
       "8   город Москва, Бауманская улица, дом 33/2, стро...   \n",
       "9   город Москва, Бауманская улица, дом 33/2, стро...   \n",
       "10  город Москва, Бауманская улица, дом 33/2, стро...   \n",
       "11             город Москва, Бауманская улица, дом 42   \n",
       "12             город Москва, Бауманская улица, дом 42   \n",
       "13          город Москва, Бауманская улица, дом 48/13   \n",
       "14          город Москва, Бауманская улица, дом 48/13   \n",
       "15  город Москва, Бауманская улица, дом 56/17, стр...   \n",
       "16  город Москва, Бауманская улица, дом 56/17, стр...   \n",
       "17   город Москва, улица Бахрушина, дом 1, строение 1   \n",
       "18   город Москва, улица Бахрушина, дом 1, строение 1   \n",
       "19  город Москва, улица Бахрушина, дом 17, строение 1   \n",
       "\n",
       "    number_of_access_points  longitude__w_g_s84  \n",
       "0                         1           37.653085  \n",
       "1                         2           37.654458  \n",
       "2                         2           37.659378  \n",
       "3                         1           37.666265  \n",
       "4                         2           37.664447  \n",
       "5                         2           37.667455  \n",
       "6                         2           37.668718  \n",
       "7                         1           37.669298  \n",
       "8                         2           37.678905  \n",
       "9                         1           37.678719  \n",
       "10                        1           37.678719  \n",
       "11                        1           37.678759  \n",
       "12                        1           37.678840  \n",
       "13                        1           37.679047  \n",
       "14                        1           37.679031  \n",
       "15                        1           37.679307  \n",
       "16                        1           37.679308  \n",
       "17                        1           37.634557  \n",
       "18                        1           37.634573  \n",
       "19                        1           37.636040  "
      ]
     },
     "execution_count": 7,
     "metadata": {},
     "output_type": "execute_result"
    }
   ],
   "source": [
    "df.head(20)"
   ]
  },
  {
   "cell_type": "markdown",
   "id": "9f2239fd",
   "metadata": {},
   "source": [
    "Проверим на дубликаты"
   ]
  },
  {
   "cell_type": "code",
   "execution_count": 8,
   "id": "27ef668b",
   "metadata": {},
   "outputs": [
    {
     "data": {
      "text/plain": [
       "0"
      ]
     },
     "execution_count": 8,
     "metadata": {},
     "output_type": "execute_result"
    }
   ],
   "source": [
    "df.duplicated().sum()"
   ]
  },
  {
   "cell_type": "markdown",
   "id": "09de00a0",
   "metadata": {},
   "source": [
    "Дубликатов нет. \n",
    "## Посчитайте для каждого района Москвы количество точек доступа в этом районе.\n",
    "Создадим сводную таблицу, где для каждого района посчитаем сумму доступных точек wi-fi"
   ]
  },
  {
   "cell_type": "code",
   "execution_count": 9,
   "id": "d189f969",
   "metadata": {},
   "outputs": [],
   "source": [
    "df1 = pd.pivot_table(df, values='number_of_access_points', index='district',\n",
    " aggfunc='sum')"
   ]
  },
  {
   "cell_type": "markdown",
   "id": "ed1c44a1",
   "metadata": {},
   "source": [
    "Выведем ее"
   ]
  },
  {
   "cell_type": "code",
   "execution_count": 10,
   "id": "72853bbf",
   "metadata": {
    "scrolled": true
   },
   "outputs": [
    {
     "data": {
      "text/html": [
       "<div>\n",
       "<style scoped>\n",
       "    .dataframe tbody tr th:only-of-type {\n",
       "        vertical-align: middle;\n",
       "    }\n",
       "\n",
       "    .dataframe tbody tr th {\n",
       "        vertical-align: top;\n",
       "    }\n",
       "\n",
       "    .dataframe thead th {\n",
       "        text-align: right;\n",
       "    }\n",
       "</style>\n",
       "<table border=\"1\" class=\"dataframe\">\n",
       "  <thead>\n",
       "    <tr style=\"text-align: right;\">\n",
       "      <th></th>\n",
       "      <th>number_of_access_points</th>\n",
       "    </tr>\n",
       "    <tr>\n",
       "      <th>district</th>\n",
       "      <th></th>\n",
       "    </tr>\n",
       "  </thead>\n",
       "  <tbody>\n",
       "    <tr>\n",
       "      <th>Басманный район</th>\n",
       "      <td>353</td>\n",
       "    </tr>\n",
       "    <tr>\n",
       "      <th>Бутырский район</th>\n",
       "      <td>3</td>\n",
       "    </tr>\n",
       "    <tr>\n",
       "      <th>Гагаринский район</th>\n",
       "      <td>4</td>\n",
       "    </tr>\n",
       "    <tr>\n",
       "      <th>Даниловский район</th>\n",
       "      <td>203</td>\n",
       "    </tr>\n",
       "    <tr>\n",
       "      <th>Донской район</th>\n",
       "      <td>101</td>\n",
       "    </tr>\n",
       "    <tr>\n",
       "      <th>Красносельский район</th>\n",
       "      <td>180</td>\n",
       "    </tr>\n",
       "    <tr>\n",
       "      <th>Мещанский район</th>\n",
       "      <td>265</td>\n",
       "    </tr>\n",
       "    <tr>\n",
       "      <th>Нижегородский район</th>\n",
       "      <td>4</td>\n",
       "    </tr>\n",
       "    <tr>\n",
       "      <th>Пресненский район</th>\n",
       "      <td>507</td>\n",
       "    </tr>\n",
       "    <tr>\n",
       "      <th>Таганский район</th>\n",
       "      <td>251</td>\n",
       "    </tr>\n",
       "  </tbody>\n",
       "</table>\n",
       "</div>"
      ],
      "text/plain": [
       "                      number_of_access_points\n",
       "district                                     \n",
       "Басманный район                           353\n",
       "Бутырский район                             3\n",
       "Гагаринский район                           4\n",
       "Даниловский район                         203\n",
       "Донской район                             101\n",
       "Красносельский район                      180\n",
       "Мещанский район                           265\n",
       "Нижегородский район                         4\n",
       "Пресненский район                         507\n",
       "Таганский район                           251"
      ]
     },
     "execution_count": 10,
     "metadata": {},
     "output_type": "execute_result"
    }
   ],
   "source": [
    "df1.head(10)"
   ]
  },
  {
   "cell_type": "markdown",
   "id": "c38a3a41",
   "metadata": {},
   "source": [
    "Отсортируем таблицу по количеству точек доступа"
   ]
  },
  {
   "cell_type": "code",
   "execution_count": 11,
   "id": "8a86af76",
   "metadata": {
    "scrolled": true
   },
   "outputs": [
    {
     "data": {
      "text/html": [
       "<div>\n",
       "<style scoped>\n",
       "    .dataframe tbody tr th:only-of-type {\n",
       "        vertical-align: middle;\n",
       "    }\n",
       "\n",
       "    .dataframe tbody tr th {\n",
       "        vertical-align: top;\n",
       "    }\n",
       "\n",
       "    .dataframe thead th {\n",
       "        text-align: right;\n",
       "    }\n",
       "</style>\n",
       "<table border=\"1\" class=\"dataframe\">\n",
       "  <thead>\n",
       "    <tr style=\"text-align: right;\">\n",
       "      <th></th>\n",
       "      <th>number_of_access_points</th>\n",
       "    </tr>\n",
       "    <tr>\n",
       "      <th>district</th>\n",
       "      <th></th>\n",
       "    </tr>\n",
       "  </thead>\n",
       "  <tbody>\n",
       "    <tr>\n",
       "      <th>район Проспект Вернадского</th>\n",
       "      <td>2</td>\n",
       "    </tr>\n",
       "    <tr>\n",
       "      <th>Бутырский район</th>\n",
       "      <td>3</td>\n",
       "    </tr>\n",
       "    <tr>\n",
       "      <th>Хорошёвский район</th>\n",
       "      <td>4</td>\n",
       "    </tr>\n",
       "    <tr>\n",
       "      <th>Гагаринский район</th>\n",
       "      <td>4</td>\n",
       "    </tr>\n",
       "    <tr>\n",
       "      <th>Нижегородский район</th>\n",
       "      <td>4</td>\n",
       "    </tr>\n",
       "    <tr>\n",
       "      <th>Южнопортовый район</th>\n",
       "      <td>6</td>\n",
       "    </tr>\n",
       "    <tr>\n",
       "      <th>район Марьино</th>\n",
       "      <td>10</td>\n",
       "    </tr>\n",
       "    <tr>\n",
       "      <th>район Лефортово</th>\n",
       "      <td>12</td>\n",
       "    </tr>\n",
       "    <tr>\n",
       "      <th>район Марьина Роща</th>\n",
       "      <td>37</td>\n",
       "    </tr>\n",
       "    <tr>\n",
       "      <th>район Беговой</th>\n",
       "      <td>44</td>\n",
       "    </tr>\n",
       "    <tr>\n",
       "      <th>Донской район</th>\n",
       "      <td>101</td>\n",
       "    </tr>\n",
       "    <tr>\n",
       "      <th>район Дорогомилово</th>\n",
       "      <td>102</td>\n",
       "    </tr>\n",
       "    <tr>\n",
       "      <th>район Арбат</th>\n",
       "      <td>178</td>\n",
       "    </tr>\n",
       "    <tr>\n",
       "      <th>Красносельский район</th>\n",
       "      <td>180</td>\n",
       "    </tr>\n",
       "    <tr>\n",
       "      <th>Даниловский район</th>\n",
       "      <td>203</td>\n",
       "    </tr>\n",
       "    <tr>\n",
       "      <th>район Якиманка</th>\n",
       "      <td>223</td>\n",
       "    </tr>\n",
       "    <tr>\n",
       "      <th>Таганский район</th>\n",
       "      <td>251</td>\n",
       "    </tr>\n",
       "    <tr>\n",
       "      <th>Мещанский район</th>\n",
       "      <td>265</td>\n",
       "    </tr>\n",
       "    <tr>\n",
       "      <th>район Замоскворечье</th>\n",
       "      <td>347</td>\n",
       "    </tr>\n",
       "    <tr>\n",
       "      <th>Басманный район</th>\n",
       "      <td>353</td>\n",
       "    </tr>\n",
       "    <tr>\n",
       "      <th>район Хамовники</th>\n",
       "      <td>428</td>\n",
       "    </tr>\n",
       "    <tr>\n",
       "      <th>Тверской район</th>\n",
       "      <td>501</td>\n",
       "    </tr>\n",
       "    <tr>\n",
       "      <th>Пресненский район</th>\n",
       "      <td>507</td>\n",
       "    </tr>\n",
       "  </tbody>\n",
       "</table>\n",
       "</div>"
      ],
      "text/plain": [
       "                            number_of_access_points\n",
       "district                                           \n",
       "район Проспект Вернадского                        2\n",
       "Бутырский район                                   3\n",
       "Хорошёвский район                                 4\n",
       "Гагаринский район                                 4\n",
       "Нижегородский район                               4\n",
       "Южнопортовый район                                6\n",
       "район Марьино                                    10\n",
       "район Лефортово                                  12\n",
       "район Марьина Роща                               37\n",
       "район Беговой                                    44\n",
       "Донской район                                   101\n",
       "район Дорогомилово                              102\n",
       "район Арбат                                     178\n",
       "Красносельский район                            180\n",
       "Даниловский район                               203\n",
       "район Якиманка                                  223\n",
       "Таганский район                                 251\n",
       "Мещанский район                                 265\n",
       "район Замоскворечье                             347\n",
       "Басманный район                                 353\n",
       "район Хамовники                                 428\n",
       "Тверской район                                  501\n",
       "Пресненский район                               507"
      ]
     },
     "execution_count": 11,
     "metadata": {},
     "output_type": "execute_result"
    }
   ],
   "source": [
    "df1.sort_values('number_of_access_points')"
   ]
  },
  {
   "cell_type": "markdown",
   "id": "1b911c1c",
   "metadata": {},
   "source": [
    "## Найдите ближайшую к школе Летово точку доступа городского Wi-Fi.\n",
    "Посчитаем расстояние от школы Летово до каждой точки доступа и выведем адресс ближайшей точки wi-fi. Для этого найдем координаты школы в интернете. Они равны (55.55749672243329, 37.42259192492016)"
   ]
  },
  {
   "cell_type": "code",
   "execution_count": 12,
   "id": "b0128c6d",
   "metadata": {},
   "outputs": [
    {
     "name": "stdout",
     "output_type": "stream",
     "text": [
      "город Москва, проспект Вернадского, дом 56 \n",
      " 13.616868115888428 километров\n"
     ]
    }
   ],
   "source": [
    "\n",
    "\n",
    "\n",
    "def calculating(x1, y1, x2, y2):\n",
    "    r = 6372.8\n",
    "    d1 = radians(x2 - x1)\n",
    "    d2 = radians(y2 - y1)\n",
    "    x1 = radians(x1)\n",
    "    x2 = radians(x2)\n",
    "    a = sin(d1/2)**2 + cos(x1)*cos(x2)*sin(d2/2)**2\n",
    "    c = 2 * asin(sqrt(a))\n",
    "    return r * c\n",
    "\n",
    "\n",
    "\n",
    "x1 = 55.55749672243329\n",
    "y1 = 37.42259192492016\n",
    "\n",
    "\n",
    "min_distance = 10000000.0\n",
    "\n",
    "for i, row in df.iterrows():\n",
    "    x2 = row['latitude__w_g_s84']\n",
    "    y2 = row['longitude__w_g_s84']\n",
    "    distance = calculating(x1, y1, x2, y2)\n",
    "    if distance < min_distance:\n",
    "        min_distance = distance\n",
    "        nearest = row\n",
    "\n",
    "print(nearest['location'], \"\\n\", min_distance, \"километров\")\n"
   ]
  },
  {
   "cell_type": "code",
   "execution_count": null,
   "id": "75bdd1e6",
   "metadata": {},
   "outputs": [],
   "source": []
  }
 ],
 "metadata": {
  "kernelspec": {
   "display_name": "Python 3 (ipykernel)",
   "language": "python",
   "name": "python3"
  },
  "language_info": {
   "codemirror_mode": {
    "name": "ipython",
    "version": 3
   },
   "file_extension": ".py",
   "mimetype": "text/x-python",
   "name": "python",
   "nbconvert_exporter": "python",
   "pygments_lexer": "ipython3",
   "version": "3.12.7"
  }
 },
 "nbformat": 4,
 "nbformat_minor": 5
}
