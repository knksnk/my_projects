{
 "cells": [
  {
   "cell_type": "markdown",
   "id": "9f73cfb2",
   "metadata": {},
   "source": [
    "# Титаник\n",
    "**Источник:** <br>https://www.kaggle.com/competitions/titanic/overview\n",
    "<br>\n",
    "<br>\n",
    "**Цели:**\n",
    "<br>\n",
    "● построить модель, позволяющую по имеющимся параметрам предсказать выживет или нет пассажир Титаника.\n",
    "<br>\n",
    "<br>\n",
    "**Задачи:** <br>● Подготовить данные к построению модели\n",
    "<br>\n",
    "● Построить модель\n",
    "<br>\n",
    "**Входные данные:** <br>входные данные представляют собой файл csv, содержащий в себе информацию о пасажирах титаника\n",
    "<br>\n",
    "<br>\n",
    "**Используемые библиотеки:** <br>pandas\n",
    "<br>numpy\n",
    "<br>re\n",
    "<br>matplotlib\n",
    "<br>seaborn\n",
    "<br>sklearn\n",
    "<br>\n",
    "Для начала импортируем библиотеки"
   ]
  },
  {
   "cell_type": "code",
   "execution_count": 1,
   "id": "8b9a2858",
   "metadata": {},
   "outputs": [],
   "source": [
    "import pandas as pd\n",
    "import numpy as np\n",
    "import matplotlib.pyplot as plt\n",
    "import seaborn as sns\n",
    "from sklearn import datasets\n",
    "from sklearn.linear_model import LogisticRegression\n",
    "from sklearn.metrics import f1_score\n",
    "from sklearn.preprocessing import StandardScaler \n",
    "from sklearn.model_selection import train_test_split\n"
   ]
  },
  {
   "cell_type": "markdown",
   "id": "ef233df9",
   "metadata": {},
   "source": [
    "Считаем файл"
   ]
  },
  {
   "cell_type": "code",
   "execution_count": 2,
   "id": "4750e534",
   "metadata": {},
   "outputs": [],
   "source": [
    "df = pd.read_csv(\"train.csv\")"
   ]
  },
  {
   "cell_type": "markdown",
   "id": "41da7ae8",
   "metadata": {},
   "source": [
    "Выведем основную информацию о файле"
   ]
  },
  {
   "cell_type": "code",
   "execution_count": 3,
   "id": "2063429f",
   "metadata": {
    "scrolled": true
   },
   "outputs": [
    {
     "name": "stdout",
     "output_type": "stream",
     "text": [
      "<class 'pandas.core.frame.DataFrame'>\n",
      "RangeIndex: 891 entries, 0 to 890\n",
      "Data columns (total 12 columns):\n",
      " #   Column       Non-Null Count  Dtype  \n",
      "---  ------       --------------  -----  \n",
      " 0   PassengerId  891 non-null    int64  \n",
      " 1   Survived     891 non-null    int64  \n",
      " 2   Pclass       891 non-null    int64  \n",
      " 3   Name         891 non-null    object \n",
      " 4   Sex          891 non-null    object \n",
      " 5   Age          714 non-null    float64\n",
      " 6   SibSp        891 non-null    int64  \n",
      " 7   Parch        891 non-null    int64  \n",
      " 8   Ticket       891 non-null    object \n",
      " 9   Fare         891 non-null    float64\n",
      " 10  Cabin        204 non-null    object \n",
      " 11  Embarked     889 non-null    object \n",
      "dtypes: float64(2), int64(5), object(5)\n",
      "memory usage: 83.7+ KB\n"
     ]
    }
   ],
   "source": [
    "df.info()"
   ]
  },
  {
   "cell_type": "markdown",
   "id": "e8ac131f",
   "metadata": {},
   "source": [
    "891 строк и 12 столбцов. ТИпы данных совпадают с информацией в каждом соответсвующем столбце. Посмотрим на сам датасет"
   ]
  },
  {
   "cell_type": "code",
   "execution_count": 4,
   "id": "a4e07901",
   "metadata": {
    "scrolled": true
   },
   "outputs": [
    {
     "data": {
      "text/html": [
       "<div>\n",
       "<style scoped>\n",
       "    .dataframe tbody tr th:only-of-type {\n",
       "        vertical-align: middle;\n",
       "    }\n",
       "\n",
       "    .dataframe tbody tr th {\n",
       "        vertical-align: top;\n",
       "    }\n",
       "\n",
       "    .dataframe thead th {\n",
       "        text-align: right;\n",
       "    }\n",
       "</style>\n",
       "<table border=\"1\" class=\"dataframe\">\n",
       "  <thead>\n",
       "    <tr style=\"text-align: right;\">\n",
       "      <th></th>\n",
       "      <th>PassengerId</th>\n",
       "      <th>Survived</th>\n",
       "      <th>Pclass</th>\n",
       "      <th>Name</th>\n",
       "      <th>Sex</th>\n",
       "      <th>Age</th>\n",
       "      <th>SibSp</th>\n",
       "      <th>Parch</th>\n",
       "      <th>Ticket</th>\n",
       "      <th>Fare</th>\n",
       "      <th>Cabin</th>\n",
       "      <th>Embarked</th>\n",
       "    </tr>\n",
       "  </thead>\n",
       "  <tbody>\n",
       "    <tr>\n",
       "      <th>0</th>\n",
       "      <td>1</td>\n",
       "      <td>0</td>\n",
       "      <td>3</td>\n",
       "      <td>Braund, Mr. Owen Harris</td>\n",
       "      <td>male</td>\n",
       "      <td>22.0</td>\n",
       "      <td>1</td>\n",
       "      <td>0</td>\n",
       "      <td>A/5 21171</td>\n",
       "      <td>7.2500</td>\n",
       "      <td>NaN</td>\n",
       "      <td>S</td>\n",
       "    </tr>\n",
       "    <tr>\n",
       "      <th>1</th>\n",
       "      <td>2</td>\n",
       "      <td>1</td>\n",
       "      <td>1</td>\n",
       "      <td>Cumings, Mrs. John Bradley (Florence Briggs Th...</td>\n",
       "      <td>female</td>\n",
       "      <td>38.0</td>\n",
       "      <td>1</td>\n",
       "      <td>0</td>\n",
       "      <td>PC 17599</td>\n",
       "      <td>71.2833</td>\n",
       "      <td>C85</td>\n",
       "      <td>C</td>\n",
       "    </tr>\n",
       "    <tr>\n",
       "      <th>2</th>\n",
       "      <td>3</td>\n",
       "      <td>1</td>\n",
       "      <td>3</td>\n",
       "      <td>Heikkinen, Miss. Laina</td>\n",
       "      <td>female</td>\n",
       "      <td>26.0</td>\n",
       "      <td>0</td>\n",
       "      <td>0</td>\n",
       "      <td>STON/O2. 3101282</td>\n",
       "      <td>7.9250</td>\n",
       "      <td>NaN</td>\n",
       "      <td>S</td>\n",
       "    </tr>\n",
       "    <tr>\n",
       "      <th>3</th>\n",
       "      <td>4</td>\n",
       "      <td>1</td>\n",
       "      <td>1</td>\n",
       "      <td>Futrelle, Mrs. Jacques Heath (Lily May Peel)</td>\n",
       "      <td>female</td>\n",
       "      <td>35.0</td>\n",
       "      <td>1</td>\n",
       "      <td>0</td>\n",
       "      <td>113803</td>\n",
       "      <td>53.1000</td>\n",
       "      <td>C123</td>\n",
       "      <td>S</td>\n",
       "    </tr>\n",
       "    <tr>\n",
       "      <th>4</th>\n",
       "      <td>5</td>\n",
       "      <td>0</td>\n",
       "      <td>3</td>\n",
       "      <td>Allen, Mr. William Henry</td>\n",
       "      <td>male</td>\n",
       "      <td>35.0</td>\n",
       "      <td>0</td>\n",
       "      <td>0</td>\n",
       "      <td>373450</td>\n",
       "      <td>8.0500</td>\n",
       "      <td>NaN</td>\n",
       "      <td>S</td>\n",
       "    </tr>\n",
       "  </tbody>\n",
       "</table>\n",
       "</div>"
      ],
      "text/plain": [
       "   PassengerId  Survived  Pclass  \\\n",
       "0            1         0       3   \n",
       "1            2         1       1   \n",
       "2            3         1       3   \n",
       "3            4         1       1   \n",
       "4            5         0       3   \n",
       "\n",
       "                                                Name     Sex   Age  SibSp  \\\n",
       "0                            Braund, Mr. Owen Harris    male  22.0      1   \n",
       "1  Cumings, Mrs. John Bradley (Florence Briggs Th...  female  38.0      1   \n",
       "2                             Heikkinen, Miss. Laina  female  26.0      0   \n",
       "3       Futrelle, Mrs. Jacques Heath (Lily May Peel)  female  35.0      1   \n",
       "4                           Allen, Mr. William Henry    male  35.0      0   \n",
       "\n",
       "   Parch            Ticket     Fare Cabin Embarked  \n",
       "0      0         A/5 21171   7.2500   NaN        S  \n",
       "1      0          PC 17599  71.2833   C85        C  \n",
       "2      0  STON/O2. 3101282   7.9250   NaN        S  \n",
       "3      0            113803  53.1000  C123        S  \n",
       "4      0            373450   8.0500   NaN        S  "
      ]
     },
     "execution_count": 4,
     "metadata": {},
     "output_type": "execute_result"
    }
   ],
   "source": [
    "df.head()"
   ]
  },
  {
   "cell_type": "markdown",
   "id": "1adc5f6a",
   "metadata": {},
   "source": [
    "Приведем названия столбцов к snake_case"
   ]
  },
  {
   "cell_type": "code",
   "execution_count": 5,
   "id": "0a4d34a4",
   "metadata": {
    "scrolled": true
   },
   "outputs": [
    {
     "name": "stderr",
     "output_type": "stream",
     "text": [
      "/var/folders/rt/mvnmln8j70d9fmnh5b6pl1qr0000gn/T/ipykernel_24668/1081600409.py:1: FutureWarning: The default value of regex will change from True to False in a future version.\n",
      "  df.columns = df.columns.str.replace(r'(?<!^)(?=[A-Z])', \"_\").str.lower()\n"
     ]
    }
   ],
   "source": [
    "df.columns = df.columns.str.replace(r'(?<!^)(?=[A-Z])', \"_\").str.lower()"
   ]
  },
  {
   "cell_type": "markdown",
   "id": "335ae6cb",
   "metadata": {},
   "source": [
    "Проверим на пропуски:"
   ]
  },
  {
   "cell_type": "code",
   "execution_count": 6,
   "id": "e808147c",
   "metadata": {},
   "outputs": [
    {
     "data": {
      "text/plain": [
       "passenger_id    0.000000\n",
       "survived        0.000000\n",
       "pclass          0.000000\n",
       "name            0.000000\n",
       "sex             0.000000\n",
       "age             0.198653\n",
       "sib_sp          0.000000\n",
       "parch           0.000000\n",
       "ticket          0.000000\n",
       "fare            0.000000\n",
       "cabin           0.771044\n",
       "embarked        0.002245\n",
       "dtype: float64"
      ]
     },
     "execution_count": 6,
     "metadata": {},
     "output_type": "execute_result"
    }
   ],
   "source": [
    "df.isna().mean()"
   ]
  },
  {
   "cell_type": "markdown",
   "id": "fae1d7ea",
   "metadata": {},
   "source": [
    "Видим, что пропуски находяться в тех столбцах, где не удасться основываясь на остальных данных предполодить значение (имя, номер кабины...) Пустые значения в столбце cabin заменим на 0"
   ]
  },
  {
   "cell_type": "code",
   "execution_count": 7,
   "id": "6d5b4242",
   "metadata": {
    "scrolled": true
   },
   "outputs": [],
   "source": [
    "df['cabin'] = df['cabin'].fillna(\"0\")"
   ]
  },
  {
   "cell_type": "markdown",
   "id": "118ca0f2",
   "metadata": {},
   "source": [
    "Выкинем лишние столбцы (или те, которые не сможем привести к числовому виду для построения модели)"
   ]
  },
  {
   "cell_type": "code",
   "execution_count": 8,
   "id": "6f7d4658",
   "metadata": {},
   "outputs": [],
   "source": [
    "df = df.drop([\"passenger_id\"], axis=1)\n",
    "df = df.drop([\"name\"], axis=1)\n",
    "df = df.drop([\"cabin\"], axis=1)\n",
    "df = df.drop([\"ticket\"], axis=1)\n"
   ]
  },
  {
   "cell_type": "markdown",
   "id": "d1f4807e",
   "metadata": {},
   "source": [
    "Проверим на неявные дубликаты"
   ]
  },
  {
   "cell_type": "code",
   "execution_count": 9,
   "id": "a3d46c2c",
   "metadata": {},
   "outputs": [
    {
     "data": {
      "text/plain": [
       "male      577\n",
       "female    314\n",
       "Name: sex, dtype: int64"
      ]
     },
     "execution_count": 9,
     "metadata": {},
     "output_type": "execute_result"
    }
   ],
   "source": [
    "df[\"sex\"].value_counts()"
   ]
  },
  {
   "cell_type": "code",
   "execution_count": 10,
   "id": "bbcddd9a",
   "metadata": {},
   "outputs": [
    {
     "data": {
      "text/plain": [
       "0    549\n",
       "1    342\n",
       "Name: survived, dtype: int64"
      ]
     },
     "execution_count": 10,
     "metadata": {},
     "output_type": "execute_result"
    }
   ],
   "source": [
    "df[\"survived\"].value_counts()"
   ]
  },
  {
   "cell_type": "code",
   "execution_count": 11,
   "id": "d08c2e7d",
   "metadata": {
    "scrolled": true
   },
   "outputs": [
    {
     "data": {
      "text/plain": [
       "3    491\n",
       "1    216\n",
       "2    184\n",
       "Name: pclass, dtype: int64"
      ]
     },
     "execution_count": 11,
     "metadata": {},
     "output_type": "execute_result"
    }
   ],
   "source": [
    "df[\"pclass\"].value_counts()"
   ]
  },
  {
   "cell_type": "markdown",
   "id": "07b3fe13",
   "metadata": {},
   "source": [
    "Построим диаграммы размаха, чтобы избавиться от выбросов"
   ]
  },
  {
   "cell_type": "code",
   "execution_count": 12,
   "id": "64d48591",
   "metadata": {},
   "outputs": [
    {
     "data": {
      "image/png": "[encoded data removed]",
      "text/plain": [
       "<Figure size 432x1440 with 4 Axes>"
      ]
     },
     "metadata": {
      "needs_background": "light"
     },
     "output_type": "display_data"
    }
   ],
   "source": [
    "fig, axs = plt.subplots(4, 1, figsize=(6, 20))\n",
    "plt.subplots_adjust(hspace=0.2)\n",
    "fig.suptitle(\"Диаграммы размаха\", fontsize=14, y=0.92)\n",
    "\n",
    "def painting(column, col, axs):\n",
    "    \"\"\"\n",
    "    Функция получает на вход столбец, цвет и позицию, рисует диаграмму размаха по полученным данным\n",
    "    \"\"\"\n",
    "    sns.boxplot(y=df[column], color= col, ax = axs,  boxprops=dict(alpha=.5))\n",
    "    \n",
    "    \n",
    "column = [\"age\", \"sib_sp\", \"parch\", \"fare\"]\n",
    "col = [\"red\", \"purple\", \"gold\", \"red\", \"purple\", \"gold\", \"red\", \"purple\", \"gold\", \"red\", \"purple\", \"gold\"]\n",
    "for i in range(len(column)): \n",
    "    painting(column[i], col[i], axs[i])"
   ]
  },
  {
   "cell_type": "markdown",
   "id": "8dc32815",
   "metadata": {},
   "source": [
    "Уберем выбросы:"
   ]
  },
  {
   "cell_type": "code",
   "execution_count": 13,
   "id": "c848f8d2",
   "metadata": {},
   "outputs": [],
   "source": [
    "Q1 =  df[\"age\"].quantile(0.4)\n",
    "Q3 = df[\"age\"].quantile(0.8)\n",
    "IQR = Q3 - Q1\n",
    "df = df.query(\"@Q1 - 1.5*@IQR < age < @Q3 + 1.5*@IQR\")\n",
    "\n",
    "Q1 =  df[\"parch\"].quantile(0.3)\n",
    "Q3 = df[\"parch\"].quantile(0.8)\n",
    "IQR = Q3 - Q1\n",
    "df = df.query(\"@Q1 - 1.5*@IQR < parch < @Q3 + 1.5*@IQR\")\n",
    "\n",
    "Q1 =  df[\"fare\"].quantile(0.3)\n",
    "Q3 = df[\"fare\"].quantile(0.7)\n",
    "IQR = Q3 - Q1\n",
    "df = df.query(\"@Q1 - 1.5*@IQR < fare < @Q3 + 1.5*@IQR\")"
   ]
  },
  {
   "cell_type": "markdown",
   "id": "9c8063eb",
   "metadata": {},
   "source": [
    "Повторно построим диаграммы размаха и проверим, что стало с выбросами"
   ]
  },
  {
   "cell_type": "code",
   "execution_count": 14,
   "id": "ae45da88",
   "metadata": {
    "scrolled": true
   },
   "outputs": [
    {
     "data": {
      "image/png": "[encoded data removed]",
      "text/plain": [
       "<Figure size 432x1440 with 4 Axes>"
      ]
     },
     "metadata": {
      "needs_background": "light"
     },
     "output_type": "display_data"
    }
   ],
   "source": [
    "fig, axs = plt.subplots(4, 1, figsize=(6, 20))\n",
    "plt.subplots_adjust(hspace=0.2)\n",
    "fig.suptitle(\"Диаграммы размаха\", fontsize=14, y=0.92)\n",
    "\n",
    "def painting(column, col, axs):\n",
    "    \"\"\"\n",
    "    Функция получает на вход столбец, цвет и позицию, рисует диаграмму размаха по полученным данным\n",
    "    \"\"\"\n",
    "    sns.boxplot(y=df[column], color= col, ax = axs,  boxprops=dict(alpha=.5))\n",
    "    \n",
    "    \n",
    "column = [\"age\", \"sib_sp\", \"parch\", \"fare\"]\n",
    "col = [\"red\", \"purple\", \"gold\", \"red\", \"purple\", \"gold\", \"red\", \"purple\", \"gold\", \"red\", \"purple\", \"gold\"]\n",
    "for i in range(len(column)): \n",
    "    painting(column[i], col[i], axs[i])"
   ]
  },
  {
   "cell_type": "markdown",
   "id": "3f5a0edd",
   "metadata": {},
   "source": [
    "Стало лучше (мне не удалось убрать все из-за небольшого объема датасета). Преобразую категориальные признаки в численные"
   ]
  },
  {
   "cell_type": "code",
   "execution_count": 15,
   "id": "882e071d",
   "metadata": {},
   "outputs": [],
   "source": [
    "df = pd.get_dummies(df, columns=['sex'], drop_first= True)\n",
    "df = pd.get_dummies(df, columns=['embarked'], drop_first= True)\n",
    "df = pd.get_dummies(df, columns=['sib_sp'], drop_first= True)\n",
    "df = pd.get_dummies(df, columns=['parch'], drop_first= True)\n",
    "df = pd.get_dummies(df, columns=['pclass'], drop_first= True)\n"
   ]
  },
  {
   "cell_type": "markdown",
   "id": "1dbf6108",
   "metadata": {},
   "source": [
    "Выведу получившийся дата сет"
   ]
  },
  {
   "cell_type": "code",
   "execution_count": 16,
   "id": "53dc92d2",
   "metadata": {},
   "outputs": [
    {
     "data": {
      "text/html": [
       "<div>\n",
       "<style scoped>\n",
       "    .dataframe tbody tr th:only-of-type {\n",
       "        vertical-align: middle;\n",
       "    }\n",
       "\n",
       "    .dataframe tbody tr th {\n",
       "        vertical-align: top;\n",
       "    }\n",
       "\n",
       "    .dataframe thead th {\n",
       "        text-align: right;\n",
       "    }\n",
       "</style>\n",
       "<table border=\"1\" class=\"dataframe\">\n",
       "  <thead>\n",
       "    <tr style=\"text-align: right;\">\n",
       "      <th></th>\n",
       "      <th>survived</th>\n",
       "      <th>age</th>\n",
       "      <th>fare</th>\n",
       "      <th>sex_male</th>\n",
       "      <th>embarked_Q</th>\n",
       "      <th>embarked_S</th>\n",
       "      <th>sib_sp_1</th>\n",
       "      <th>sib_sp_2</th>\n",
       "      <th>sib_sp_3</th>\n",
       "      <th>sib_sp_4</th>\n",
       "      <th>sib_sp_5</th>\n",
       "      <th>parch_1</th>\n",
       "      <th>parch_2</th>\n",
       "      <th>pclass_2</th>\n",
       "      <th>pclass_3</th>\n",
       "    </tr>\n",
       "  </thead>\n",
       "  <tbody>\n",
       "    <tr>\n",
       "      <th>0</th>\n",
       "      <td>0</td>\n",
       "      <td>22.0</td>\n",
       "      <td>7.2500</td>\n",
       "      <td>1</td>\n",
       "      <td>0</td>\n",
       "      <td>1</td>\n",
       "      <td>1</td>\n",
       "      <td>0</td>\n",
       "      <td>0</td>\n",
       "      <td>0</td>\n",
       "      <td>0</td>\n",
       "      <td>0</td>\n",
       "      <td>0</td>\n",
       "      <td>0</td>\n",
       "      <td>1</td>\n",
       "    </tr>\n",
       "    <tr>\n",
       "      <th>2</th>\n",
       "      <td>1</td>\n",
       "      <td>26.0</td>\n",
       "      <td>7.9250</td>\n",
       "      <td>0</td>\n",
       "      <td>0</td>\n",
       "      <td>1</td>\n",
       "      <td>0</td>\n",
       "      <td>0</td>\n",
       "      <td>0</td>\n",
       "      <td>0</td>\n",
       "      <td>0</td>\n",
       "      <td>0</td>\n",
       "      <td>0</td>\n",
       "      <td>0</td>\n",
       "      <td>1</td>\n",
       "    </tr>\n",
       "    <tr>\n",
       "      <th>3</th>\n",
       "      <td>1</td>\n",
       "      <td>35.0</td>\n",
       "      <td>53.1000</td>\n",
       "      <td>0</td>\n",
       "      <td>0</td>\n",
       "      <td>1</td>\n",
       "      <td>1</td>\n",
       "      <td>0</td>\n",
       "      <td>0</td>\n",
       "      <td>0</td>\n",
       "      <td>0</td>\n",
       "      <td>0</td>\n",
       "      <td>0</td>\n",
       "      <td>0</td>\n",
       "      <td>0</td>\n",
       "    </tr>\n",
       "    <tr>\n",
       "      <th>4</th>\n",
       "      <td>0</td>\n",
       "      <td>35.0</td>\n",
       "      <td>8.0500</td>\n",
       "      <td>1</td>\n",
       "      <td>0</td>\n",
       "      <td>1</td>\n",
       "      <td>0</td>\n",
       "      <td>0</td>\n",
       "      <td>0</td>\n",
       "      <td>0</td>\n",
       "      <td>0</td>\n",
       "      <td>0</td>\n",
       "      <td>0</td>\n",
       "      <td>0</td>\n",
       "      <td>1</td>\n",
       "    </tr>\n",
       "    <tr>\n",
       "      <th>6</th>\n",
       "      <td>0</td>\n",
       "      <td>54.0</td>\n",
       "      <td>51.8625</td>\n",
       "      <td>1</td>\n",
       "      <td>0</td>\n",
       "      <td>1</td>\n",
       "      <td>0</td>\n",
       "      <td>0</td>\n",
       "      <td>0</td>\n",
       "      <td>0</td>\n",
       "      <td>0</td>\n",
       "      <td>0</td>\n",
       "      <td>0</td>\n",
       "      <td>0</td>\n",
       "      <td>0</td>\n",
       "    </tr>\n",
       "  </tbody>\n",
       "</table>\n",
       "</div>"
      ],
      "text/plain": [
       "   survived   age     fare  sex_male  embarked_Q  embarked_S  sib_sp_1  \\\n",
       "0         0  22.0   7.2500         1           0           1         1   \n",
       "2         1  26.0   7.9250         0           0           1         0   \n",
       "3         1  35.0  53.1000         0           0           1         1   \n",
       "4         0  35.0   8.0500         1           0           1         0   \n",
       "6         0  54.0  51.8625         1           0           1         0   \n",
       "\n",
       "   sib_sp_2  sib_sp_3  sib_sp_4  sib_sp_5  parch_1  parch_2  pclass_2  \\\n",
       "0         0         0         0         0        0        0         0   \n",
       "2         0         0         0         0        0        0         0   \n",
       "3         0         0         0         0        0        0         0   \n",
       "4         0         0         0         0        0        0         0   \n",
       "6         0         0         0         0        0        0         0   \n",
       "\n",
       "   pclass_3  \n",
       "0         1  \n",
       "2         1  \n",
       "3         0  \n",
       "4         1  \n",
       "6         0  "
      ]
     },
     "execution_count": 16,
     "metadata": {},
     "output_type": "execute_result"
    }
   ],
   "source": [
    "df.head()"
   ]
  },
  {
   "cell_type": "markdown",
   "id": "15c60a40",
   "metadata": {},
   "source": [
    "Выделю признаки и целевой признак."
   ]
  },
  {
   "cell_type": "code",
   "execution_count": 17,
   "id": "7abfb084",
   "metadata": {},
   "outputs": [],
   "source": [
    "target = df[\"survived\"]\n",
    "features = df.drop([\"survived\"], axis=1)"
   ]
  },
  {
   "cell_type": "markdown",
   "id": "1afa3f3f",
   "metadata": {},
   "source": [
    "Считаю файл на котором буду тестировать модель"
   ]
  },
  {
   "cell_type": "code",
   "execution_count": 18,
   "id": "c1d48b84",
   "metadata": {},
   "outputs": [],
   "source": [
    "df1 = pd.read_csv(\"test.csv\")"
   ]
  },
  {
   "cell_type": "markdown",
   "id": "6e58150d",
   "metadata": {},
   "source": [
    "Для удобства и там приведу названия столбцов к snake_case"
   ]
  },
  {
   "cell_type": "code",
   "execution_count": 19,
   "id": "922e7cf3",
   "metadata": {
    "scrolled": true
   },
   "outputs": [
    {
     "name": "stderr",
     "output_type": "stream",
     "text": [
      "/var/folders/rt/mvnmln8j70d9fmnh5b6pl1qr0000gn/T/ipykernel_24668/3011722412.py:1: FutureWarning: The default value of regex will change from True to False in a future version.\n",
      "  df1.columns = df1.columns.str.replace(r'(?<!^)(?=[A-Z])', \"_\").str.lower()\n"
     ]
    }
   ],
   "source": [
    "df1.columns = df1.columns.str.replace(r'(?<!^)(?=[A-Z])', \"_\").str.lower()"
   ]
  },
  {
   "cell_type": "markdown",
   "id": "7621b81d",
   "metadata": {},
   "source": [
    "Выведу датасет"
   ]
  },
  {
   "cell_type": "code",
   "execution_count": 20,
   "id": "9863c75d",
   "metadata": {
    "scrolled": true
   },
   "outputs": [
    {
     "data": {
      "text/html": [
       "<div>\n",
       "<style scoped>\n",
       "    .dataframe tbody tr th:only-of-type {\n",
       "        vertical-align: middle;\n",
       "    }\n",
       "\n",
       "    .dataframe tbody tr th {\n",
       "        vertical-align: top;\n",
       "    }\n",
       "\n",
       "    .dataframe thead th {\n",
       "        text-align: right;\n",
       "    }\n",
       "</style>\n",
       "<table border=\"1\" class=\"dataframe\">\n",
       "  <thead>\n",
       "    <tr style=\"text-align: right;\">\n",
       "      <th></th>\n",
       "      <th>passenger_id</th>\n",
       "      <th>pclass</th>\n",
       "      <th>name</th>\n",
       "      <th>sex</th>\n",
       "      <th>age</th>\n",
       "      <th>sib_sp</th>\n",
       "      <th>parch</th>\n",
       "      <th>ticket</th>\n",
       "      <th>fare</th>\n",
       "      <th>cabin</th>\n",
       "      <th>embarked</th>\n",
       "    </tr>\n",
       "  </thead>\n",
       "  <tbody>\n",
       "    <tr>\n",
       "      <th>0</th>\n",
       "      <td>892</td>\n",
       "      <td>3</td>\n",
       "      <td>Kelly, Mr. James</td>\n",
       "      <td>male</td>\n",
       "      <td>34.5</td>\n",
       "      <td>0</td>\n",
       "      <td>0</td>\n",
       "      <td>330911</td>\n",
       "      <td>7.8292</td>\n",
       "      <td>NaN</td>\n",
       "      <td>Q</td>\n",
       "    </tr>\n",
       "    <tr>\n",
       "      <th>1</th>\n",
       "      <td>893</td>\n",
       "      <td>3</td>\n",
       "      <td>Wilkes, Mrs. James (Ellen Needs)</td>\n",
       "      <td>female</td>\n",
       "      <td>47.0</td>\n",
       "      <td>1</td>\n",
       "      <td>0</td>\n",
       "      <td>363272</td>\n",
       "      <td>7.0000</td>\n",
       "      <td>NaN</td>\n",
       "      <td>S</td>\n",
       "    </tr>\n",
       "    <tr>\n",
       "      <th>2</th>\n",
       "      <td>894</td>\n",
       "      <td>2</td>\n",
       "      <td>Myles, Mr. Thomas Francis</td>\n",
       "      <td>male</td>\n",
       "      <td>62.0</td>\n",
       "      <td>0</td>\n",
       "      <td>0</td>\n",
       "      <td>240276</td>\n",
       "      <td>9.6875</td>\n",
       "      <td>NaN</td>\n",
       "      <td>Q</td>\n",
       "    </tr>\n",
       "    <tr>\n",
       "      <th>3</th>\n",
       "      <td>895</td>\n",
       "      <td>3</td>\n",
       "      <td>Wirz, Mr. Albert</td>\n",
       "      <td>male</td>\n",
       "      <td>27.0</td>\n",
       "      <td>0</td>\n",
       "      <td>0</td>\n",
       "      <td>315154</td>\n",
       "      <td>8.6625</td>\n",
       "      <td>NaN</td>\n",
       "      <td>S</td>\n",
       "    </tr>\n",
       "    <tr>\n",
       "      <th>4</th>\n",
       "      <td>896</td>\n",
       "      <td>3</td>\n",
       "      <td>Hirvonen, Mrs. Alexander (Helga E Lindqvist)</td>\n",
       "      <td>female</td>\n",
       "      <td>22.0</td>\n",
       "      <td>1</td>\n",
       "      <td>1</td>\n",
       "      <td>3101298</td>\n",
       "      <td>12.2875</td>\n",
       "      <td>NaN</td>\n",
       "      <td>S</td>\n",
       "    </tr>\n",
       "  </tbody>\n",
       "</table>\n",
       "</div>"
      ],
      "text/plain": [
       "   passenger_id  pclass                                          name     sex  \\\n",
       "0           892       3                              Kelly, Mr. James    male   \n",
       "1           893       3              Wilkes, Mrs. James (Ellen Needs)  female   \n",
       "2           894       2                     Myles, Mr. Thomas Francis    male   \n",
       "3           895       3                              Wirz, Mr. Albert    male   \n",
       "4           896       3  Hirvonen, Mrs. Alexander (Helga E Lindqvist)  female   \n",
       "\n",
       "    age  sib_sp  parch   ticket     fare cabin embarked  \n",
       "0  34.5       0      0   330911   7.8292   NaN        Q  \n",
       "1  47.0       1      0   363272   7.0000   NaN        S  \n",
       "2  62.0       0      0   240276   9.6875   NaN        Q  \n",
       "3  27.0       0      0   315154   8.6625   NaN        S  \n",
       "4  22.0       1      1  3101298  12.2875   NaN        S  "
      ]
     },
     "execution_count": 20,
     "metadata": {},
     "output_type": "execute_result"
    }
   ],
   "source": [
    "df1.head()"
   ]
  },
  {
   "cell_type": "markdown",
   "id": "e6afb32d",
   "metadata": {},
   "source": [
    "Построим модель и посчитаем метрику f1:"
   ]
  },
  {
   "cell_type": "code",
   "execution_count": 21,
   "id": "8d4a288f",
   "metadata": {},
   "outputs": [],
   "source": [
    "np.random.seed(31415)\n",
    "features_train, features_valid, target_train, target_valid = train_test_split(features, target, test_size=0.25)"
   ]
  },
  {
   "cell_type": "code",
   "execution_count": 22,
   "id": "1c19f612",
   "metadata": {
    "scrolled": true
   },
   "outputs": [
    {
     "name": "stdout",
     "output_type": "stream",
     "text": [
      "0.6888888888888888\n"
     ]
    },
    {
     "name": "stderr",
     "output_type": "stream",
     "text": [
      "/Users/anastasiakula/opt/anaconda3/lib/python3.9/site-packages/sklearn/linear_model/_logistic.py:814: ConvergenceWarning: lbfgs failed to converge (status=1):\n",
      "STOP: TOTAL NO. of ITERATIONS REACHED LIMIT.\n",
      "\n",
      "Increase the number of iterations (max_iter) or scale the data as shown in:\n",
      "    https://scikit-learn.org/stable/modules/preprocessing.html\n",
      "Please also refer to the documentation for alternative solver options:\n",
      "    https://scikit-learn.org/stable/modules/linear_model.html#logistic-regression\n",
      "  n_iter_i = _check_optimize_result(\n"
     ]
    }
   ],
   "source": [
    "model = LogisticRegression()\n",
    "model.fit(features_train, target_train)\n",
    "predictions_valid = model.predict(features_valid)\n",
    "x = f1_score(target_valid, predictions_valid)\n",
    "print(x)"
   ]
  },
  {
   "cell_type": "markdown",
   "id": "45b1b467",
   "metadata": {},
   "source": [
    "## Вывод\n",
    "В процессе небольшой предобработки я главным образом убрала выбросы с помощью построения диаграмм размаха. По результатам построения модели, метрика f1 получилась достаточно близкой к 1, что хорошо. Но мне не удалось использовать файл с тестовыми данными для проверки модели. Я просто отделила 25 процентов, так как я не поняла, как задавать target для второго датасета, ведь там нет столбца \"survived\". Получается, в таком случае, сравнивать будет не с чем. То есть features_valid = df1, но вот target_valid = ?"
   ]
  }
 ],
 "metadata": {
  "kernelspec": {
   "display_name": "Python 3 (ipykernel)",
   "language": "python",
   "name": "python3"
  },
  "language_info": {
   "codemirror_mode": {
    "name": "ipython",
    "version": 3
   },
   "file_extension": ".py",
   "mimetype": "text/x-python",
   "name": "python",
   "nbconvert_exporter": "python",
   "pygments_lexer": "ipython3",
   "version": "3.12.7"
  }
 },
 "nbformat": 4,
 "nbformat_minor": 5
}
